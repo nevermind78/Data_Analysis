{
  "cells": [
    {
      "cell_type": "markdown",
      "metadata": {
        "id": "view-in-github",
        "colab_type": "text"
      },
      "source": [
        "<a href=\"https://colab.research.google.com/github/nevermind78/Data_Analysis/blob/main/EtudeDeCasSQLite3.ipynb\" target=\"_parent\"><img src=\"https://colab.research.google.com/assets/colab-badge.svg\" alt=\"Open In Colab\"/></a>"
      ]
    },
    {
      "cell_type": "code",
      "source": [
        "# import standard libs\n",
        "import os\n",
        "\n",
        "# if on collab pull required subdirectories\n",
        "if os.getenv(\"COLAB_RELEASE_TAG\"): \n",
        "    # install github clone - allows for easy cloning of subdirectories\n",
        "    !pip install github-clone\n",
        "    from pathlib import Path \n",
        "\n",
        "    # clone datasets\n",
        "    if not Path('Data/').is_dir():\n",
        "        !ghclone https://github.com/nevermind78/Data_Analysis/tree/main/Data\n",
        "    else:\n",
        "        print('Data/!')\n",
        "\n",
        "   \n",
        "# append path for local library, data, and image import\n",
        "import sys\n",
        "sys.path.append('./Data')\n"
      ],
      "metadata": {
        "id": "dd7m3InPR_gI"
      },
      "id": "dd7m3InPR_gI",
      "execution_count": null,
      "outputs": []
    },
    {
      "cell_type": "code",
      "execution_count": null,
      "id": "a7e3ca1e",
      "metadata": {
        "id": "a7e3ca1e"
      },
      "outputs": [],
      "source": [
        "import sqlite3\n",
        "import pandas as pd"
      ]
    },
    {
      "cell_type": "markdown",
      "source": [
        "# [Enonce](https://github.com/nevermind78/Data_Analysis/blob/main/Data/ETUDEDECAS.pdf)"
      ],
      "metadata": {
        "id": "MppOxkn0UUKs"
      },
      "id": "MppOxkn0UUKs"
    },
    {
      "cell_type": "code",
      "source": [],
      "metadata": {
        "id": "vFs025TzUTFF"
      },
      "id": "vFs025TzUTFF",
      "execution_count": null,
      "outputs": []
    },
    {
      "cell_type": "markdown",
      "id": "8da15e1c",
      "metadata": {
        "id": "8da15e1c"
      },
      "source": [
        "# Exercice1"
      ]
    },
    {
      "cell_type": "markdown",
      "id": "d4e26f86",
      "metadata": {
        "id": "d4e26f86"
      },
      "source": [
        "### Récuperer les dataFrame à partir des fichiers csv"
      ]
    },
    {
      "cell_type": "code",
      "execution_count": null,
      "id": "f89283d9",
      "metadata": {
        "id": "f89283d9"
      },
      "outputs": [],
      "source": [
        "df_enseignants = pd.read_csv('Data/enseignants.csv',sep=\";\")"
      ]
    },
    {
      "cell_type": "code",
      "source": [],
      "metadata": {
        "id": "BU3Yl3XDR8JY"
      },
      "id": "BU3Yl3XDR8JY",
      "execution_count": null,
      "outputs": []
    },
    {
      "cell_type": "code",
      "execution_count": null,
      "id": "dbced7bb",
      "metadata": {
        "id": "dbced7bb"
      },
      "outputs": [],
      "source": [
        "df_enseignants "
      ]
    },
    {
      "cell_type": "markdown",
      "id": "56dbda80",
      "metadata": {
        "id": "56dbda80"
      },
      "source": [
        "renommer les colonnes de dataFrame comme dans le diagramme UML "
      ]
    },
    {
      "cell_type": "markdown",
      "id": "4e4fc8bd",
      "metadata": {
        "id": "4e4fc8bd"
      },
      "source": [
        "df_enseignants.columns = ['idEtudiant','prenom','nom','adresse', 'cp','ville','telFixe','telPortable']"
      ]
    },
    {
      "cell_type": "code",
      "execution_count": null,
      "id": "77301dc6",
      "metadata": {
        "id": "77301dc6"
      },
      "outputs": [],
      "source": [
        "df_enseignants "
      ]
    },
    {
      "cell_type": "code",
      "execution_count": null,
      "id": "0616b6e8",
      "metadata": {
        "id": "0616b6e8"
      },
      "outputs": [],
      "source": [
        "df_etudiants = pd.read_csv('dataBD/etudiants.csv',sep=\";\")"
      ]
    },
    {
      "cell_type": "code",
      "execution_count": null,
      "id": "8822d99b",
      "metadata": {
        "id": "8822d99b"
      },
      "outputs": [],
      "source": [
        "df_etudiants"
      ]
    },
    {
      "cell_type": "code",
      "execution_count": null,
      "id": "20850e0e",
      "metadata": {
        "id": "20850e0e"
      },
      "outputs": [],
      "source": [
        "df_inscriptions = pd.read_csv('dataBD/inscriptions.csv',sep=\";\")"
      ]
    },
    {
      "cell_type": "code",
      "execution_count": null,
      "id": "42ec35f2",
      "metadata": {
        "id": "42ec35f2"
      },
      "outputs": [],
      "source": [
        "df_inscriptions"
      ]
    },
    {
      "cell_type": "code",
      "execution_count": null,
      "id": "e8b8d017",
      "metadata": {
        "id": "e8b8d017"
      },
      "outputs": [],
      "source": [
        "df_matieres = pd.read_csv('dataBD/matieres.csv',sep=\";\") "
      ]
    },
    {
      "cell_type": "code",
      "execution_count": null,
      "id": "fefa18bf",
      "metadata": {
        "scrolled": true,
        "id": "fefa18bf"
      },
      "outputs": [],
      "source": [
        "df_matieres"
      ]
    },
    {
      "cell_type": "code",
      "execution_count": null,
      "id": "48dcbe0f",
      "metadata": {
        "id": "48dcbe0f"
      },
      "outputs": [],
      "source": [
        "df_resultats = pd.read_csv('dataBD/resultats.csv',sep=\";\") "
      ]
    },
    {
      "cell_type": "code",
      "execution_count": null,
      "id": "c93120b7",
      "metadata": {
        "id": "c93120b7"
      },
      "outputs": [],
      "source": [
        "df_resultats"
      ]
    },
    {
      "cell_type": "markdown",
      "id": "2757f3ad",
      "metadata": {
        "id": "2757f3ad"
      },
      "source": [
        "### Création de la base et création de la table enseignants"
      ]
    },
    {
      "cell_type": "code",
      "execution_count": null,
      "id": "53d1aa90",
      "metadata": {
        "id": "53d1aa90"
      },
      "outputs": [],
      "source": [
        "connection = sqlite3.connect('universite.db.db')\n",
        "cursor = connection.cursor()\n",
        "cursor.execute('Create Table if not exists enseignants (idEnseignant INTEGER PRIMARY KEY , nom Text, prenom Text,adresse Text,cp Text, ville Text,telFixe Text , telPortable Text)')\n",
        "connection.commit()"
      ]
    },
    {
      "cell_type": "code",
      "execution_count": null,
      "id": "5a59107b",
      "metadata": {
        "id": "5a59107b"
      },
      "outputs": [],
      "source": [
        "df_enseignants.to_sql('enseignants', connection, if_exists='replace', index = False)"
      ]
    },
    {
      "cell_type": "markdown",
      "id": "a343ca3c",
      "metadata": {
        "id": "a343ca3c"
      },
      "source": [
        "index = False pour ne pas ajouter un champ index dans la table (par défaut index=True)"
      ]
    },
    {
      "cell_type": "markdown",
      "id": "fe40a00f",
      "metadata": {
        "id": "fe40a00f"
      },
      "source": [
        "### Création de la table etudiants "
      ]
    },
    {
      "cell_type": "code",
      "execution_count": null,
      "id": "cd75cd14",
      "metadata": {
        "id": "cd75cd14"
      },
      "outputs": [],
      "source": [
        "cursor.execute('Create Table if not exists etudiants (idEtudiant INTEGER PRIMARY KEY , nom Text, prenom Text,adresse Text,cp Text, ville Text,telFixe Text , telPortable Text)')\n",
        "connection.commit()"
      ]
    },
    {
      "cell_type": "code",
      "execution_count": null,
      "id": "d647399d",
      "metadata": {
        "id": "d647399d"
      },
      "outputs": [],
      "source": [
        "df_etudiants.columns = ['idEtudiant','prenom','nom','adresse', 'cp','ville','telFixe','telPortable']"
      ]
    },
    {
      "cell_type": "code",
      "execution_count": null,
      "id": "cdb562a1",
      "metadata": {
        "id": "cdb562a1"
      },
      "outputs": [],
      "source": [
        "df_etudiants.to_sql('etudiants', connection, if_exists='replace', index = False)"
      ]
    },
    {
      "cell_type": "markdown",
      "id": "b377e98c",
      "metadata": {
        "id": "b377e98c"
      },
      "source": [
        "### Création de la table inscriptions"
      ]
    },
    {
      "cell_type": "code",
      "execution_count": null,
      "id": "be6d65d2",
      "metadata": {
        "id": "be6d65d2"
      },
      "outputs": [],
      "source": [
        "df_inscriptions.columns = ['idInscription','IdEtudiant','codeMatiere']"
      ]
    },
    {
      "cell_type": "code",
      "execution_count": null,
      "id": "aac075af",
      "metadata": {
        "id": "aac075af"
      },
      "outputs": [],
      "source": []
    },
    {
      "cell_type": "code",
      "execution_count": null,
      "id": "a6f1c246",
      "metadata": {
        "id": "a6f1c246"
      },
      "outputs": [],
      "source": [
        "df_inscriptions.to_sql('inscriptions', connection, if_exists='replace', index = False)"
      ]
    },
    {
      "cell_type": "markdown",
      "id": "89a759eb",
      "metadata": {
        "id": "89a759eb"
      },
      "source": [
        "### Création de la table matieres"
      ]
    },
    {
      "cell_type": "code",
      "execution_count": null,
      "id": "7b689179",
      "metadata": {
        "id": "7b689179"
      },
      "outputs": [],
      "source": [
        "df_matieres.columns = ['codeMatiere','salle','IdEnseignant']"
      ]
    },
    {
      "cell_type": "code",
      "execution_count": null,
      "id": "ff3f1d43",
      "metadata": {
        "id": "ff3f1d43"
      },
      "outputs": [],
      "source": [
        "df_matieres.to_sql('matieres', connection, if_exists='replace', index = False)"
      ]
    },
    {
      "cell_type": "markdown",
      "id": "fee7e8b1",
      "metadata": {
        "id": "fee7e8b1"
      },
      "source": [
        "### Création de la table resultats"
      ]
    },
    {
      "cell_type": "code",
      "execution_count": null,
      "id": "249772c0",
      "metadata": {
        "id": "249772c0"
      },
      "outputs": [],
      "source": [
        "df_resultats.columns = ['IdResultat','IdInscription','note']"
      ]
    },
    {
      "cell_type": "code",
      "execution_count": null,
      "id": "2f154e20",
      "metadata": {
        "id": "2f154e20"
      },
      "outputs": [],
      "source": [
        "df_resultats.to_sql('resultats', connection, if_exists='replace', index = False)"
      ]
    },
    {
      "cell_type": "markdown",
      "id": "63be04c9",
      "metadata": {
        "id": "63be04c9"
      },
      "source": [
        "### Exercice2"
      ]
    },
    {
      "cell_type": "markdown",
      "id": "6cc1d79f",
      "metadata": {
        "id": "6cc1d79f"
      },
      "source": [
        "## DataFrame: moyennes par matière ( à partir d'une requête) "
      ]
    },
    {
      "cell_type": "code",
      "execution_count": null,
      "id": "56b12587",
      "metadata": {
        "id": "56b12587"
      },
      "outputs": [],
      "source": [
        "df_matieres = pd.read_sql_query(\"SELECT codeMatiere,note FROM resultats r , inscriptions i where r.IdInscription=i.IdInscription\", connection)\n",
        "df_matieres"
      ]
    },
    {
      "cell_type": "markdown",
      "id": "e00e2694",
      "metadata": {
        "id": "e00e2694"
      },
      "source": [
        "##### Moyenne de chaque matière"
      ]
    },
    {
      "cell_type": "code",
      "execution_count": null,
      "id": "c504856a",
      "metadata": {
        "id": "c504856a"
      },
      "outputs": [],
      "source": [
        "df_matieres.groupby('codeMatiere')[\"note\"].mean().round(2)"
      ]
    },
    {
      "cell_type": "markdown",
      "id": "11184c46",
      "metadata": {
        "id": "11184c46"
      },
      "source": [
        "##### Moyenne maximale de chaque matière"
      ]
    },
    {
      "cell_type": "code",
      "execution_count": null,
      "id": "fc49a547",
      "metadata": {
        "id": "fc49a547"
      },
      "outputs": [],
      "source": [
        "df_matieresMax=df_matieres.groupby('codeMatiere')[\"note\"].max().round(2)"
      ]
    },
    {
      "cell_type": "code",
      "execution_count": null,
      "id": "c76d742a",
      "metadata": {
        "id": "c76d742a"
      },
      "outputs": [],
      "source": [
        "df_matieresMax"
      ]
    },
    {
      "cell_type": "code",
      "execution_count": null,
      "id": "89f1018f",
      "metadata": {
        "id": "89f1018f"
      },
      "outputs": [],
      "source": [
        "df_matieresMax.to_json(\"matiereMax.json\")"
      ]
    },
    {
      "cell_type": "raw",
      "id": "0b0c3a6f",
      "metadata": {
        "id": "0b0c3a6f"
      },
      "source": [
        "df_matieresMax = pd.DataFrame(df_matieresMax, columns = ['moyenneMax','moyenne '])"
      ]
    },
    {
      "cell_type": "code",
      "execution_count": null,
      "id": "bc9101ec",
      "metadata": {
        "id": "bc9101ec"
      },
      "outputs": [],
      "source": [
        "df_matieresMax.to_json(\"matiereMax.json\")"
      ]
    },
    {
      "cell_type": "markdown",
      "id": "ed561487",
      "metadata": {
        "id": "ed561487"
      },
      "source": [
        "##### Moyenne minimale de chaque matière"
      ]
    },
    {
      "cell_type": "code",
      "execution_count": null,
      "id": "fd62b719",
      "metadata": {
        "id": "fd62b719"
      },
      "outputs": [],
      "source": [
        "df_matieresMin=df_matieres.groupby('codeMatiere')[\"note\"].min().round(2)"
      ]
    },
    {
      "cell_type": "code",
      "execution_count": null,
      "id": "0013ea61",
      "metadata": {
        "id": "0013ea61"
      },
      "outputs": [],
      "source": [
        "df_matieresMin"
      ]
    },
    {
      "cell_type": "markdown",
      "id": "b9df59eb",
      "metadata": {
        "id": "b9df59eb"
      },
      "source": [
        "##### Moyenne de toute les matières "
      ]
    },
    {
      "cell_type": "code",
      "execution_count": null,
      "id": "a5bec3c9",
      "metadata": {
        "id": "a5bec3c9"
      },
      "outputs": [],
      "source": [
        "moyenneTotale=df_matieres[\"note\"].mean().round(2)"
      ]
    },
    {
      "cell_type": "code",
      "execution_count": null,
      "id": "08c5055c",
      "metadata": {
        "id": "08c5055c"
      },
      "outputs": [],
      "source": [
        "moyenneTotale"
      ]
    },
    {
      "cell_type": "markdown",
      "id": "d6c8229c",
      "metadata": {
        "id": "d6c8229c"
      },
      "source": [
        "##### nbEtudiants Inscrit par matière"
      ]
    },
    {
      "cell_type": "markdown",
      "id": "728ec5fb",
      "metadata": {
        "id": "728ec5fb"
      },
      "source": [
        "df_nbEtudiantsParDepartement = pd.read_sql_query(\"SELECT codeMatiere,note FROM resultats r , inscriptions i where r.IdInscription=i.IdInscription\", connection)\n",
        "df_matieres"
      ]
    },
    {
      "cell_type": "code",
      "execution_count": null,
      "id": "0b508b3d",
      "metadata": {
        "id": "0b508b3d"
      },
      "outputs": [],
      "source": [
        "nbEtudiants=pd.read_sql_query(\"SELECT codeMatiere,idEtudiant FROM inscriptions \", connection)\n",
        "nbEtudiants"
      ]
    },
    {
      "cell_type": "code",
      "execution_count": null,
      "id": "3aa0ed27",
      "metadata": {
        "id": "3aa0ed27"
      },
      "outputs": [],
      "source": [
        "nbEtudiantInscMat=nbEtudiants.groupby('codeMatiere')[\"IdEtudiant\"].value_counts()"
      ]
    },
    {
      "cell_type": "code",
      "execution_count": null,
      "id": "9388215f",
      "metadata": {
        "id": "9388215f"
      },
      "outputs": [],
      "source": [
        "nbEtudiantInscMat"
      ]
    },
    {
      "cell_type": "code",
      "execution_count": null,
      "id": "c25fce2b",
      "metadata": {
        "id": "c25fce2b"
      },
      "outputs": [],
      "source": [
        "nbEtudiantsParMat=pd.read_sql_query(\"SELECT codeMatiere,COUNT(IdEtudiant)  FROM inscriptions GROUP BY codeMatiere\", connection)\n",
        "nbEtudiantsParMat"
      ]
    },
    {
      "cell_type": "code",
      "execution_count": null,
      "id": "a6d967b8",
      "metadata": {
        "id": "a6d967b8"
      },
      "outputs": [],
      "source": [
        "nbEtudiantsParDep=pd.read_sql_query(\"SELECT cp,COUNT(IdEtudiant)  FROM etudiants GROUP BY cp \", connection)\n",
        "nbEtudiantsParDep"
      ]
    },
    {
      "cell_type": "markdown",
      "id": "5db0bf36",
      "metadata": {
        "id": "5db0bf36"
      },
      "source": [
        "#### Regrouper les dataframes et écrire dans un fichier JSON"
      ]
    },
    {
      "cell_type": "code",
      "execution_count": null,
      "id": "8c76855f",
      "metadata": {
        "id": "8c76855f"
      },
      "outputs": [],
      "source": []
    }
  ],
  "metadata": {
    "kernelspec": {
      "display_name": "Python 3 (ipykernel)",
      "language": "python",
      "name": "python3"
    },
    "language_info": {
      "codemirror_mode": {
        "name": "ipython",
        "version": 3
      },
      "file_extension": ".py",
      "mimetype": "text/x-python",
      "name": "python",
      "nbconvert_exporter": "python",
      "pygments_lexer": "ipython3",
      "version": "3.10.2"
    },
    "colab": {
      "provenance": [],
      "include_colab_link": true
    }
  },
  "nbformat": 4,
  "nbformat_minor": 5
}