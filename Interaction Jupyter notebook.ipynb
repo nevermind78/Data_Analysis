{
 "cells": [
  {
   "cell_type": "code",
   "execution_count": 9,
   "id": "dbe28bce",
   "metadata": {},
   "outputs": [],
   "source": [
    "import ipywidgets as widget\n",
    "import matplotlib.pyplot as plt\n",
    "import numpy as np"
   ]
  },
  {
   "cell_type": "code",
   "execution_count": null,
   "id": "a429c280",
   "metadata": {},
   "outputs": [],
   "source": [
    "pip install ipywidgets"
   ]
  },
  {
   "cell_type": "code",
   "execution_count": 2,
   "id": "c4d75b9d",
   "metadata": {},
   "outputs": [],
   "source": [
    "def carre(n):\n",
    "    return f'le carré de {n} est {n**2}'"
   ]
  },
  {
   "cell_type": "code",
   "execution_count": 3,
   "id": "1b99c8b5",
   "metadata": {},
   "outputs": [
    {
     "data": {
      "text/plain": [
       "'le carré de 5 est 25'"
      ]
     },
     "execution_count": 3,
     "metadata": {},
     "output_type": "execute_result"
    }
   ],
   "source": [
    "carre(5)"
   ]
  },
  {
   "cell_type": "code",
   "execution_count": 6,
   "id": "8ada65fb",
   "metadata": {},
   "outputs": [],
   "source": [
    "from ipywidgets import interact"
   ]
  },
  {
   "cell_type": "code",
   "execution_count": 7,
   "id": "d829dbaa",
   "metadata": {},
   "outputs": [
    {
     "data": {
      "application/vnd.jupyter.widget-view+json": {
       "model_id": "f12e3731bfe448e398b144e89a804c90",
       "version_major": 2,
       "version_minor": 0
      },
      "text/plain": [
       "interactive(children=(IntSlider(value=5, description='n', max=10, min=1), Output()), _dom_classes=('widget-int…"
      ]
     },
     "metadata": {},
     "output_type": "display_data"
    },
    {
     "data": {
      "text/plain": [
       "<function __main__.carre(n)>"
      ]
     },
     "execution_count": 7,
     "metadata": {},
     "output_type": "execute_result"
    }
   ],
   "source": [
    "interact(carre,n=widget.IntSlider(min =1,max=10,step=1,value=5))"
   ]
  },
  {
   "cell_type": "code",
   "execution_count": 12,
   "id": "1ee496ee",
   "metadata": {},
   "outputs": [],
   "source": [
    "func= lambda x,a: np.sin(a*x)"
   ]
  },
  {
   "cell_type": "code",
   "execution_count": 14,
   "id": "d51e7edb",
   "metadata": {},
   "outputs": [
    {
     "data": {
      "text/plain": [
       "0.9092974268256817"
      ]
     },
     "execution_count": 14,
     "metadata": {},
     "output_type": "execute_result"
    }
   ],
   "source": [
    "func(1,2)"
   ]
  },
  {
   "cell_type": "code",
   "execution_count": 23,
   "id": "4f48b94c",
   "metadata": {},
   "outputs": [],
   "source": [
    "def dessin(a):\n",
    "    x=np.linspace(-1,1,1001)\n",
    "    plt.title(f'sin({a}x)')\n",
    "    plt.grid(True)\n",
    "    return plt.plot(x,func(x,a))"
   ]
  },
  {
   "cell_type": "code",
   "execution_count": 24,
   "id": "604e71a5",
   "metadata": {},
   "outputs": [
    {
     "data": {
      "text/plain": [
       "[<matplotlib.lines.Line2D at 0x7ffbc161edc0>]"
      ]
     },
     "execution_count": 24,
     "metadata": {},
     "output_type": "execute_result"
    },
    {
     "data": {
      "image/png": "[encoded data removed]",
      "text/plain": [
       "<Figure size 432x288 with 1 Axes>"
      ]
     },
     "metadata": {
      "needs_background": "light"
     },
     "output_type": "display_data"
    }
   ],
   "source": [
    "dessin(4)"
   ]
  },
  {
   "cell_type": "code",
   "execution_count": 25,
   "id": "b4792c65",
   "metadata": {},
   "outputs": [
    {
     "data": {
      "application/vnd.jupyter.widget-view+json": {
       "model_id": "cef02ccf0b2a4457ae778770226ad896",
       "version_major": 2,
       "version_minor": 0
      },
      "text/plain": [
       "interactive(children=(IntSlider(value=1, description='a', max=10, min=1), Output()), _dom_classes=('widget-int…"
      ]
     },
     "metadata": {},
     "output_type": "display_data"
    },
    {
     "data": {
      "text/plain": [
       "<function __main__.dessin(a)>"
      ]
     },
     "execution_count": 25,
     "metadata": {},
     "output_type": "execute_result"
    }
   ],
   "source": [
    "interact(dessin,a=widget.IntSlider(min=1,max=10,step=1, value=1))"
   ]
  },
  {
   "cell_type": "code",
   "execution_count": null,
   "id": "9ddde810",
   "metadata": {},
   "outputs": [],
   "source": []
  }
 ],
 "metadata": {
  "kernelspec": {
   "display_name": "Python 3",
   "language": "python",
   "name": "python3"
  },
  "language_info": {
   "codemirror_mode": {
    "name": "ipython",
    "version": 3
   },
   "file_extension": ".py",
   "mimetype": "text/x-python",
   "name": "python",
   "nbconvert_exporter": "python",
   "pygments_lexer": "ipython3",
   "version": "3.8.8"
  }
 },
 "nbformat": 4,
 "nbformat_minor": 5
}
