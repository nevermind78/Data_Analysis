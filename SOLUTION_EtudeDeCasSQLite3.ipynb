{
  "cells": [
    {
      "cell_type": "markdown",
      "metadata": {
        "id": "view-in-github",
        "colab_type": "text"
      },
      "source": [
        "<a href=\"https://colab.research.google.com/github/nevermind78/Data_Analysis/blob/main/SOLUTION_EtudeDeCasSQLite3.ipynb\" target=\"_parent\"><img src=\"https://colab.research.google.com/assets/colab-badge.svg\" alt=\"Open In Colab\"/></a>"
      ]
    },
    {
      "cell_type": "code",
      "source": [
        "# import standard libs\n",
        "import os\n",
        "# if on collab pull required subdirectories\n",
        "if os.getenv(\"COLAB_RELEASE_TAG\"): \n",
        "    # install github clone - allows for easy cloning of subdirectories\n",
        "    !pip install github-clone\n",
        "    from pathlib import Path \n",
        "\n",
        "    # clone datasets\n",
        "    if not Path('Data/').is_dir():\n",
        "        !ghclone https://github.com/nevermind78/Data_Analysis/tree/main/Data\n",
        "    else:\n",
        "        print('Data/!')\n",
        "# append path for local library, data, and image import\n",
        "import sys\n",
        "sys.path.append('./Data')"
      ],
      "metadata": {
        "id": "dd7m3InPR_gI"
      },
      "id": "dd7m3InPR_gI",
      "execution_count": null,
      "outputs": []
    },
    {
      "cell_type": "code",
      "execution_count": 10,
      "id": "a7e3ca1e",
      "metadata": {
        "id": "a7e3ca1e"
      },
      "outputs": [],
      "source": [
        "import sqlite3\n",
        "import pandas as pd"
      ]
    },
    {
      "cell_type": "markdown",
      "source": [
        "# [Enonce](https://github.com/nevermind78/Data_Analysis/blob/main/Data/ETUDEDECAS.pdf)"
      ],
      "metadata": {
        "id": "MppOxkn0UUKs"
      },
      "id": "MppOxkn0UUKs"
    },
    {
      "cell_type": "code",
      "source": [],
      "metadata": {
        "id": "vFs025TzUTFF"
      },
      "id": "vFs025TzUTFF",
      "execution_count": null,
      "outputs": []
    },
    {
      "cell_type": "markdown",
      "id": "8da15e1c",
      "metadata": {
        "id": "8da15e1c"
      },
      "source": [
        "# Exercice1"
      ]
    },
    {
      "cell_type": "markdown",
      "id": "d4e26f86",
      "metadata": {
        "id": "d4e26f86"
      },
      "source": [
        "### Récuperer les dataFrame à partir des fichiers csv"
      ]
    },
    {
      "cell_type": "code",
      "execution_count": 11,
      "id": "f89283d9",
      "metadata": {
        "id": "f89283d9"
      },
      "outputs": [],
      "source": [
        "df_enseignants = pd.read_csv('Data/enseignants.csv',sep=\";\")"
      ]
    },
    {
      "cell_type": "code",
      "source": [],
      "metadata": {
        "id": "BU3Yl3XDR8JY"
      },
      "id": "BU3Yl3XDR8JY",
      "execution_count": 11,
      "outputs": []
    },
    {
      "cell_type": "code",
      "execution_count": 12,
      "id": "dbced7bb",
      "metadata": {
        "id": "dbced7bb",
        "colab": {
          "base_uri": "https://localhost:8080/",
          "height": 81
        },
        "outputId": "94592d50-02bd-4915-95c5-c4b57c7f0dcc"
      },
      "outputs": [
        {
          "output_type": "execute_result",
          "data": {
            "text/plain": [
              "   idEnseignant prenom    nom                  adresse    cp       ville  \\\n",
              "0             1    Lou  Loyer  94 Avenue de Bellefosse  3074  Puylanbont   \n",
              "\n",
              "     telFixe  telPortable  \n",
              "0  266289546    747070072  "
            ],
            "text/html": [
              "\n",
              "  <div id=\"df-07df843f-32f6-4f58-abd3-08bfde03f211\">\n",
              "    <div class=\"colab-df-container\">\n",
              "      <div>\n",
              "<style scoped>\n",
              "    .dataframe tbody tr th:only-of-type {\n",
              "        vertical-align: middle;\n",
              "    }\n",
              "\n",
              "    .dataframe tbody tr th {\n",
              "        vertical-align: top;\n",
              "    }\n",
              "\n",
              "    .dataframe thead th {\n",
              "        text-align: right;\n",
              "    }\n",
              "</style>\n",
              "<table border=\"1\" class=\"dataframe\">\n",
              "  <thead>\n",
              "    <tr style=\"text-align: right;\">\n",
              "      <th></th>\n",
              "      <th>idEnseignant</th>\n",
              "      <th>prenom</th>\n",
              "      <th>nom</th>\n",
              "      <th>adresse</th>\n",
              "      <th>cp</th>\n",
              "      <th>ville</th>\n",
              "      <th>telFixe</th>\n",
              "      <th>telPortable</th>\n",
              "    </tr>\n",
              "  </thead>\n",
              "  <tbody>\n",
              "    <tr>\n",
              "      <th>0</th>\n",
              "      <td>1</td>\n",
              "      <td>Lou</td>\n",
              "      <td>Loyer</td>\n",
              "      <td>94 Avenue de Bellefosse</td>\n",
              "      <td>3074</td>\n",
              "      <td>Puylanbont</td>\n",
              "      <td>266289546</td>\n",
              "      <td>747070072</td>\n",
              "    </tr>\n",
              "  </tbody>\n",
              "</table>\n",
              "</div>\n",
              "      <button class=\"colab-df-convert\" onclick=\"convertToInteractive('df-07df843f-32f6-4f58-abd3-08bfde03f211')\"\n",
              "              title=\"Convert this dataframe to an interactive table.\"\n",
              "              style=\"display:none;\">\n",
              "        \n",
              "  <svg xmlns=\"http://www.w3.org/2000/svg\" height=\"24px\"viewBox=\"0 0 24 24\"\n",
              "       width=\"24px\">\n",
              "    <path d=\"M0 0h24v24H0V0z\" fill=\"none\"/>\n",
              "    <path d=\"M18.56 5.44l.94 2.06.94-2.06 2.06-.94-2.06-.94-.94-2.06-.94 2.06-2.06.94zm-11 1L8.5 8.5l.94-2.06 2.06-.94-2.06-.94L8.5 2.5l-.94 2.06-2.06.94zm10 10l.94 2.06.94-2.06 2.06-.94-2.06-.94-.94-2.06-.94 2.06-2.06.94z\"/><path d=\"M17.41 7.96l-1.37-1.37c-.4-.4-.92-.59-1.43-.59-.52 0-1.04.2-1.43.59L10.3 9.45l-7.72 7.72c-.78.78-.78 2.05 0 2.83L4 21.41c.39.39.9.59 1.41.59.51 0 1.02-.2 1.41-.59l7.78-7.78 2.81-2.81c.8-.78.8-2.07 0-2.86zM5.41 20L4 18.59l7.72-7.72 1.47 1.35L5.41 20z\"/>\n",
              "  </svg>\n",
              "      </button>\n",
              "      \n",
              "  <style>\n",
              "    .colab-df-container {\n",
              "      display:flex;\n",
              "      flex-wrap:wrap;\n",
              "      gap: 12px;\n",
              "    }\n",
              "\n",
              "    .colab-df-convert {\n",
              "      background-color: #E8F0FE;\n",
              "      border: none;\n",
              "      border-radius: 50%;\n",
              "      cursor: pointer;\n",
              "      display: none;\n",
              "      fill: #1967D2;\n",
              "      height: 32px;\n",
              "      padding: 0 0 0 0;\n",
              "      width: 32px;\n",
              "    }\n",
              "\n",
              "    .colab-df-convert:hover {\n",
              "      background-color: #E2EBFA;\n",
              "      box-shadow: 0px 1px 2px rgba(60, 64, 67, 0.3), 0px 1px 3px 1px rgba(60, 64, 67, 0.15);\n",
              "      fill: #174EA6;\n",
              "    }\n",
              "\n",
              "    [theme=dark] .colab-df-convert {\n",
              "      background-color: #3B4455;\n",
              "      fill: #D2E3FC;\n",
              "    }\n",
              "\n",
              "    [theme=dark] .colab-df-convert:hover {\n",
              "      background-color: #434B5C;\n",
              "      box-shadow: 0px 1px 3px 1px rgba(0, 0, 0, 0.15);\n",
              "      filter: drop-shadow(0px 1px 2px rgba(0, 0, 0, 0.3));\n",
              "      fill: #FFFFFF;\n",
              "    }\n",
              "  </style>\n",
              "\n",
              "      <script>\n",
              "        const buttonEl =\n",
              "          document.querySelector('#df-07df843f-32f6-4f58-abd3-08bfde03f211 button.colab-df-convert');\n",
              "        buttonEl.style.display =\n",
              "          google.colab.kernel.accessAllowed ? 'block' : 'none';\n",
              "\n",
              "        async function convertToInteractive(key) {\n",
              "          const element = document.querySelector('#df-07df843f-32f6-4f58-abd3-08bfde03f211');\n",
              "          const dataTable =\n",
              "            await google.colab.kernel.invokeFunction('convertToInteractive',\n",
              "                                                     [key], {});\n",
              "          if (!dataTable) return;\n",
              "\n",
              "          const docLinkHtml = 'Like what you see? Visit the ' +\n",
              "            '<a target=\"_blank\" href=https://colab.research.google.com/notebooks/data_table.ipynb>data table notebook</a>'\n",
              "            + ' to learn more about interactive tables.';\n",
              "          element.innerHTML = '';\n",
              "          dataTable['output_type'] = 'display_data';\n",
              "          await google.colab.output.renderOutput(dataTable, element);\n",
              "          const docLink = document.createElement('div');\n",
              "          docLink.innerHTML = docLinkHtml;\n",
              "          element.appendChild(docLink);\n",
              "        }\n",
              "      </script>\n",
              "    </div>\n",
              "  </div>\n",
              "  "
            ]
          },
          "metadata": {},
          "execution_count": 12
        }
      ],
      "source": [
        "df_enseignants.columns=['idEnseignant','prenom','nom','adresse', 'cp','ville','telFixe','telPortable']\n",
        "df_enseignants.head(1)"
      ]
    },
    {
      "cell_type": "markdown",
      "id": "56dbda80",
      "metadata": {
        "id": "56dbda80"
      },
      "source": [
        "renommer les colonnes de dataFrame comme dans le diagramme UML "
      ]
    },
    {
      "cell_type": "markdown",
      "id": "4e4fc8bd",
      "metadata": {
        "id": "4e4fc8bd"
      },
      "source": [
        "df_enseignants.columns = ['idEtudiant','prenom','nom','adresse', 'cp','ville','telFixe','telPortable']"
      ]
    },
    {
      "cell_type": "code",
      "execution_count": 13,
      "id": "77301dc6",
      "metadata": {
        "id": "77301dc6",
        "colab": {
          "base_uri": "https://localhost:8080/",
          "height": 519
        },
        "outputId": "7e0b01af-7f56-4a5e-b840-129300666da4"
      },
      "outputs": [
        {
          "output_type": "execute_result",
          "data": {
            "text/plain": [
              "    idEnseignant      prenom       nom                    adresse     cp  \\\n",
              "0              1         Lou     Loyer    94 Avenue de Bellefosse   3074   \n",
              "1              2        Ines    Beguin        33 Ruelle de Domval  70722   \n",
              "2              3      Amelie  Bourdier   63 Impasse de Maisondure  56035   \n",
              "3              4    Clarisse   Laville  55 Boulevard de Taleterre  25151   \n",
              "4              5        Luna    Lechat     54 Chemin de Malaterre   9322   \n",
              "5              6      Amelie      Mora       55 Route de Rudelieu  55442   \n",
              "6              7      Marine   Deville     22 Rue de Puy-en-laine  84259   \n",
              "7              8  Clementine     Tardy       5 Avenue de Pontpuit  74392   \n",
              "8              9      Solene     Ferre     93 Ruelle de Vignevaux  59906   \n",
              "9             10     Justine    Michon     92 Impasse de Aprerieu  59854   \n",
              "10            11      Emilie     Sorel  77 Boulevard de Vignedure  79167   \n",
              "11            12       Adele   Carrere     78 Chemin de Bourgloup  84535   \n",
              "12            13      Oceane     Leleu   24 Route de Richesherbes  59793   \n",
              "13            14     Pauline    Lavaud    75 Rue de Lai-sous-mine  86106   \n",
              "14            15     Heloise     Pajot    78 Avenue de Roncefolle  28094   \n",
              "\n",
              "         ville    telFixe  telPortable  \n",
              "0   Puylanbont  266289546    747070072  \n",
              "1        Quedy  206649017    627308378  \n",
              "2    Mabanches  285453814    697428274  \n",
              "3       Tevône  326967415    622866240  \n",
              "4   Peyfargues  332296656    741765634  \n",
              "5      Canpent  245257607    673378607  \n",
              "6    Acangalle  153770178    640806379  \n",
              "7         Dieu  251006520    743612517  \n",
              "8      Lanvame  263286728    608237429  \n",
              "9       Autuse  293023219    742293956  \n",
              "10       Duire  154462036    738171358  \n",
              "11      Brilac  279294829    612263908  \n",
              "12  Lanbavrois  183114404    748385322  \n",
              "13       Benur  121729294    616397287  \n",
              "14     Puyfeux  443690829    702774729  "
            ],
            "text/html": [
              "\n",
              "  <div id=\"df-56034b5d-5a40-44ed-90ca-bfc360add849\">\n",
              "    <div class=\"colab-df-container\">\n",
              "      <div>\n",
              "<style scoped>\n",
              "    .dataframe tbody tr th:only-of-type {\n",
              "        vertical-align: middle;\n",
              "    }\n",
              "\n",
              "    .dataframe tbody tr th {\n",
              "        vertical-align: top;\n",
              "    }\n",
              "\n",
              "    .dataframe thead th {\n",
              "        text-align: right;\n",
              "    }\n",
              "</style>\n",
              "<table border=\"1\" class=\"dataframe\">\n",
              "  <thead>\n",
              "    <tr style=\"text-align: right;\">\n",
              "      <th></th>\n",
              "      <th>idEnseignant</th>\n",
              "      <th>prenom</th>\n",
              "      <th>nom</th>\n",
              "      <th>adresse</th>\n",
              "      <th>cp</th>\n",
              "      <th>ville</th>\n",
              "      <th>telFixe</th>\n",
              "      <th>telPortable</th>\n",
              "    </tr>\n",
              "  </thead>\n",
              "  <tbody>\n",
              "    <tr>\n",
              "      <th>0</th>\n",
              "      <td>1</td>\n",
              "      <td>Lou</td>\n",
              "      <td>Loyer</td>\n",
              "      <td>94 Avenue de Bellefosse</td>\n",
              "      <td>3074</td>\n",
              "      <td>Puylanbont</td>\n",
              "      <td>266289546</td>\n",
              "      <td>747070072</td>\n",
              "    </tr>\n",
              "    <tr>\n",
              "      <th>1</th>\n",
              "      <td>2</td>\n",
              "      <td>Ines</td>\n",
              "      <td>Beguin</td>\n",
              "      <td>33 Ruelle de Domval</td>\n",
              "      <td>70722</td>\n",
              "      <td>Quedy</td>\n",
              "      <td>206649017</td>\n",
              "      <td>627308378</td>\n",
              "    </tr>\n",
              "    <tr>\n",
              "      <th>2</th>\n",
              "      <td>3</td>\n",
              "      <td>Amelie</td>\n",
              "      <td>Bourdier</td>\n",
              "      <td>63 Impasse de Maisondure</td>\n",
              "      <td>56035</td>\n",
              "      <td>Mabanches</td>\n",
              "      <td>285453814</td>\n",
              "      <td>697428274</td>\n",
              "    </tr>\n",
              "    <tr>\n",
              "      <th>3</th>\n",
              "      <td>4</td>\n",
              "      <td>Clarisse</td>\n",
              "      <td>Laville</td>\n",
              "      <td>55 Boulevard de Taleterre</td>\n",
              "      <td>25151</td>\n",
              "      <td>Tevône</td>\n",
              "      <td>326967415</td>\n",
              "      <td>622866240</td>\n",
              "    </tr>\n",
              "    <tr>\n",
              "      <th>4</th>\n",
              "      <td>5</td>\n",
              "      <td>Luna</td>\n",
              "      <td>Lechat</td>\n",
              "      <td>54 Chemin de Malaterre</td>\n",
              "      <td>9322</td>\n",
              "      <td>Peyfargues</td>\n",
              "      <td>332296656</td>\n",
              "      <td>741765634</td>\n",
              "    </tr>\n",
              "    <tr>\n",
              "      <th>5</th>\n",
              "      <td>6</td>\n",
              "      <td>Amelie</td>\n",
              "      <td>Mora</td>\n",
              "      <td>55 Route de Rudelieu</td>\n",
              "      <td>55442</td>\n",
              "      <td>Canpent</td>\n",
              "      <td>245257607</td>\n",
              "      <td>673378607</td>\n",
              "    </tr>\n",
              "    <tr>\n",
              "      <th>6</th>\n",
              "      <td>7</td>\n",
              "      <td>Marine</td>\n",
              "      <td>Deville</td>\n",
              "      <td>22 Rue de Puy-en-laine</td>\n",
              "      <td>84259</td>\n",
              "      <td>Acangalle</td>\n",
              "      <td>153770178</td>\n",
              "      <td>640806379</td>\n",
              "    </tr>\n",
              "    <tr>\n",
              "      <th>7</th>\n",
              "      <td>8</td>\n",
              "      <td>Clementine</td>\n",
              "      <td>Tardy</td>\n",
              "      <td>5 Avenue de Pontpuit</td>\n",
              "      <td>74392</td>\n",
              "      <td>Dieu</td>\n",
              "      <td>251006520</td>\n",
              "      <td>743612517</td>\n",
              "    </tr>\n",
              "    <tr>\n",
              "      <th>8</th>\n",
              "      <td>9</td>\n",
              "      <td>Solene</td>\n",
              "      <td>Ferre</td>\n",
              "      <td>93 Ruelle de Vignevaux</td>\n",
              "      <td>59906</td>\n",
              "      <td>Lanvame</td>\n",
              "      <td>263286728</td>\n",
              "      <td>608237429</td>\n",
              "    </tr>\n",
              "    <tr>\n",
              "      <th>9</th>\n",
              "      <td>10</td>\n",
              "      <td>Justine</td>\n",
              "      <td>Michon</td>\n",
              "      <td>92 Impasse de Aprerieu</td>\n",
              "      <td>59854</td>\n",
              "      <td>Autuse</td>\n",
              "      <td>293023219</td>\n",
              "      <td>742293956</td>\n",
              "    </tr>\n",
              "    <tr>\n",
              "      <th>10</th>\n",
              "      <td>11</td>\n",
              "      <td>Emilie</td>\n",
              "      <td>Sorel</td>\n",
              "      <td>77 Boulevard de Vignedure</td>\n",
              "      <td>79167</td>\n",
              "      <td>Duire</td>\n",
              "      <td>154462036</td>\n",
              "      <td>738171358</td>\n",
              "    </tr>\n",
              "    <tr>\n",
              "      <th>11</th>\n",
              "      <td>12</td>\n",
              "      <td>Adele</td>\n",
              "      <td>Carrere</td>\n",
              "      <td>78 Chemin de Bourgloup</td>\n",
              "      <td>84535</td>\n",
              "      <td>Brilac</td>\n",
              "      <td>279294829</td>\n",
              "      <td>612263908</td>\n",
              "    </tr>\n",
              "    <tr>\n",
              "      <th>12</th>\n",
              "      <td>13</td>\n",
              "      <td>Oceane</td>\n",
              "      <td>Leleu</td>\n",
              "      <td>24 Route de Richesherbes</td>\n",
              "      <td>59793</td>\n",
              "      <td>Lanbavrois</td>\n",
              "      <td>183114404</td>\n",
              "      <td>748385322</td>\n",
              "    </tr>\n",
              "    <tr>\n",
              "      <th>13</th>\n",
              "      <td>14</td>\n",
              "      <td>Pauline</td>\n",
              "      <td>Lavaud</td>\n",
              "      <td>75 Rue de Lai-sous-mine</td>\n",
              "      <td>86106</td>\n",
              "      <td>Benur</td>\n",
              "      <td>121729294</td>\n",
              "      <td>616397287</td>\n",
              "    </tr>\n",
              "    <tr>\n",
              "      <th>14</th>\n",
              "      <td>15</td>\n",
              "      <td>Heloise</td>\n",
              "      <td>Pajot</td>\n",
              "      <td>78 Avenue de Roncefolle</td>\n",
              "      <td>28094</td>\n",
              "      <td>Puyfeux</td>\n",
              "      <td>443690829</td>\n",
              "      <td>702774729</td>\n",
              "    </tr>\n",
              "  </tbody>\n",
              "</table>\n",
              "</div>\n",
              "      <button class=\"colab-df-convert\" onclick=\"convertToInteractive('df-56034b5d-5a40-44ed-90ca-bfc360add849')\"\n",
              "              title=\"Convert this dataframe to an interactive table.\"\n",
              "              style=\"display:none;\">\n",
              "        \n",
              "  <svg xmlns=\"http://www.w3.org/2000/svg\" height=\"24px\"viewBox=\"0 0 24 24\"\n",
              "       width=\"24px\">\n",
              "    <path d=\"M0 0h24v24H0V0z\" fill=\"none\"/>\n",
              "    <path d=\"M18.56 5.44l.94 2.06.94-2.06 2.06-.94-2.06-.94-.94-2.06-.94 2.06-2.06.94zm-11 1L8.5 8.5l.94-2.06 2.06-.94-2.06-.94L8.5 2.5l-.94 2.06-2.06.94zm10 10l.94 2.06.94-2.06 2.06-.94-2.06-.94-.94-2.06-.94 2.06-2.06.94z\"/><path d=\"M17.41 7.96l-1.37-1.37c-.4-.4-.92-.59-1.43-.59-.52 0-1.04.2-1.43.59L10.3 9.45l-7.72 7.72c-.78.78-.78 2.05 0 2.83L4 21.41c.39.39.9.59 1.41.59.51 0 1.02-.2 1.41-.59l7.78-7.78 2.81-2.81c.8-.78.8-2.07 0-2.86zM5.41 20L4 18.59l7.72-7.72 1.47 1.35L5.41 20z\"/>\n",
              "  </svg>\n",
              "      </button>\n",
              "      \n",
              "  <style>\n",
              "    .colab-df-container {\n",
              "      display:flex;\n",
              "      flex-wrap:wrap;\n",
              "      gap: 12px;\n",
              "    }\n",
              "\n",
              "    .colab-df-convert {\n",
              "      background-color: #E8F0FE;\n",
              "      border: none;\n",
              "      border-radius: 50%;\n",
              "      cursor: pointer;\n",
              "      display: none;\n",
              "      fill: #1967D2;\n",
              "      height: 32px;\n",
              "      padding: 0 0 0 0;\n",
              "      width: 32px;\n",
              "    }\n",
              "\n",
              "    .colab-df-convert:hover {\n",
              "      background-color: #E2EBFA;\n",
              "      box-shadow: 0px 1px 2px rgba(60, 64, 67, 0.3), 0px 1px 3px 1px rgba(60, 64, 67, 0.15);\n",
              "      fill: #174EA6;\n",
              "    }\n",
              "\n",
              "    [theme=dark] .colab-df-convert {\n",
              "      background-color: #3B4455;\n",
              "      fill: #D2E3FC;\n",
              "    }\n",
              "\n",
              "    [theme=dark] .colab-df-convert:hover {\n",
              "      background-color: #434B5C;\n",
              "      box-shadow: 0px 1px 3px 1px rgba(0, 0, 0, 0.15);\n",
              "      filter: drop-shadow(0px 1px 2px rgba(0, 0, 0, 0.3));\n",
              "      fill: #FFFFFF;\n",
              "    }\n",
              "  </style>\n",
              "\n",
              "      <script>\n",
              "        const buttonEl =\n",
              "          document.querySelector('#df-56034b5d-5a40-44ed-90ca-bfc360add849 button.colab-df-convert');\n",
              "        buttonEl.style.display =\n",
              "          google.colab.kernel.accessAllowed ? 'block' : 'none';\n",
              "\n",
              "        async function convertToInteractive(key) {\n",
              "          const element = document.querySelector('#df-56034b5d-5a40-44ed-90ca-bfc360add849');\n",
              "          const dataTable =\n",
              "            await google.colab.kernel.invokeFunction('convertToInteractive',\n",
              "                                                     [key], {});\n",
              "          if (!dataTable) return;\n",
              "\n",
              "          const docLinkHtml = 'Like what you see? Visit the ' +\n",
              "            '<a target=\"_blank\" href=https://colab.research.google.com/notebooks/data_table.ipynb>data table notebook</a>'\n",
              "            + ' to learn more about interactive tables.';\n",
              "          element.innerHTML = '';\n",
              "          dataTable['output_type'] = 'display_data';\n",
              "          await google.colab.output.renderOutput(dataTable, element);\n",
              "          const docLink = document.createElement('div');\n",
              "          docLink.innerHTML = docLinkHtml;\n",
              "          element.appendChild(docLink);\n",
              "        }\n",
              "      </script>\n",
              "    </div>\n",
              "  </div>\n",
              "  "
            ]
          },
          "metadata": {},
          "execution_count": 13
        }
      ],
      "source": [
        "df_enseignants "
      ]
    },
    {
      "cell_type": "code",
      "execution_count": 14,
      "id": "0616b6e8",
      "metadata": {
        "id": "0616b6e8"
      },
      "outputs": [],
      "source": [
        "df_etudiants = pd.read_csv('Data/etudiants.csv',sep=\";\")"
      ]
    },
    {
      "cell_type": "code",
      "execution_count": 15,
      "id": "8822d99b",
      "metadata": {
        "id": "8822d99b",
        "colab": {
          "base_uri": "https://localhost:8080/",
          "height": 81
        },
        "outputId": "c0f5e072-24f1-400e-f578-e654af1afbc3"
      },
      "outputs": [
        {
          "output_type": "execute_result",
          "data": {
            "text/plain": [
              "   idEtudiant prenom    nom                adresse    cp        ville  \\\n",
              "0           1  Emile  Caron  35 Rue de Port-à-loup  1957  Conpuygnuse   \n",
              "\n",
              "     telFixe  telPortable  \n",
              "0  457943774    783088145  "
            ],
            "text/html": [
              "\n",
              "  <div id=\"df-f6e4f3cc-b312-4f17-b944-e15ac0483a76\">\n",
              "    <div class=\"colab-df-container\">\n",
              "      <div>\n",
              "<style scoped>\n",
              "    .dataframe tbody tr th:only-of-type {\n",
              "        vertical-align: middle;\n",
              "    }\n",
              "\n",
              "    .dataframe tbody tr th {\n",
              "        vertical-align: top;\n",
              "    }\n",
              "\n",
              "    .dataframe thead th {\n",
              "        text-align: right;\n",
              "    }\n",
              "</style>\n",
              "<table border=\"1\" class=\"dataframe\">\n",
              "  <thead>\n",
              "    <tr style=\"text-align: right;\">\n",
              "      <th></th>\n",
              "      <th>idEtudiant</th>\n",
              "      <th>prenom</th>\n",
              "      <th>nom</th>\n",
              "      <th>adresse</th>\n",
              "      <th>cp</th>\n",
              "      <th>ville</th>\n",
              "      <th>telFixe</th>\n",
              "      <th>telPortable</th>\n",
              "    </tr>\n",
              "  </thead>\n",
              "  <tbody>\n",
              "    <tr>\n",
              "      <th>0</th>\n",
              "      <td>1</td>\n",
              "      <td>Emile</td>\n",
              "      <td>Caron</td>\n",
              "      <td>35 Rue de Port-à-loup</td>\n",
              "      <td>1957</td>\n",
              "      <td>Conpuygnuse</td>\n",
              "      <td>457943774</td>\n",
              "      <td>783088145</td>\n",
              "    </tr>\n",
              "  </tbody>\n",
              "</table>\n",
              "</div>\n",
              "      <button class=\"colab-df-convert\" onclick=\"convertToInteractive('df-f6e4f3cc-b312-4f17-b944-e15ac0483a76')\"\n",
              "              title=\"Convert this dataframe to an interactive table.\"\n",
              "              style=\"display:none;\">\n",
              "        \n",
              "  <svg xmlns=\"http://www.w3.org/2000/svg\" height=\"24px\"viewBox=\"0 0 24 24\"\n",
              "       width=\"24px\">\n",
              "    <path d=\"M0 0h24v24H0V0z\" fill=\"none\"/>\n",
              "    <path d=\"M18.56 5.44l.94 2.06.94-2.06 2.06-.94-2.06-.94-.94-2.06-.94 2.06-2.06.94zm-11 1L8.5 8.5l.94-2.06 2.06-.94-2.06-.94L8.5 2.5l-.94 2.06-2.06.94zm10 10l.94 2.06.94-2.06 2.06-.94-2.06-.94-.94-2.06-.94 2.06-2.06.94z\"/><path d=\"M17.41 7.96l-1.37-1.37c-.4-.4-.92-.59-1.43-.59-.52 0-1.04.2-1.43.59L10.3 9.45l-7.72 7.72c-.78.78-.78 2.05 0 2.83L4 21.41c.39.39.9.59 1.41.59.51 0 1.02-.2 1.41-.59l7.78-7.78 2.81-2.81c.8-.78.8-2.07 0-2.86zM5.41 20L4 18.59l7.72-7.72 1.47 1.35L5.41 20z\"/>\n",
              "  </svg>\n",
              "      </button>\n",
              "      \n",
              "  <style>\n",
              "    .colab-df-container {\n",
              "      display:flex;\n",
              "      flex-wrap:wrap;\n",
              "      gap: 12px;\n",
              "    }\n",
              "\n",
              "    .colab-df-convert {\n",
              "      background-color: #E8F0FE;\n",
              "      border: none;\n",
              "      border-radius: 50%;\n",
              "      cursor: pointer;\n",
              "      display: none;\n",
              "      fill: #1967D2;\n",
              "      height: 32px;\n",
              "      padding: 0 0 0 0;\n",
              "      width: 32px;\n",
              "    }\n",
              "\n",
              "    .colab-df-convert:hover {\n",
              "      background-color: #E2EBFA;\n",
              "      box-shadow: 0px 1px 2px rgba(60, 64, 67, 0.3), 0px 1px 3px 1px rgba(60, 64, 67, 0.15);\n",
              "      fill: #174EA6;\n",
              "    }\n",
              "\n",
              "    [theme=dark] .colab-df-convert {\n",
              "      background-color: #3B4455;\n",
              "      fill: #D2E3FC;\n",
              "    }\n",
              "\n",
              "    [theme=dark] .colab-df-convert:hover {\n",
              "      background-color: #434B5C;\n",
              "      box-shadow: 0px 1px 3px 1px rgba(0, 0, 0, 0.15);\n",
              "      filter: drop-shadow(0px 1px 2px rgba(0, 0, 0, 0.3));\n",
              "      fill: #FFFFFF;\n",
              "    }\n",
              "  </style>\n",
              "\n",
              "      <script>\n",
              "        const buttonEl =\n",
              "          document.querySelector('#df-f6e4f3cc-b312-4f17-b944-e15ac0483a76 button.colab-df-convert');\n",
              "        buttonEl.style.display =\n",
              "          google.colab.kernel.accessAllowed ? 'block' : 'none';\n",
              "\n",
              "        async function convertToInteractive(key) {\n",
              "          const element = document.querySelector('#df-f6e4f3cc-b312-4f17-b944-e15ac0483a76');\n",
              "          const dataTable =\n",
              "            await google.colab.kernel.invokeFunction('convertToInteractive',\n",
              "                                                     [key], {});\n",
              "          if (!dataTable) return;\n",
              "\n",
              "          const docLinkHtml = 'Like what you see? Visit the ' +\n",
              "            '<a target=\"_blank\" href=https://colab.research.google.com/notebooks/data_table.ipynb>data table notebook</a>'\n",
              "            + ' to learn more about interactive tables.';\n",
              "          element.innerHTML = '';\n",
              "          dataTable['output_type'] = 'display_data';\n",
              "          await google.colab.output.renderOutput(dataTable, element);\n",
              "          const docLink = document.createElement('div');\n",
              "          docLink.innerHTML = docLinkHtml;\n",
              "          element.appendChild(docLink);\n",
              "        }\n",
              "      </script>\n",
              "    </div>\n",
              "  </div>\n",
              "  "
            ]
          },
          "metadata": {},
          "execution_count": 15
        }
      ],
      "source": [
        "df_etudiants.columns=['idEtudiant','prenom','nom','adresse', 'cp','ville','telFixe','telPortable']\n",
        "df_etudiants.head(1)"
      ]
    },
    {
      "cell_type": "code",
      "execution_count": 16,
      "id": "20850e0e",
      "metadata": {
        "id": "20850e0e"
      },
      "outputs": [],
      "source": [
        "df_inscriptions = pd.read_csv('Data/inscriptions.csv',sep=\";\")"
      ]
    },
    {
      "cell_type": "code",
      "execution_count": 17,
      "id": "42ec35f2",
      "metadata": {
        "id": "42ec35f2",
        "colab": {
          "base_uri": "https://localhost:8080/",
          "height": 206
        },
        "outputId": "e9280d81-cb17-4801-8198-aa32cf29c670"
      },
      "outputs": [
        {
          "output_type": "execute_result",
          "data": {
            "text/plain": [
              "   idInscription  idEtudiant codeMatiere\n",
              "0              1           1        OS14\n",
              "1              2           1        UX82\n",
              "2              3           1        PQ84\n",
              "3              4           1        ZX19\n",
              "4              5           1        VO38"
            ],
            "text/html": [
              "\n",
              "  <div id=\"df-57c775ca-11de-48c7-96e4-db6f960ed9c8\">\n",
              "    <div class=\"colab-df-container\">\n",
              "      <div>\n",
              "<style scoped>\n",
              "    .dataframe tbody tr th:only-of-type {\n",
              "        vertical-align: middle;\n",
              "    }\n",
              "\n",
              "    .dataframe tbody tr th {\n",
              "        vertical-align: top;\n",
              "    }\n",
              "\n",
              "    .dataframe thead th {\n",
              "        text-align: right;\n",
              "    }\n",
              "</style>\n",
              "<table border=\"1\" class=\"dataframe\">\n",
              "  <thead>\n",
              "    <tr style=\"text-align: right;\">\n",
              "      <th></th>\n",
              "      <th>idInscription</th>\n",
              "      <th>idEtudiant</th>\n",
              "      <th>codeMatiere</th>\n",
              "    </tr>\n",
              "  </thead>\n",
              "  <tbody>\n",
              "    <tr>\n",
              "      <th>0</th>\n",
              "      <td>1</td>\n",
              "      <td>1</td>\n",
              "      <td>OS14</td>\n",
              "    </tr>\n",
              "    <tr>\n",
              "      <th>1</th>\n",
              "      <td>2</td>\n",
              "      <td>1</td>\n",
              "      <td>UX82</td>\n",
              "    </tr>\n",
              "    <tr>\n",
              "      <th>2</th>\n",
              "      <td>3</td>\n",
              "      <td>1</td>\n",
              "      <td>PQ84</td>\n",
              "    </tr>\n",
              "    <tr>\n",
              "      <th>3</th>\n",
              "      <td>4</td>\n",
              "      <td>1</td>\n",
              "      <td>ZX19</td>\n",
              "    </tr>\n",
              "    <tr>\n",
              "      <th>4</th>\n",
              "      <td>5</td>\n",
              "      <td>1</td>\n",
              "      <td>VO38</td>\n",
              "    </tr>\n",
              "  </tbody>\n",
              "</table>\n",
              "</div>\n",
              "      <button class=\"colab-df-convert\" onclick=\"convertToInteractive('df-57c775ca-11de-48c7-96e4-db6f960ed9c8')\"\n",
              "              title=\"Convert this dataframe to an interactive table.\"\n",
              "              style=\"display:none;\">\n",
              "        \n",
              "  <svg xmlns=\"http://www.w3.org/2000/svg\" height=\"24px\"viewBox=\"0 0 24 24\"\n",
              "       width=\"24px\">\n",
              "    <path d=\"M0 0h24v24H0V0z\" fill=\"none\"/>\n",
              "    <path d=\"M18.56 5.44l.94 2.06.94-2.06 2.06-.94-2.06-.94-.94-2.06-.94 2.06-2.06.94zm-11 1L8.5 8.5l.94-2.06 2.06-.94-2.06-.94L8.5 2.5l-.94 2.06-2.06.94zm10 10l.94 2.06.94-2.06 2.06-.94-2.06-.94-.94-2.06-.94 2.06-2.06.94z\"/><path d=\"M17.41 7.96l-1.37-1.37c-.4-.4-.92-.59-1.43-.59-.52 0-1.04.2-1.43.59L10.3 9.45l-7.72 7.72c-.78.78-.78 2.05 0 2.83L4 21.41c.39.39.9.59 1.41.59.51 0 1.02-.2 1.41-.59l7.78-7.78 2.81-2.81c.8-.78.8-2.07 0-2.86zM5.41 20L4 18.59l7.72-7.72 1.47 1.35L5.41 20z\"/>\n",
              "  </svg>\n",
              "      </button>\n",
              "      \n",
              "  <style>\n",
              "    .colab-df-container {\n",
              "      display:flex;\n",
              "      flex-wrap:wrap;\n",
              "      gap: 12px;\n",
              "    }\n",
              "\n",
              "    .colab-df-convert {\n",
              "      background-color: #E8F0FE;\n",
              "      border: none;\n",
              "      border-radius: 50%;\n",
              "      cursor: pointer;\n",
              "      display: none;\n",
              "      fill: #1967D2;\n",
              "      height: 32px;\n",
              "      padding: 0 0 0 0;\n",
              "      width: 32px;\n",
              "    }\n",
              "\n",
              "    .colab-df-convert:hover {\n",
              "      background-color: #E2EBFA;\n",
              "      box-shadow: 0px 1px 2px rgba(60, 64, 67, 0.3), 0px 1px 3px 1px rgba(60, 64, 67, 0.15);\n",
              "      fill: #174EA6;\n",
              "    }\n",
              "\n",
              "    [theme=dark] .colab-df-convert {\n",
              "      background-color: #3B4455;\n",
              "      fill: #D2E3FC;\n",
              "    }\n",
              "\n",
              "    [theme=dark] .colab-df-convert:hover {\n",
              "      background-color: #434B5C;\n",
              "      box-shadow: 0px 1px 3px 1px rgba(0, 0, 0, 0.15);\n",
              "      filter: drop-shadow(0px 1px 2px rgba(0, 0, 0, 0.3));\n",
              "      fill: #FFFFFF;\n",
              "    }\n",
              "  </style>\n",
              "\n",
              "      <script>\n",
              "        const buttonEl =\n",
              "          document.querySelector('#df-57c775ca-11de-48c7-96e4-db6f960ed9c8 button.colab-df-convert');\n",
              "        buttonEl.style.display =\n",
              "          google.colab.kernel.accessAllowed ? 'block' : 'none';\n",
              "\n",
              "        async function convertToInteractive(key) {\n",
              "          const element = document.querySelector('#df-57c775ca-11de-48c7-96e4-db6f960ed9c8');\n",
              "          const dataTable =\n",
              "            await google.colab.kernel.invokeFunction('convertToInteractive',\n",
              "                                                     [key], {});\n",
              "          if (!dataTable) return;\n",
              "\n",
              "          const docLinkHtml = 'Like what you see? Visit the ' +\n",
              "            '<a target=\"_blank\" href=https://colab.research.google.com/notebooks/data_table.ipynb>data table notebook</a>'\n",
              "            + ' to learn more about interactive tables.';\n",
              "          element.innerHTML = '';\n",
              "          dataTable['output_type'] = 'display_data';\n",
              "          await google.colab.output.renderOutput(dataTable, element);\n",
              "          const docLink = document.createElement('div');\n",
              "          docLink.innerHTML = docLinkHtml;\n",
              "          element.appendChild(docLink);\n",
              "        }\n",
              "      </script>\n",
              "    </div>\n",
              "  </div>\n",
              "  "
            ]
          },
          "metadata": {},
          "execution_count": 17
        }
      ],
      "source": [
        "df_inscriptions.columns=['idInscription','idEtudiant','codeMatiere']\n",
        "df_inscriptions.head()"
      ]
    },
    {
      "cell_type": "code",
      "execution_count": 18,
      "id": "e8b8d017",
      "metadata": {
        "id": "e8b8d017"
      },
      "outputs": [],
      "source": [
        "df_matieres = pd.read_csv('Data/matieres.csv',sep=\";\") "
      ]
    },
    {
      "cell_type": "code",
      "execution_count": 19,
      "id": "fefa18bf",
      "metadata": {
        "scrolled": true,
        "id": "fefa18bf",
        "colab": {
          "base_uri": "https://localhost:8080/",
          "height": 81
        },
        "outputId": "901fb820-8a05-4089-8c9d-68ab0de1c60c"
      },
      "outputs": [
        {
          "output_type": "execute_result",
          "data": {
            "text/plain": [
              "  codeMatiere salle  idEnseignant\n",
              "0        PU93  C106             7"
            ],
            "text/html": [
              "\n",
              "  <div id=\"df-a797e3c4-1e31-47d5-bb5d-e460a3b27c9f\">\n",
              "    <div class=\"colab-df-container\">\n",
              "      <div>\n",
              "<style scoped>\n",
              "    .dataframe tbody tr th:only-of-type {\n",
              "        vertical-align: middle;\n",
              "    }\n",
              "\n",
              "    .dataframe tbody tr th {\n",
              "        vertical-align: top;\n",
              "    }\n",
              "\n",
              "    .dataframe thead th {\n",
              "        text-align: right;\n",
              "    }\n",
              "</style>\n",
              "<table border=\"1\" class=\"dataframe\">\n",
              "  <thead>\n",
              "    <tr style=\"text-align: right;\">\n",
              "      <th></th>\n",
              "      <th>codeMatiere</th>\n",
              "      <th>salle</th>\n",
              "      <th>idEnseignant</th>\n",
              "    </tr>\n",
              "  </thead>\n",
              "  <tbody>\n",
              "    <tr>\n",
              "      <th>0</th>\n",
              "      <td>PU93</td>\n",
              "      <td>C106</td>\n",
              "      <td>7</td>\n",
              "    </tr>\n",
              "  </tbody>\n",
              "</table>\n",
              "</div>\n",
              "      <button class=\"colab-df-convert\" onclick=\"convertToInteractive('df-a797e3c4-1e31-47d5-bb5d-e460a3b27c9f')\"\n",
              "              title=\"Convert this dataframe to an interactive table.\"\n",
              "              style=\"display:none;\">\n",
              "        \n",
              "  <svg xmlns=\"http://www.w3.org/2000/svg\" height=\"24px\"viewBox=\"0 0 24 24\"\n",
              "       width=\"24px\">\n",
              "    <path d=\"M0 0h24v24H0V0z\" fill=\"none\"/>\n",
              "    <path d=\"M18.56 5.44l.94 2.06.94-2.06 2.06-.94-2.06-.94-.94-2.06-.94 2.06-2.06.94zm-11 1L8.5 8.5l.94-2.06 2.06-.94-2.06-.94L8.5 2.5l-.94 2.06-2.06.94zm10 10l.94 2.06.94-2.06 2.06-.94-2.06-.94-.94-2.06-.94 2.06-2.06.94z\"/><path d=\"M17.41 7.96l-1.37-1.37c-.4-.4-.92-.59-1.43-.59-.52 0-1.04.2-1.43.59L10.3 9.45l-7.72 7.72c-.78.78-.78 2.05 0 2.83L4 21.41c.39.39.9.59 1.41.59.51 0 1.02-.2 1.41-.59l7.78-7.78 2.81-2.81c.8-.78.8-2.07 0-2.86zM5.41 20L4 18.59l7.72-7.72 1.47 1.35L5.41 20z\"/>\n",
              "  </svg>\n",
              "      </button>\n",
              "      \n",
              "  <style>\n",
              "    .colab-df-container {\n",
              "      display:flex;\n",
              "      flex-wrap:wrap;\n",
              "      gap: 12px;\n",
              "    }\n",
              "\n",
              "    .colab-df-convert {\n",
              "      background-color: #E8F0FE;\n",
              "      border: none;\n",
              "      border-radius: 50%;\n",
              "      cursor: pointer;\n",
              "      display: none;\n",
              "      fill: #1967D2;\n",
              "      height: 32px;\n",
              "      padding: 0 0 0 0;\n",
              "      width: 32px;\n",
              "    }\n",
              "\n",
              "    .colab-df-convert:hover {\n",
              "      background-color: #E2EBFA;\n",
              "      box-shadow: 0px 1px 2px rgba(60, 64, 67, 0.3), 0px 1px 3px 1px rgba(60, 64, 67, 0.15);\n",
              "      fill: #174EA6;\n",
              "    }\n",
              "\n",
              "    [theme=dark] .colab-df-convert {\n",
              "      background-color: #3B4455;\n",
              "      fill: #D2E3FC;\n",
              "    }\n",
              "\n",
              "    [theme=dark] .colab-df-convert:hover {\n",
              "      background-color: #434B5C;\n",
              "      box-shadow: 0px 1px 3px 1px rgba(0, 0, 0, 0.15);\n",
              "      filter: drop-shadow(0px 1px 2px rgba(0, 0, 0, 0.3));\n",
              "      fill: #FFFFFF;\n",
              "    }\n",
              "  </style>\n",
              "\n",
              "      <script>\n",
              "        const buttonEl =\n",
              "          document.querySelector('#df-a797e3c4-1e31-47d5-bb5d-e460a3b27c9f button.colab-df-convert');\n",
              "        buttonEl.style.display =\n",
              "          google.colab.kernel.accessAllowed ? 'block' : 'none';\n",
              "\n",
              "        async function convertToInteractive(key) {\n",
              "          const element = document.querySelector('#df-a797e3c4-1e31-47d5-bb5d-e460a3b27c9f');\n",
              "          const dataTable =\n",
              "            await google.colab.kernel.invokeFunction('convertToInteractive',\n",
              "                                                     [key], {});\n",
              "          if (!dataTable) return;\n",
              "\n",
              "          const docLinkHtml = 'Like what you see? Visit the ' +\n",
              "            '<a target=\"_blank\" href=https://colab.research.google.com/notebooks/data_table.ipynb>data table notebook</a>'\n",
              "            + ' to learn more about interactive tables.';\n",
              "          element.innerHTML = '';\n",
              "          dataTable['output_type'] = 'display_data';\n",
              "          await google.colab.output.renderOutput(dataTable, element);\n",
              "          const docLink = document.createElement('div');\n",
              "          docLink.innerHTML = docLinkHtml;\n",
              "          element.appendChild(docLink);\n",
              "        }\n",
              "      </script>\n",
              "    </div>\n",
              "  </div>\n",
              "  "
            ]
          },
          "metadata": {},
          "execution_count": 19
        }
      ],
      "source": [
        "df_matieres.columns=['codeMatiere','salle','idEnseignant']\n",
        "df_matieres.head(1)"
      ]
    },
    {
      "cell_type": "code",
      "execution_count": 20,
      "id": "48dcbe0f",
      "metadata": {
        "id": "48dcbe0f"
      },
      "outputs": [],
      "source": [
        "df_resultats = pd.read_csv('Data/resultats.csv',sep=\";\") "
      ]
    },
    {
      "cell_type": "code",
      "execution_count": 21,
      "id": "c93120b7",
      "metadata": {
        "id": "c93120b7",
        "colab": {
          "base_uri": "https://localhost:8080/",
          "height": 81
        },
        "outputId": "40b45b71-cf71-41d1-98c8-85041e3e44cb"
      },
      "outputs": [
        {
          "output_type": "execute_result",
          "data": {
            "text/plain": [
              "   idResultat  idInscription  note\n",
              "0           1              1  17.9"
            ],
            "text/html": [
              "\n",
              "  <div id=\"df-8663525b-b042-49c6-a9fb-d99421fe3887\">\n",
              "    <div class=\"colab-df-container\">\n",
              "      <div>\n",
              "<style scoped>\n",
              "    .dataframe tbody tr th:only-of-type {\n",
              "        vertical-align: middle;\n",
              "    }\n",
              "\n",
              "    .dataframe tbody tr th {\n",
              "        vertical-align: top;\n",
              "    }\n",
              "\n",
              "    .dataframe thead th {\n",
              "        text-align: right;\n",
              "    }\n",
              "</style>\n",
              "<table border=\"1\" class=\"dataframe\">\n",
              "  <thead>\n",
              "    <tr style=\"text-align: right;\">\n",
              "      <th></th>\n",
              "      <th>idResultat</th>\n",
              "      <th>idInscription</th>\n",
              "      <th>note</th>\n",
              "    </tr>\n",
              "  </thead>\n",
              "  <tbody>\n",
              "    <tr>\n",
              "      <th>0</th>\n",
              "      <td>1</td>\n",
              "      <td>1</td>\n",
              "      <td>17.9</td>\n",
              "    </tr>\n",
              "  </tbody>\n",
              "</table>\n",
              "</div>\n",
              "      <button class=\"colab-df-convert\" onclick=\"convertToInteractive('df-8663525b-b042-49c6-a9fb-d99421fe3887')\"\n",
              "              title=\"Convert this dataframe to an interactive table.\"\n",
              "              style=\"display:none;\">\n",
              "        \n",
              "  <svg xmlns=\"http://www.w3.org/2000/svg\" height=\"24px\"viewBox=\"0 0 24 24\"\n",
              "       width=\"24px\">\n",
              "    <path d=\"M0 0h24v24H0V0z\" fill=\"none\"/>\n",
              "    <path d=\"M18.56 5.44l.94 2.06.94-2.06 2.06-.94-2.06-.94-.94-2.06-.94 2.06-2.06.94zm-11 1L8.5 8.5l.94-2.06 2.06-.94-2.06-.94L8.5 2.5l-.94 2.06-2.06.94zm10 10l.94 2.06.94-2.06 2.06-.94-2.06-.94-.94-2.06-.94 2.06-2.06.94z\"/><path d=\"M17.41 7.96l-1.37-1.37c-.4-.4-.92-.59-1.43-.59-.52 0-1.04.2-1.43.59L10.3 9.45l-7.72 7.72c-.78.78-.78 2.05 0 2.83L4 21.41c.39.39.9.59 1.41.59.51 0 1.02-.2 1.41-.59l7.78-7.78 2.81-2.81c.8-.78.8-2.07 0-2.86zM5.41 20L4 18.59l7.72-7.72 1.47 1.35L5.41 20z\"/>\n",
              "  </svg>\n",
              "      </button>\n",
              "      \n",
              "  <style>\n",
              "    .colab-df-container {\n",
              "      display:flex;\n",
              "      flex-wrap:wrap;\n",
              "      gap: 12px;\n",
              "    }\n",
              "\n",
              "    .colab-df-convert {\n",
              "      background-color: #E8F0FE;\n",
              "      border: none;\n",
              "      border-radius: 50%;\n",
              "      cursor: pointer;\n",
              "      display: none;\n",
              "      fill: #1967D2;\n",
              "      height: 32px;\n",
              "      padding: 0 0 0 0;\n",
              "      width: 32px;\n",
              "    }\n",
              "\n",
              "    .colab-df-convert:hover {\n",
              "      background-color: #E2EBFA;\n",
              "      box-shadow: 0px 1px 2px rgba(60, 64, 67, 0.3), 0px 1px 3px 1px rgba(60, 64, 67, 0.15);\n",
              "      fill: #174EA6;\n",
              "    }\n",
              "\n",
              "    [theme=dark] .colab-df-convert {\n",
              "      background-color: #3B4455;\n",
              "      fill: #D2E3FC;\n",
              "    }\n",
              "\n",
              "    [theme=dark] .colab-df-convert:hover {\n",
              "      background-color: #434B5C;\n",
              "      box-shadow: 0px 1px 3px 1px rgba(0, 0, 0, 0.15);\n",
              "      filter: drop-shadow(0px 1px 2px rgba(0, 0, 0, 0.3));\n",
              "      fill: #FFFFFF;\n",
              "    }\n",
              "  </style>\n",
              "\n",
              "      <script>\n",
              "        const buttonEl =\n",
              "          document.querySelector('#df-8663525b-b042-49c6-a9fb-d99421fe3887 button.colab-df-convert');\n",
              "        buttonEl.style.display =\n",
              "          google.colab.kernel.accessAllowed ? 'block' : 'none';\n",
              "\n",
              "        async function convertToInteractive(key) {\n",
              "          const element = document.querySelector('#df-8663525b-b042-49c6-a9fb-d99421fe3887');\n",
              "          const dataTable =\n",
              "            await google.colab.kernel.invokeFunction('convertToInteractive',\n",
              "                                                     [key], {});\n",
              "          if (!dataTable) return;\n",
              "\n",
              "          const docLinkHtml = 'Like what you see? Visit the ' +\n",
              "            '<a target=\"_blank\" href=https://colab.research.google.com/notebooks/data_table.ipynb>data table notebook</a>'\n",
              "            + ' to learn more about interactive tables.';\n",
              "          element.innerHTML = '';\n",
              "          dataTable['output_type'] = 'display_data';\n",
              "          await google.colab.output.renderOutput(dataTable, element);\n",
              "          const docLink = document.createElement('div');\n",
              "          docLink.innerHTML = docLinkHtml;\n",
              "          element.appendChild(docLink);\n",
              "        }\n",
              "      </script>\n",
              "    </div>\n",
              "  </div>\n",
              "  "
            ]
          },
          "metadata": {},
          "execution_count": 21
        }
      ],
      "source": [
        "df_resultats.columns=['idResultat','idInscription','note']\n",
        "df_resultats.head(1)"
      ]
    },
    {
      "cell_type": "markdown",
      "id": "2757f3ad",
      "metadata": {
        "id": "2757f3ad"
      },
      "source": [
        "### Création de la base et création de la table enseignants"
      ]
    },
    {
      "cell_type": "code",
      "execution_count": 23,
      "id": "53d1aa90",
      "metadata": {
        "id": "53d1aa90"
      },
      "outputs": [],
      "source": [
        "connection = sqlite3.connect('universite.db.db')\n",
        "cursor = connection.cursor()\n",
        "cursor.execute('Create Table if not exists enseignants (idEnseignant INTEGER PRIMARY KEY , nom Text, prenom Text,adresse Text,cp Text, ville Text,telFixe Text , telPortable Text)')\n",
        "connection.commit()"
      ]
    },
    {
      "cell_type": "code",
      "execution_count": 24,
      "id": "5a59107b",
      "metadata": {
        "id": "5a59107b",
        "colab": {
          "base_uri": "https://localhost:8080/"
        },
        "outputId": "2fc2a263-73e1-430d-bdd7-afa559a2eefb"
      },
      "outputs": [
        {
          "output_type": "execute_result",
          "data": {
            "text/plain": [
              "15"
            ]
          },
          "metadata": {},
          "execution_count": 24
        }
      ],
      "source": [
        "df_enseignants.to_sql('enseignants', connection, if_exists='replace', index = False)"
      ]
    },
    {
      "cell_type": "markdown",
      "id": "a343ca3c",
      "metadata": {
        "id": "a343ca3c"
      },
      "source": [
        "index = False pour ne pas ajouter un champ index dans la table (par défaut index=True)"
      ]
    },
    {
      "cell_type": "markdown",
      "id": "fe40a00f",
      "metadata": {
        "id": "fe40a00f"
      },
      "source": [
        "### Création de la table etudiants "
      ]
    },
    {
      "cell_type": "code",
      "execution_count": 25,
      "id": "cd75cd14",
      "metadata": {
        "id": "cd75cd14"
      },
      "outputs": [],
      "source": [
        "cursor.execute('Create Table if not exists etudiants (idEtudiant INTEGER PRIMARY KEY , nom Text, prenom Text,adresse Text,cp Text, ville Text,telFixe Text , telPortable Text)')\n",
        "connection.commit()"
      ]
    },
    {
      "cell_type": "code",
      "execution_count": null,
      "id": "d647399d",
      "metadata": {
        "id": "d647399d"
      },
      "outputs": [],
      "source": [
        "#df_etudiants.columns = ['idEtudiant','prenom','nom','adresse', 'cp','ville','telFixe','telPortable']"
      ]
    },
    {
      "cell_type": "code",
      "execution_count": 26,
      "id": "cdb562a1",
      "metadata": {
        "id": "cdb562a1",
        "colab": {
          "base_uri": "https://localhost:8080/"
        },
        "outputId": "59a554ba-17df-4df0-adb1-e97b6e50e790"
      },
      "outputs": [
        {
          "output_type": "execute_result",
          "data": {
            "text/plain": [
              "85"
            ]
          },
          "metadata": {},
          "execution_count": 26
        }
      ],
      "source": [
        "df_etudiants.to_sql('etudiants', connection, if_exists='replace', index = False)"
      ]
    },
    {
      "cell_type": "code",
      "source": [],
      "metadata": {
        "id": "pnl51ebSKW-e"
      },
      "id": "pnl51ebSKW-e",
      "execution_count": null,
      "outputs": []
    },
    {
      "cell_type": "markdown",
      "id": "b377e98c",
      "metadata": {
        "id": "b377e98c"
      },
      "source": [
        "### Création de la table inscriptions"
      ]
    },
    {
      "cell_type": "code",
      "execution_count": null,
      "id": "be6d65d2",
      "metadata": {
        "id": "be6d65d2"
      },
      "outputs": [],
      "source": [
        "#df_inscriptions.columns = ['idInscription','IdEtudiant','codeMatiere']"
      ]
    },
    {
      "cell_type": "code",
      "execution_count": 27,
      "id": "aac075af",
      "metadata": {
        "id": "aac075af"
      },
      "outputs": [],
      "source": [
        "cursor.execute('Create Table if not exists inscriptions (idInscription INTEGER PRIMARY KEY , idEtudiant INTEGER,codeMatiere INTEGER)')\n",
        "connection.commit()"
      ]
    },
    {
      "cell_type": "code",
      "execution_count": 28,
      "id": "a6f1c246",
      "metadata": {
        "id": "a6f1c246",
        "colab": {
          "base_uri": "https://localhost:8080/"
        },
        "outputId": "d6d92642-22ff-4efe-b14b-142aa3204cc1"
      },
      "outputs": [
        {
          "output_type": "execute_result",
          "data": {
            "text/plain": [
              "507"
            ]
          },
          "metadata": {},
          "execution_count": 28
        }
      ],
      "source": [
        "df_inscriptions.to_sql('inscriptions', connection, if_exists='replace', index = False)"
      ]
    },
    {
      "cell_type": "code",
      "source": [
        "cursor.execute(\"SELECT name FROM sqlite_master WHERE type='table';\")\n",
        "print(cursor.fetchall())"
      ],
      "metadata": {
        "colab": {
          "base_uri": "https://localhost:8080/"
        },
        "id": "6ZQe2iMGKZTp",
        "outputId": "f4c8bd67-0539-4c01-e03d-b6a9e6b0e347"
      },
      "id": "6ZQe2iMGKZTp",
      "execution_count": 29,
      "outputs": [
        {
          "output_type": "stream",
          "name": "stdout",
          "text": [
            "[('enseignants',), ('etudiants',), ('inscriptions',)]\n"
          ]
        }
      ]
    },
    {
      "cell_type": "code",
      "source": [
        "# Verification\n",
        "#df_test = pd.read_sql_query(\"SELECT * FROM resultats\", connection,index_col='idResultat')\n",
        "#df_test.head()"
      ],
      "metadata": {
        "id": "klFB3xKhKyPr"
      },
      "id": "klFB3xKhKyPr",
      "execution_count": 39,
      "outputs": []
    },
    {
      "cell_type": "markdown",
      "id": "89a759eb",
      "metadata": {
        "id": "89a759eb"
      },
      "source": [
        "### Création de la table matieres"
      ]
    },
    {
      "cell_type": "code",
      "execution_count": 31,
      "id": "7b689179",
      "metadata": {
        "id": "7b689179"
      },
      "outputs": [],
      "source": [
        "#df_matieres.columns = ['codeMatiere','salle','IdEnseignant']\n",
        "cursor.execute('Create Table if not exists matieres (codeMatiere Text PRIMARY KEY ,salle Text,idEnseignant INTEGER)')\n",
        "connection.commit()"
      ]
    },
    {
      "cell_type": "code",
      "execution_count": 32,
      "id": "ff3f1d43",
      "metadata": {
        "id": "ff3f1d43",
        "colab": {
          "base_uri": "https://localhost:8080/"
        },
        "outputId": "fb43f644-95d1-4c3a-c88c-2a8007505db6"
      },
      "outputs": [
        {
          "output_type": "execute_result",
          "data": {
            "text/plain": [
              "60"
            ]
          },
          "metadata": {},
          "execution_count": 32
        }
      ],
      "source": [
        "df_matieres.to_sql('matieres', connection, if_exists='replace', index = False)"
      ]
    },
    {
      "cell_type": "markdown",
      "id": "fee7e8b1",
      "metadata": {
        "id": "fee7e8b1"
      },
      "source": [
        "### Création de la table resultats"
      ]
    },
    {
      "cell_type": "code",
      "execution_count": 33,
      "id": "249772c0",
      "metadata": {
        "id": "249772c0"
      },
      "outputs": [],
      "source": [
        "#df_resultats.columns = ['IdResultat','IdInscription','note']\n",
        "cursor.execute('Create Table if not exists resultats (idResultat INTEGER PRIMARY KEY ,idInscription INTEGER,note INTEGER)')\n",
        "connection.commit()"
      ]
    },
    {
      "cell_type": "code",
      "execution_count": 34,
      "id": "2f154e20",
      "metadata": {
        "id": "2f154e20",
        "colab": {
          "base_uri": "https://localhost:8080/"
        },
        "outputId": "4e041ae5-e8a4-4d92-8abc-8ea840d69867"
      },
      "outputs": [
        {
          "output_type": "execute_result",
          "data": {
            "text/plain": [
              "3052"
            ]
          },
          "metadata": {},
          "execution_count": 34
        }
      ],
      "source": [
        "df_resultats.to_sql('resultats', connection, if_exists='replace', index = False)"
      ]
    },
    {
      "cell_type": "markdown",
      "id": "63be04c9",
      "metadata": {
        "id": "63be04c9"
      },
      "source": [
        "### Exercice2"
      ]
    },
    {
      "cell_type": "markdown",
      "id": "6cc1d79f",
      "metadata": {
        "id": "6cc1d79f"
      },
      "source": [
        "## DataFrame: moyennes par matière ( à partir d'une requête) "
      ]
    },
    {
      "cell_type": "code",
      "execution_count": 36,
      "id": "56b12587",
      "metadata": {
        "id": "56b12587",
        "colab": {
          "base_uri": "https://localhost:8080/",
          "height": 423
        },
        "outputId": "f51c1e64-b6f1-43ae-c7e0-b99d1db949ca"
      },
      "outputs": [
        {
          "output_type": "execute_result",
          "data": {
            "text/plain": [
              "     codeMatiere   note\n",
              "0           OS14  17.90\n",
              "1           OS14  15.90\n",
              "2           OS14  15.28\n",
              "3           OS14  15.09\n",
              "4           OS14  16.41\n",
              "...          ...    ...\n",
              "3047        PU93  13.07\n",
              "3048        PU93  14.57\n",
              "3049        PU93  13.43\n",
              "3050        PU93  11.11\n",
              "3051        PU93  13.44\n",
              "\n",
              "[3052 rows x 2 columns]"
            ],
            "text/html": [
              "\n",
              "  <div id=\"df-6f691610-a34c-457e-a942-476567a465a2\">\n",
              "    <div class=\"colab-df-container\">\n",
              "      <div>\n",
              "<style scoped>\n",
              "    .dataframe tbody tr th:only-of-type {\n",
              "        vertical-align: middle;\n",
              "    }\n",
              "\n",
              "    .dataframe tbody tr th {\n",
              "        vertical-align: top;\n",
              "    }\n",
              "\n",
              "    .dataframe thead th {\n",
              "        text-align: right;\n",
              "    }\n",
              "</style>\n",
              "<table border=\"1\" class=\"dataframe\">\n",
              "  <thead>\n",
              "    <tr style=\"text-align: right;\">\n",
              "      <th></th>\n",
              "      <th>codeMatiere</th>\n",
              "      <th>note</th>\n",
              "    </tr>\n",
              "  </thead>\n",
              "  <tbody>\n",
              "    <tr>\n",
              "      <th>0</th>\n",
              "      <td>OS14</td>\n",
              "      <td>17.90</td>\n",
              "    </tr>\n",
              "    <tr>\n",
              "      <th>1</th>\n",
              "      <td>OS14</td>\n",
              "      <td>15.90</td>\n",
              "    </tr>\n",
              "    <tr>\n",
              "      <th>2</th>\n",
              "      <td>OS14</td>\n",
              "      <td>15.28</td>\n",
              "    </tr>\n",
              "    <tr>\n",
              "      <th>3</th>\n",
              "      <td>OS14</td>\n",
              "      <td>15.09</td>\n",
              "    </tr>\n",
              "    <tr>\n",
              "      <th>4</th>\n",
              "      <td>OS14</td>\n",
              "      <td>16.41</td>\n",
              "    </tr>\n",
              "    <tr>\n",
              "      <th>...</th>\n",
              "      <td>...</td>\n",
              "      <td>...</td>\n",
              "    </tr>\n",
              "    <tr>\n",
              "      <th>3047</th>\n",
              "      <td>PU93</td>\n",
              "      <td>13.07</td>\n",
              "    </tr>\n",
              "    <tr>\n",
              "      <th>3048</th>\n",
              "      <td>PU93</td>\n",
              "      <td>14.57</td>\n",
              "    </tr>\n",
              "    <tr>\n",
              "      <th>3049</th>\n",
              "      <td>PU93</td>\n",
              "      <td>13.43</td>\n",
              "    </tr>\n",
              "    <tr>\n",
              "      <th>3050</th>\n",
              "      <td>PU93</td>\n",
              "      <td>11.11</td>\n",
              "    </tr>\n",
              "    <tr>\n",
              "      <th>3051</th>\n",
              "      <td>PU93</td>\n",
              "      <td>13.44</td>\n",
              "    </tr>\n",
              "  </tbody>\n",
              "</table>\n",
              "<p>3052 rows × 2 columns</p>\n",
              "</div>\n",
              "      <button class=\"colab-df-convert\" onclick=\"convertToInteractive('df-6f691610-a34c-457e-a942-476567a465a2')\"\n",
              "              title=\"Convert this dataframe to an interactive table.\"\n",
              "              style=\"display:none;\">\n",
              "        \n",
              "  <svg xmlns=\"http://www.w3.org/2000/svg\" height=\"24px\"viewBox=\"0 0 24 24\"\n",
              "       width=\"24px\">\n",
              "    <path d=\"M0 0h24v24H0V0z\" fill=\"none\"/>\n",
              "    <path d=\"M18.56 5.44l.94 2.06.94-2.06 2.06-.94-2.06-.94-.94-2.06-.94 2.06-2.06.94zm-11 1L8.5 8.5l.94-2.06 2.06-.94-2.06-.94L8.5 2.5l-.94 2.06-2.06.94zm10 10l.94 2.06.94-2.06 2.06-.94-2.06-.94-.94-2.06-.94 2.06-2.06.94z\"/><path d=\"M17.41 7.96l-1.37-1.37c-.4-.4-.92-.59-1.43-.59-.52 0-1.04.2-1.43.59L10.3 9.45l-7.72 7.72c-.78.78-.78 2.05 0 2.83L4 21.41c.39.39.9.59 1.41.59.51 0 1.02-.2 1.41-.59l7.78-7.78 2.81-2.81c.8-.78.8-2.07 0-2.86zM5.41 20L4 18.59l7.72-7.72 1.47 1.35L5.41 20z\"/>\n",
              "  </svg>\n",
              "      </button>\n",
              "      \n",
              "  <style>\n",
              "    .colab-df-container {\n",
              "      display:flex;\n",
              "      flex-wrap:wrap;\n",
              "      gap: 12px;\n",
              "    }\n",
              "\n",
              "    .colab-df-convert {\n",
              "      background-color: #E8F0FE;\n",
              "      border: none;\n",
              "      border-radius: 50%;\n",
              "      cursor: pointer;\n",
              "      display: none;\n",
              "      fill: #1967D2;\n",
              "      height: 32px;\n",
              "      padding: 0 0 0 0;\n",
              "      width: 32px;\n",
              "    }\n",
              "\n",
              "    .colab-df-convert:hover {\n",
              "      background-color: #E2EBFA;\n",
              "      box-shadow: 0px 1px 2px rgba(60, 64, 67, 0.3), 0px 1px 3px 1px rgba(60, 64, 67, 0.15);\n",
              "      fill: #174EA6;\n",
              "    }\n",
              "\n",
              "    [theme=dark] .colab-df-convert {\n",
              "      background-color: #3B4455;\n",
              "      fill: #D2E3FC;\n",
              "    }\n",
              "\n",
              "    [theme=dark] .colab-df-convert:hover {\n",
              "      background-color: #434B5C;\n",
              "      box-shadow: 0px 1px 3px 1px rgba(0, 0, 0, 0.15);\n",
              "      filter: drop-shadow(0px 1px 2px rgba(0, 0, 0, 0.3));\n",
              "      fill: #FFFFFF;\n",
              "    }\n",
              "  </style>\n",
              "\n",
              "      <script>\n",
              "        const buttonEl =\n",
              "          document.querySelector('#df-6f691610-a34c-457e-a942-476567a465a2 button.colab-df-convert');\n",
              "        buttonEl.style.display =\n",
              "          google.colab.kernel.accessAllowed ? 'block' : 'none';\n",
              "\n",
              "        async function convertToInteractive(key) {\n",
              "          const element = document.querySelector('#df-6f691610-a34c-457e-a942-476567a465a2');\n",
              "          const dataTable =\n",
              "            await google.colab.kernel.invokeFunction('convertToInteractive',\n",
              "                                                     [key], {});\n",
              "          if (!dataTable) return;\n",
              "\n",
              "          const docLinkHtml = 'Like what you see? Visit the ' +\n",
              "            '<a target=\"_blank\" href=https://colab.research.google.com/notebooks/data_table.ipynb>data table notebook</a>'\n",
              "            + ' to learn more about interactive tables.';\n",
              "          element.innerHTML = '';\n",
              "          dataTable['output_type'] = 'display_data';\n",
              "          await google.colab.output.renderOutput(dataTable, element);\n",
              "          const docLink = document.createElement('div');\n",
              "          docLink.innerHTML = docLinkHtml;\n",
              "          element.appendChild(docLink);\n",
              "        }\n",
              "      </script>\n",
              "    </div>\n",
              "  </div>\n",
              "  "
            ]
          },
          "metadata": {},
          "execution_count": 36
        }
      ],
      "source": [
        "df_matieres = pd.read_sql_query('''\n",
        "SELECT codeMatiere,note FROM resultats r , inscriptions i\n",
        "where r.IdInscription=i.IdInscription\n",
        "''', connection)\n",
        "df_matieres"
      ]
    },
    {
      "cell_type": "markdown",
      "id": "e00e2694",
      "metadata": {
        "id": "e00e2694"
      },
      "source": [
        "##### Moyenne de chaque matière"
      ]
    },
    {
      "cell_type": "code",
      "execution_count": null,
      "id": "c504856a",
      "metadata": {
        "id": "c504856a",
        "colab": {
          "base_uri": "https://localhost:8080/"
        },
        "outputId": "b5cd5023-d2d0-4e4d-e484-cb6f6df3089d"
      },
      "outputs": [
        {
          "output_type": "execute_result",
          "data": {
            "text/plain": [
              "codeMatiere\n",
              "AD23    13.18\n",
              "AF04    10.71\n",
              "AH85    10.57\n",
              "AI90    11.21\n",
              "BE45    10.58\n",
              "BK84     9.77\n",
              "CF19    13.13\n",
              "CP22    14.58\n",
              "EJ83     8.73\n",
              "EV63    13.56\n",
              "FG33    12.20\n",
              "FP06     7.88\n",
              "GR60    11.33\n",
              "GS90    13.12\n",
              "HL67    13.53\n",
              "IK21    12.17\n",
              "IM19    12.56\n",
              "IU04    13.67\n",
              "IX77    11.03\n",
              "JI17    12.62\n",
              "JP31    14.95\n",
              "KB20    14.37\n",
              "KR44    13.27\n",
              "LK27    13.85\n",
              "LW66    12.66\n",
              "MT41    11.26\n",
              "MV57    10.34\n",
              "OA82    11.82\n",
              "OS14    12.39\n",
              "PQ84    11.56\n",
              "PU36    12.53\n",
              "PU93    12.46\n",
              "RR23    11.22\n",
              "RU21    10.43\n",
              "RW93    10.36\n",
              "SF68    15.20\n",
              "SY69    10.45\n",
              "SZ89    11.60\n",
              "TE66    14.02\n",
              "TL82     9.61\n",
              "UD47     8.37\n",
              "UE21    10.73\n",
              "UQ90    13.15\n",
              "UW44    12.98\n",
              "UX82    13.32\n",
              "VD65    13.87\n",
              "VO38    12.96\n",
              "VS02    11.60\n",
              "VT01     9.83\n",
              "WL63    11.73\n",
              "XD49    13.71\n",
              "XO83    12.35\n",
              "XW85    11.59\n",
              "YH23    11.48\n",
              "YN97    12.58\n",
              "ZB17    10.92\n",
              "ZF59    10.45\n",
              "ZI51    10.79\n",
              "ZK22    15.66\n",
              "ZX19    13.25\n",
              "Name: note, dtype: float64"
            ]
          },
          "metadata": {},
          "execution_count": 59
        }
      ],
      "source": [
        "df_matieres.groupby('codeMatiere')[\"note\"].mean().round(2)"
      ]
    },
    {
      "cell_type": "code",
      "source": [
        "df_matieres[df_matieres['codeMatiere']=='AD23']['note'].mean()"
      ],
      "metadata": {
        "colab": {
          "base_uri": "https://localhost:8080/"
        },
        "id": "kW2hRrLmP4wf",
        "outputId": "cce8abee-aad6-47c9-f9aa-69e1976d5fbd"
      },
      "id": "kW2hRrLmP4wf",
      "execution_count": 37,
      "outputs": [
        {
          "output_type": "execute_result",
          "data": {
            "text/plain": [
              "13.184487179487178"
            ]
          },
          "metadata": {},
          "execution_count": 37
        }
      ]
    },
    {
      "cell_type": "code",
      "source": [
        "df_mat = pd.read_sql_query('''\n",
        "SELECT m.codeMatiere,ROUND(AVG(r.note),2) Moyenne FROM matieres m \n",
        "JOIN inscriptions i ON i.codeMatiere=m.codeMatiere \n",
        "JOIN resultats r ON i.idInscription=r.IdInscription \n",
        "Where m.codeMatiere ='AD23' '''\n",
        ", connection)\n",
        "df_mat"
      ],
      "metadata": {
        "id": "FOtag6NDSUod",
        "outputId": "dfdfc307-4935-42c7-a13a-5818c92a9b92",
        "colab": {
          "base_uri": "https://localhost:8080/",
          "height": 81
        }
      },
      "id": "FOtag6NDSUod",
      "execution_count": 42,
      "outputs": [
        {
          "output_type": "execute_result",
          "data": {
            "text/plain": [
              "  codeMatiere  Moyenne\n",
              "0        AD23    13.18"
            ],
            "text/html": [
              "\n",
              "  <div id=\"df-1afdfc45-7632-424d-be50-220ddeab924f\">\n",
              "    <div class=\"colab-df-container\">\n",
              "      <div>\n",
              "<style scoped>\n",
              "    .dataframe tbody tr th:only-of-type {\n",
              "        vertical-align: middle;\n",
              "    }\n",
              "\n",
              "    .dataframe tbody tr th {\n",
              "        vertical-align: top;\n",
              "    }\n",
              "\n",
              "    .dataframe thead th {\n",
              "        text-align: right;\n",
              "    }\n",
              "</style>\n",
              "<table border=\"1\" class=\"dataframe\">\n",
              "  <thead>\n",
              "    <tr style=\"text-align: right;\">\n",
              "      <th></th>\n",
              "      <th>codeMatiere</th>\n",
              "      <th>Moyenne</th>\n",
              "    </tr>\n",
              "  </thead>\n",
              "  <tbody>\n",
              "    <tr>\n",
              "      <th>0</th>\n",
              "      <td>AD23</td>\n",
              "      <td>13.18</td>\n",
              "    </tr>\n",
              "  </tbody>\n",
              "</table>\n",
              "</div>\n",
              "      <button class=\"colab-df-convert\" onclick=\"convertToInteractive('df-1afdfc45-7632-424d-be50-220ddeab924f')\"\n",
              "              title=\"Convert this dataframe to an interactive table.\"\n",
              "              style=\"display:none;\">\n",
              "        \n",
              "  <svg xmlns=\"http://www.w3.org/2000/svg\" height=\"24px\"viewBox=\"0 0 24 24\"\n",
              "       width=\"24px\">\n",
              "    <path d=\"M0 0h24v24H0V0z\" fill=\"none\"/>\n",
              "    <path d=\"M18.56 5.44l.94 2.06.94-2.06 2.06-.94-2.06-.94-.94-2.06-.94 2.06-2.06.94zm-11 1L8.5 8.5l.94-2.06 2.06-.94-2.06-.94L8.5 2.5l-.94 2.06-2.06.94zm10 10l.94 2.06.94-2.06 2.06-.94-2.06-.94-.94-2.06-.94 2.06-2.06.94z\"/><path d=\"M17.41 7.96l-1.37-1.37c-.4-.4-.92-.59-1.43-.59-.52 0-1.04.2-1.43.59L10.3 9.45l-7.72 7.72c-.78.78-.78 2.05 0 2.83L4 21.41c.39.39.9.59 1.41.59.51 0 1.02-.2 1.41-.59l7.78-7.78 2.81-2.81c.8-.78.8-2.07 0-2.86zM5.41 20L4 18.59l7.72-7.72 1.47 1.35L5.41 20z\"/>\n",
              "  </svg>\n",
              "      </button>\n",
              "      \n",
              "  <style>\n",
              "    .colab-df-container {\n",
              "      display:flex;\n",
              "      flex-wrap:wrap;\n",
              "      gap: 12px;\n",
              "    }\n",
              "\n",
              "    .colab-df-convert {\n",
              "      background-color: #E8F0FE;\n",
              "      border: none;\n",
              "      border-radius: 50%;\n",
              "      cursor: pointer;\n",
              "      display: none;\n",
              "      fill: #1967D2;\n",
              "      height: 32px;\n",
              "      padding: 0 0 0 0;\n",
              "      width: 32px;\n",
              "    }\n",
              "\n",
              "    .colab-df-convert:hover {\n",
              "      background-color: #E2EBFA;\n",
              "      box-shadow: 0px 1px 2px rgba(60, 64, 67, 0.3), 0px 1px 3px 1px rgba(60, 64, 67, 0.15);\n",
              "      fill: #174EA6;\n",
              "    }\n",
              "\n",
              "    [theme=dark] .colab-df-convert {\n",
              "      background-color: #3B4455;\n",
              "      fill: #D2E3FC;\n",
              "    }\n",
              "\n",
              "    [theme=dark] .colab-df-convert:hover {\n",
              "      background-color: #434B5C;\n",
              "      box-shadow: 0px 1px 3px 1px rgba(0, 0, 0, 0.15);\n",
              "      filter: drop-shadow(0px 1px 2px rgba(0, 0, 0, 0.3));\n",
              "      fill: #FFFFFF;\n",
              "    }\n",
              "  </style>\n",
              "\n",
              "      <script>\n",
              "        const buttonEl =\n",
              "          document.querySelector('#df-1afdfc45-7632-424d-be50-220ddeab924f button.colab-df-convert');\n",
              "        buttonEl.style.display =\n",
              "          google.colab.kernel.accessAllowed ? 'block' : 'none';\n",
              "\n",
              "        async function convertToInteractive(key) {\n",
              "          const element = document.querySelector('#df-1afdfc45-7632-424d-be50-220ddeab924f');\n",
              "          const dataTable =\n",
              "            await google.colab.kernel.invokeFunction('convertToInteractive',\n",
              "                                                     [key], {});\n",
              "          if (!dataTable) return;\n",
              "\n",
              "          const docLinkHtml = 'Like what you see? Visit the ' +\n",
              "            '<a target=\"_blank\" href=https://colab.research.google.com/notebooks/data_table.ipynb>data table notebook</a>'\n",
              "            + ' to learn more about interactive tables.';\n",
              "          element.innerHTML = '';\n",
              "          dataTable['output_type'] = 'display_data';\n",
              "          await google.colab.output.renderOutput(dataTable, element);\n",
              "          const docLink = document.createElement('div');\n",
              "          docLink.innerHTML = docLinkHtml;\n",
              "          element.appendChild(docLink);\n",
              "        }\n",
              "      </script>\n",
              "    </div>\n",
              "  </div>\n",
              "  "
            ]
          },
          "metadata": {},
          "execution_count": 42
        }
      ]
    },
    {
      "cell_type": "markdown",
      "id": "11184c46",
      "metadata": {
        "id": "11184c46"
      },
      "source": [
        "##### Moyenne maximale de chaque matière"
      ]
    },
    {
      "cell_type": "code",
      "execution_count": null,
      "id": "fc49a547",
      "metadata": {
        "id": "fc49a547"
      },
      "outputs": [],
      "source": [
        "df_matieresMax=df_matieres.groupby('codeMatiere')[\"note\"].max().round(2)"
      ]
    },
    {
      "cell_type": "code",
      "execution_count": null,
      "id": "c76d742a",
      "metadata": {
        "id": "c76d742a",
        "colab": {
          "base_uri": "https://localhost:8080/"
        },
        "outputId": "d81c1f39-f218-484d-cbb7-439aabab99c0"
      },
      "outputs": [
        {
          "output_type": "execute_result",
          "data": {
            "text/plain": [
              "codeMatiere\n",
              "AD23    19.96\n",
              "AF04    19.91\n",
              "AH85    14.92\n",
              "AI90    19.93\n",
              "BE45    19.11\n",
              "BK84    19.12\n",
              "CF19    19.56\n",
              "CP22    19.92\n",
              "EJ83    14.36\n",
              "EV63    19.97\n",
              "FG33    19.63\n",
              "FP06    19.95\n",
              "GR60    18.90\n",
              "GS90    19.73\n",
              "HL67    19.86\n",
              "IK21    19.80\n",
              "IM19    19.55\n",
              "IU04    19.46\n",
              "IX77    19.93\n",
              "JI17    19.66\n",
              "JP31    19.70\n",
              "KB20    19.98\n",
              "KR44    19.96\n",
              "LK27    19.16\n",
              "LW66    19.62\n",
              "MT41    19.27\n",
              "MV57    19.88\n",
              "OA82    19.73\n",
              "OS14    19.79\n",
              "PQ84    19.80\n",
              "PU36    19.04\n",
              "PU93    19.72\n",
              "RR23    19.94\n",
              "RU21    19.55\n",
              "RW93    14.93\n",
              "SF68    19.73\n",
              "SY69    19.79\n",
              "SZ89    19.10\n",
              "TE66    19.75\n",
              "TL82    18.62\n",
              "UD47    14.59\n",
              "UE21    19.83\n",
              "UQ90    19.61\n",
              "UW44    19.60\n",
              "UX82    19.75\n",
              "VD65    19.55\n",
              "VO38    19.77\n",
              "VS02    20.00\n",
              "VT01    14.91\n",
              "WL63    19.81\n",
              "XD49    19.92\n",
              "XO83    19.65\n",
              "XW85    14.94\n",
              "YH23    19.96\n",
              "YN97    19.53\n",
              "ZB17    18.64\n",
              "ZF59    19.32\n",
              "ZI51    19.11\n",
              "ZK22    19.67\n",
              "ZX19    19.82\n",
              "Name: note, dtype: float64"
            ]
          },
          "metadata": {},
          "execution_count": 63
        }
      ],
      "source": [
        "df_matieresMax"
      ]
    },
    {
      "cell_type": "code",
      "execution_count": null,
      "id": "89f1018f",
      "metadata": {
        "id": "89f1018f"
      },
      "outputs": [],
      "source": [
        "df_matieresMax.to_json(\"matiereMax.json\")"
      ]
    },
    {
      "cell_type": "raw",
      "id": "0b0c3a6f",
      "metadata": {
        "id": "0b0c3a6f"
      },
      "source": [
        "df_matieresMax = pd.DataFrame(df_matieresMax, columns = ['moyenneMax','moyenne '])"
      ]
    },
    {
      "cell_type": "code",
      "execution_count": null,
      "id": "bc9101ec",
      "metadata": {
        "id": "bc9101ec"
      },
      "outputs": [],
      "source": [
        "df_matieresMax.to_json(\"matiereMax.json\")"
      ]
    },
    {
      "cell_type": "markdown",
      "id": "ed561487",
      "metadata": {
        "id": "ed561487"
      },
      "source": [
        "##### Moyenne minimale de chaque matière"
      ]
    },
    {
      "cell_type": "code",
      "execution_count": null,
      "id": "fd62b719",
      "metadata": {
        "id": "fd62b719"
      },
      "outputs": [],
      "source": [
        "df_matieresMin=df_matieres.groupby('codeMatiere')[\"note\"].min().round(2)"
      ]
    },
    {
      "cell_type": "code",
      "execution_count": null,
      "id": "0013ea61",
      "metadata": {
        "id": "0013ea61"
      },
      "outputs": [],
      "source": [
        "df_matieresMin"
      ]
    },
    {
      "cell_type": "markdown",
      "id": "b9df59eb",
      "metadata": {
        "id": "b9df59eb"
      },
      "source": [
        "##### Moyenne de toute les matières "
      ]
    },
    {
      "cell_type": "code",
      "execution_count": null,
      "id": "a5bec3c9",
      "metadata": {
        "id": "a5bec3c9"
      },
      "outputs": [],
      "source": [
        "moyenneTotale=df_matieres[\"note\"].mean().round(2)"
      ]
    },
    {
      "cell_type": "code",
      "execution_count": null,
      "id": "08c5055c",
      "metadata": {
        "id": "08c5055c"
      },
      "outputs": [],
      "source": [
        "moyenneTotale"
      ]
    },
    {
      "cell_type": "markdown",
      "id": "d6c8229c",
      "metadata": {
        "id": "d6c8229c"
      },
      "source": [
        "##### nbEtudiants Inscrit par matière"
      ]
    },
    {
      "cell_type": "markdown",
      "id": "728ec5fb",
      "metadata": {
        "id": "728ec5fb"
      },
      "source": [
        "df_nbEtudiantsParDepartement = pd.read_sql_query(\"SELECT codeMatiere,note FROM resultats r , inscriptions i where r.IdInscription=i.IdInscription\", connection)\n",
        "df_matieres"
      ]
    },
    {
      "cell_type": "code",
      "execution_count": null,
      "id": "0b508b3d",
      "metadata": {
        "id": "0b508b3d"
      },
      "outputs": [],
      "source": [
        "nbEtudiants=pd.read_sql_query(\"SELECT codeMatiere,idEtudiant FROM inscriptions \", connection)\n",
        "nbEtudiants"
      ]
    },
    {
      "cell_type": "code",
      "execution_count": null,
      "id": "3aa0ed27",
      "metadata": {
        "id": "3aa0ed27"
      },
      "outputs": [],
      "source": [
        "nbEtudiantInscMat=nbEtudiants.groupby('codeMatiere')[\"IdEtudiant\"].value_counts()"
      ]
    },
    {
      "cell_type": "code",
      "execution_count": null,
      "id": "9388215f",
      "metadata": {
        "id": "9388215f"
      },
      "outputs": [],
      "source": [
        "nbEtudiantInscMat"
      ]
    },
    {
      "cell_type": "code",
      "execution_count": null,
      "id": "c25fce2b",
      "metadata": {
        "id": "c25fce2b"
      },
      "outputs": [],
      "source": [
        "nbEtudiantsParMat=pd.read_sql_query(\"SELECT codeMatiere,COUNT(IdEtudiant)  FROM inscriptions GROUP BY codeMatiere\", connection)\n",
        "nbEtudiantsParMat"
      ]
    },
    {
      "cell_type": "code",
      "execution_count": null,
      "id": "a6d967b8",
      "metadata": {
        "id": "a6d967b8"
      },
      "outputs": [],
      "source": [
        "nbEtudiantsParDep=pd.read_sql_query(\"SELECT cp,COUNT(IdEtudiant)  FROM etudiants GROUP BY cp \", connection)\n",
        "nbEtudiantsParDep"
      ]
    },
    {
      "cell_type": "markdown",
      "id": "5db0bf36",
      "metadata": {
        "id": "5db0bf36"
      },
      "source": [
        "#### Regrouper les dataframes et écrire dans un fichier JSON"
      ]
    },
    {
      "cell_type": "code",
      "execution_count": null,
      "id": "8c76855f",
      "metadata": {
        "id": "8c76855f",
        "outputId": "7c940645-a074-4b4a-b1b7-bd487addbc75",
        "colab": {
          "base_uri": "https://localhost:8080/"
        }
      },
      "outputs": [
        {
          "output_type": "execute_result",
          "data": {
            "text/plain": [
              "{'__name__': '__main__',\n",
              " '__doc__': 'Automatically created module for IPython interactive environment',\n",
              " '__package__': None,\n",
              " '__loader__': None,\n",
              " '__spec__': None,\n",
              " '__builtin__': <module 'builtins' (built-in)>,\n",
              " '__builtins__': <module 'builtins' (built-in)>,\n",
              " '_ih': ['', 'locals()'],\n",
              " '_oh': {},\n",
              " '_dh': ['/content'],\n",
              " 'In': ['', 'locals()'],\n",
              " 'Out': {},\n",
              " 'get_ipython': <bound method InteractiveShell.get_ipython of <google.colab._shell.Shell object at 0x7f62a63c3d60>>,\n",
              " 'exit': <IPython.core.autocall.ZMQExitAutocall at 0x7f62a63fc370>,\n",
              " 'quit': <IPython.core.autocall.ZMQExitAutocall at 0x7f62a63fc370>,\n",
              " '_': '',\n",
              " '__': '',\n",
              " '___': '',\n",
              " '_i': '',\n",
              " '_ii': '',\n",
              " '_iii': '',\n",
              " '_i1': 'locals()'}"
            ]
          },
          "metadata": {},
          "execution_count": 1
        }
      ],
      "source": [
        "locals()"
      ]
    },
    {
      "cell_type": "code",
      "source": [],
      "metadata": {
        "id": "fUSG1EYrXg8R"
      },
      "id": "fUSG1EYrXg8R",
      "execution_count": null,
      "outputs": []
    }
  ],
  "metadata": {
    "kernelspec": {
      "display_name": "Python 3 (ipykernel)",
      "language": "python",
      "name": "python3"
    },
    "language_info": {
      "codemirror_mode": {
        "name": "ipython",
        "version": 3
      },
      "file_extension": ".py",
      "mimetype": "text/x-python",
      "name": "python",
      "nbconvert_exporter": "python",
      "pygments_lexer": "ipython3",
      "version": "3.10.2"
    },
    "colab": {
      "provenance": [],
      "include_colab_link": true
    }
  },
  "nbformat": 4,
  "nbformat_minor": 5
}