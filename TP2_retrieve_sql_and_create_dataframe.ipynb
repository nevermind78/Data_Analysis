{
  "cells": [
    {
      "cell_type": "markdown",
      "metadata": {
        "id": "view-in-github",
        "colab_type": "text"
      },
      "source": [
        "<a href=\"https://colab.research.google.com/github/nevermind78/Data_Analysis/blob/main/TP2_retrieve_sql_and_create_dataframe.ipynb\" target=\"_parent\"><img src=\"https://colab.research.google.com/assets/colab-badge.svg\" alt=\"Open In Colab\"/></a>"
      ]
    },
    {
      "cell_type": "markdown",
      "metadata": {
        "id": "_rQyju3gBWAr"
      },
      "source": [
        "\n",
        "\n",
        "# TP2 Analyse de données  &nbsp;&nbsp;&nbsp;&nbsp;&nbsp;&nbsp;&nbsp;&nbsp;&nbsp;&nbsp;&nbsp;&nbsp;&nbsp;&nbsp;&nbsp;&nbsp;&nbsp;&nbsp;&nbsp;&nbsp;&nbsp;&nbsp;&nbsp;&nbsp;&nbsp;&nbsp;&nbsp;&nbsp;&nbsp;&nbsp;&nbsp;&nbsp;&nbsp;&nbsp;&nbsp;&nbsp;&nbsp;&nbsp;&nbsp;&nbsp;&nbsp;&nbsp;&nbsp;&nbsp;&nbsp;&nbsp;&nbsp;&nbsp;&nbsp;&nbsp;&nbsp;&nbsp;&nbsp;&nbsp; 2022_2023\n",
        "-------\n",
        "\n",
        "## Exercice 1 :\n",
        "1. Importer la bibliothèque `sqlite3` et la bibliothèque `pandas` avec l'alias `pd`.\n",
        "\n",
        "2. Créer une connection `conn` en pointant le fichier `customer_sales.db'` se trouvant dans le chemin `/data/source/ `. \n",
        "\n",
        "3. Créer le data frame **df_sales** à partir de la connection faite en a.\n",
        "    \n",
        "4. Donner l'index de **df_sales**.\n",
        "    \n",
        "5. Changer l'index de **df_sales** en `Sales_Id`.\n",
        "    \n",
        "6. Afficher les $2$ premières ligne du dataframe **df_sales**.\n",
        "    \n",
        "7. Inspecter les informations de **df_sales** ( utiliser `df.info` ). Y-a-t il des données manquantes?\n",
        "\n",
        "8. Trier **df_sales** selon la colonne `Sale_date` par ordre croissant. Donner la description de l'achat le plus récent ?\n",
        "9. Séléctionner toutes les données de **df_sales** tels que `['Sales_Amount'] > 100`.\n",
        "10. Séléctionner toutes les données de **df_sales** tels que `['Sales_Quantity'] =1`.\n",
        "\n",
        "\n",
        "\n",
        "    \n",
        "    \n",
        "    \n",
        "    \n",
        "    "
      ]
    },
    {
      "cell_type": "code",
      "source": [
        "# import standard libs\n",
        "import os\n",
        "\n",
        "# if on collab pull required subdirectories\n",
        "if os.getenv(\"COLAB_RELEASE_TAG\"): \n",
        "    # install github clone - allows for easy cloning of subdirectories\n",
        "    !pip install github-clone\n",
        "    from pathlib import Path \n",
        "\n",
        "    # clone datasets\n",
        "    if not Path('TP2').is_dir():\n",
        "        !ghclone https://github.com/nevermind78/Data_Analysis/tree/main/TP2\n",
        "        print('TP1 already cloned!')\n",
        "\n",
        "\n",
        "# append path for local library, data, and image import\n",
        "import sys\n",
        "sys.path.append('./TP2')"
      ],
      "metadata": {
        "id": "kRZvT7LQCMKq"
      },
      "execution_count": null,
      "outputs": []
    },
    {
      "cell_type": "markdown",
      "metadata": {
        "id": "YiBpUA0yBWA7"
      },
      "source": [
        "### Réponse à la question 3 ( Code SQL)\n",
        "\n",
        "* Installer `ipython-sql` avec la commande : \n",
        "```python\n",
        "!pip install ipython-sql\n",
        "``` \n",
        "* Exécuter dans une autre cellules\n",
        "> ```python\n",
        "%%capture\n",
        "%load_ext sql\n",
        "%sql sqlite:///customer_sales.db\n",
        "```\n",
        "* Puis\n",
        ">```python\n",
        "%%sql\n",
        "select * from tbl_sales\n",
        "where Sales_Amount > 100\n",
        "```\n"
      ]
    },
    {
      "cell_type": "code",
      "execution_count": null,
      "metadata": {
        "id": "T6JlPax6BWA9"
      },
      "outputs": [],
      "source": [
        "%%capture\n",
        "%load_ext sql\n",
        "%sql sqlite:///customer_sales.db"
      ]
    },
    {
      "cell_type": "code",
      "execution_count": null,
      "metadata": {
        "id": "eEorgEs1BWBB"
      },
      "outputs": [],
      "source": [
        "%%sql\n",
        "select * from tbl_sales\n",
        "where Sales_Amount > 100"
      ]
    },
    {
      "cell_type": "markdown",
      "metadata": {
        "id": "fg9VTI-lBWBC"
      },
      "source": [
        "### Espace résérvé à la correction \n",
        "\n",
        "* Q1 "
      ]
    },
    {
      "cell_type": "code",
      "execution_count": null,
      "metadata": {
        "tags": [],
        "id": "4bTTIxBvBWBD"
      },
      "outputs": [],
      "source": [
        "pass"
      ]
    },
    {
      "cell_type": "code",
      "execution_count": null,
      "metadata": {
        "tags": [],
        "id": "HjZV5mxNBWBE"
      },
      "outputs": [],
      "source": [
        "pass"
      ]
    },
    {
      "cell_type": "markdown",
      "metadata": {
        "id": "g9W4k6d3BWBE"
      },
      "source": [
        "* Q2"
      ]
    },
    {
      "cell_type": "code",
      "execution_count": null,
      "metadata": {
        "id": "dz1kFxp3BWBF"
      },
      "outputs": [],
      "source": [
        "pass"
      ]
    },
    {
      "cell_type": "markdown",
      "metadata": {
        "id": "IOCfd9oABWBG"
      },
      "source": [
        "* Q3"
      ]
    },
    {
      "cell_type": "code",
      "execution_count": null,
      "metadata": {
        "jupyter": {
          "outputs_hidden": false
        },
        "id": "bd5SH1AqBWBH"
      },
      "outputs": [],
      "source": [
        "pass"
      ]
    },
    {
      "cell_type": "markdown",
      "metadata": {
        "id": "dm3lpf1EBWBH"
      },
      "source": [
        "* Q4"
      ]
    },
    {
      "cell_type": "code",
      "execution_count": null,
      "metadata": {
        "id": "Ij22gfoJBWBI"
      },
      "outputs": [],
      "source": [
        "pass\n"
      ]
    },
    {
      "cell_type": "markdown",
      "metadata": {
        "id": "u9k-4aWGBWBJ"
      },
      "source": [
        "* Q5"
      ]
    },
    {
      "cell_type": "code",
      "execution_count": null,
      "metadata": {
        "jupyter": {
          "outputs_hidden": false
        },
        "id": "mS8FJDMCBWBJ"
      },
      "outputs": [],
      "source": [
        "pass"
      ]
    },
    {
      "cell_type": "markdown",
      "metadata": {
        "id": "Z5vntsU9BWBK"
      },
      "source": [
        "* Q6"
      ]
    },
    {
      "cell_type": "code",
      "execution_count": null,
      "metadata": {
        "jupyter": {
          "outputs_hidden": false
        },
        "id": "7l_rpqY3BWBK"
      },
      "outputs": [],
      "source": [
        "pass"
      ]
    },
    {
      "cell_type": "markdown",
      "metadata": {
        "id": "3_Wa5bSdBWBL"
      },
      "source": [
        "* Q7"
      ]
    },
    {
      "cell_type": "code",
      "execution_count": null,
      "metadata": {
        "jupyter": {
          "outputs_hidden": false
        },
        "id": "wXz8AeXdBWBM"
      },
      "outputs": [],
      "source": [
        "pass"
      ]
    },
    {
      "cell_type": "markdown",
      "metadata": {
        "jupyter": {
          "outputs_hidden": false
        },
        "scrolled": true,
        "id": "_C767zKrBWBN"
      },
      "source": [
        "* Q8"
      ]
    },
    {
      "cell_type": "code",
      "execution_count": null,
      "metadata": {
        "jupyter": {
          "outputs_hidden": false
        },
        "id": "Cr38Gby_BWBN"
      },
      "outputs": [],
      "source": [
        "pass"
      ]
    },
    {
      "cell_type": "markdown",
      "metadata": {
        "jupyter": {
          "outputs_hidden": false
        },
        "id": "9i_YChO0BWBN"
      },
      "source": [
        "* Q9"
      ]
    },
    {
      "cell_type": "code",
      "execution_count": null,
      "metadata": {
        "jupyter": {
          "outputs_hidden": false
        },
        "id": "QVtjaY-vBWBO"
      },
      "outputs": [],
      "source": [
        "pass"
      ]
    },
    {
      "cell_type": "markdown",
      "metadata": {
        "jupyter": {
          "outputs_hidden": false
        },
        "id": "YTOzeQeABWBO"
      },
      "source": [
        "* Q10"
      ]
    },
    {
      "cell_type": "code",
      "execution_count": null,
      "metadata": {
        "jupyter": {
          "outputs_hidden": true
        },
        "id": "R488Qy5KBWBO"
      },
      "outputs": [],
      "source": [
        "pass"
      ]
    },
    {
      "cell_type": "markdown",
      "metadata": {
        "id": "wQbT5h6bBWBP"
      },
      "source": [
        "## EXERCICE 2 :\n",
        "\n",
        "> * Corriger les erreurs éventuelles\n",
        "> * Interpréter et commenter chaque ligne de code\n"
      ]
    },
    {
      "cell_type": "code",
      "execution_count": null,
      "metadata": {
        "id": "X-I4gqWzBWBP"
      },
      "outputs": [],
      "source": [
        "ls ../data/source"
      ]
    },
    {
      "cell_type": "code",
      "execution_count": null,
      "metadata": {
        "id": "8lJ3sNUpBWBP"
      },
      "outputs": [],
      "source": [
        "import pandas as pd"
      ]
    },
    {
      "cell_type": "code",
      "execution_count": null,
      "metadata": {
        "id": "we9bA7J_BWBP"
      },
      "outputs": [],
      "source": [
        "df_user_churn_cleaned = pd.read_csv('user_hits_binning_import.csv', parse_dates=['date'])"
      ]
    },
    {
      "cell_type": "code",
      "execution_count": null,
      "metadata": {
        "id": "iNng_YLcBWBQ"
      },
      "outputs": [],
      "source": [
        "df_user_churn_cleaned.head(10)"
      ]
    },
    {
      "cell_type": "code",
      "execution_count": null,
      "metadata": {
        "id": "kGeN_tKwBWBQ"
      },
      "outputs": [],
      "source": [
        "from datetime import datetime\n",
        "import numpy as np"
      ]
    },
    {
      "cell_type": "code",
      "execution_count": null,
      "metadata": {
        "id": "BVB2t53zBWBQ"
      },
      "outputs": [],
      "source": [
        "df_user_churn_cleaned['age'] = (datetime.now() - pd.to_datetime(df_user_churn_cleaned['date'])).dt.days"
      ]
    },
    {
      "cell_type": "code",
      "execution_count": null,
      "metadata": {
        "id": "o2CDjE6JBWBR"
      },
      "outputs": [],
      "source": [
        "df_user_churn_cleaned"
      ]
    },
    {
      "cell_type": "code",
      "execution_count": null,
      "metadata": {
        "id": "ZnYseJWEBWBR"
      },
      "outputs": [],
      "source": [
        "df_ages = df_user_churn_cleaned.groupby('userid').max()"
      ]
    },
    {
      "cell_type": "code",
      "execution_count": null,
      "metadata": {
        "id": "cjSC2hmxBWBR"
      },
      "outputs": [],
      "source": [
        "df_ages"
      ]
    },
    {
      "cell_type": "code",
      "execution_count": null,
      "metadata": {
        "id": "8fCo7nXsBWBR"
      },
      "outputs": [],
      "source": [
        "365*5\n"
      ]
    },
    {
      "cell_type": "code",
      "execution_count": null,
      "metadata": {
        "id": "nXvS8qEgBWBR"
      },
      "outputs": [],
      "source": [
        "df_ages['age_bin'] = pd.cut(x=df_ages['age'], bins=[1, 1094, 1825, 9999], labels=['< 3 year', '3 to 5 years', '> 5 years'])\n"
      ]
    },
    {
      "cell_type": "code",
      "execution_count": null,
      "metadata": {
        "id": "QKXh6gujBWBS"
      },
      "outputs": [],
      "source": [
        "#df_ages['age_by_decade'] = pd.cut(x=df_ages['age'], bins=[__, __, __], labels=['< 1 year', '1 to 2 years', '> 3 years'])\n"
      ]
    },
    {
      "cell_type": "code",
      "execution_count": null,
      "metadata": {
        "id": "6dCedxQ6BWBS"
      },
      "outputs": [],
      "source": [
        "#df_user_churn_cleaned['day_of_week_in_number'] = pd.df_user_churn_cleaned['date'].dt.dayofweek"
      ]
    },
    {
      "cell_type": "code",
      "execution_count": null,
      "metadata": {
        "id": "RGJXkwo_BWBd"
      },
      "outputs": [],
      "source": [
        "df_ages"
      ]
    },
    {
      "cell_type": "code",
      "execution_count": null,
      "metadata": {
        "id": "tm7ENek7BWBd"
      },
      "outputs": [],
      "source": [
        "df_grouped = df_ages.groupby('age_bin').count()"
      ]
    },
    {
      "cell_type": "code",
      "execution_count": null,
      "metadata": {
        "id": "RsiXiGy7BWBd"
      },
      "outputs": [],
      "source": [
        "df_grouped"
      ]
    },
    {
      "cell_type": "code",
      "execution_count": null,
      "metadata": {
        "id": "a_OXyVotBWBe"
      },
      "outputs": [],
      "source": [
        "df_grouped.drop(['date'], axis=1)"
      ]
    },
    {
      "cell_type": "code",
      "execution_count": null,
      "metadata": {
        "id": "D_5BEaUOBWBe"
      },
      "outputs": [],
      "source": [
        "df_grouped.rename(columns={'age': 'user count'}, inplace=True)"
      ]
    },
    {
      "cell_type": "code",
      "execution_count": null,
      "metadata": {
        "id": "7wbeJcICBWBe"
      },
      "outputs": [],
      "source": [
        "df_grouped"
      ]
    },
    {
      "cell_type": "code",
      "execution_count": null,
      "metadata": {
        "id": "y8LE1yY3BWBe"
      },
      "outputs": [],
      "source": [
        "df_grouped.drop(['date'], axis=1)"
      ]
    },
    {
      "cell_type": "code",
      "execution_count": null,
      "metadata": {
        "id": "g28pFQD4BWBf"
      },
      "outputs": [],
      "source": []
    },
    {
      "cell_type": "code",
      "execution_count": null,
      "metadata": {
        "id": "AhhhH2BlBWBf"
      },
      "outputs": [],
      "source": []
    }
  ],
  "metadata": {
    "kernelspec": {
      "display_name": "Python 3 (ipykernel)",
      "language": "python",
      "name": "python3"
    },
    "language_info": {
      "codemirror_mode": {
        "name": "ipython",
        "version": 3
      },
      "file_extension": ".py",
      "mimetype": "text/x-python",
      "name": "python",
      "nbconvert_exporter": "python",
      "pygments_lexer": "ipython3",
      "version": "3.7.12"
    },
    "colab": {
      "provenance": [],
      "include_colab_link": true
    }
  },
  "nbformat": 4,
  "nbformat_minor": 0
}