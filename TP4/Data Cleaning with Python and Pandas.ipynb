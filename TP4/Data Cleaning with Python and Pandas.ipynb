{
 "cells": [
  {
   "cell_type": "markdown",
   "metadata": {},
   "source": [
    "# Data Cleaning with Python and Pandas"
   ]
  },
  {
   "cell_type": "markdown",
   "metadata": {},
   "source": [
    "In this project, I discuss various useful techniques to clean a messy dataset with Python, NumPy and Pandas."
   ]
  },
  {
   "cell_type": "markdown",
   "metadata": {},
   "source": [
    "This project is divided into various sections which are listed below:-"
   ]
  },
  {
   "cell_type": "markdown",
   "metadata": {},
   "source": [
    "## Table of Contents:-"
   ]
  },
  {
   "cell_type": "markdown",
   "metadata": {},
   "source": [
    "1.\tIntroduction to Python data cleaning\n",
    "\n",
    "2.\tTidy data\n",
    "\n",
    "3.\tSigns of an untidy dataset\n",
    "\n",
    "4.\tPython data cleansing – prerequisites\n",
    "\n",
    "5.\tImport the required Python libraries\n",
    "\n",
    "6.\tThe source dataset\n",
    "\n",
    "7.\tExploratory data analysis (EDA)\n",
    "\n",
    "8.\tVisual exploratory data analysis (Visual EDA)\n",
    "\n",
    "9.\tFindings of EDA and Visual EDA\n",
    "\n",
    "10.\tSplit the ‘age_sex’ column into two separate columns\n",
    "\n",
    "11.\tReorder the column labels\n",
    "\n",
    "12.\tDealing with negative numerical values\n",
    "\n",
    "13.\tDealing with outliers\n",
    "\n",
    "14.\tDealing with missing numerical values\n",
    "\n",
    "15.\tCheck with ASSERT statement\n",
    "\n",
    "16.\tReshaping the data into tidy data format\n"
   ]
  },
  {
   "cell_type": "markdown",
   "metadata": {},
   "source": [
    "## 1. Introduction to Python data cleaning"
   ]
  },
  {
   "cell_type": "markdown",
   "metadata": {},
   "source": [
    "Whenever we have to work with a real world dataset, the first problem that we face is to clean it. The real world dataset never comes clean. It consists lot of discrepancies in the dataset. So, we have to clean the dataset for further processing. \n",
    "\n",
    "Cleaning data is the process of preparing the dataset for analysis. It is very important because the accuracy of machine learning or data mining models are affected because of poor quality of data. \n",
    "\n",
    "So, data scientists spend a large amount of their time cleaning the dataset and transform them into a format with which they can work with. In fact, data scientists spend 80% of their time cleaning the data.\n",
    "\n",
    "A very common scenario is that the dataset contains missing values coded as `NaN`. Also, the missing values are coded in different ways. The dataset may contain negative or invalid values. It may contain outliers. It may be in the untidy format. All of these are examples of a messy dataset. \n",
    "\n",
    "In this project, I present several useful ways to handle these discrepancies in the dataset.\n"
   ]
  },
  {
   "cell_type": "markdown",
   "metadata": {},
   "source": [
    "## 2. Tidy data format\n",
    "\n",
    "\n",
    "Data comes in a wide variety of shapes and formats. Hadley Wickham, the Chief Scientist at RStudio, write a paper about tidy data in 2014 that formalizes the shape of the data. So, it gives us a goal when formatting the data. \n",
    "\n",
    "\n",
    "He states in his paper that –\n",
    "\n",
    "**\"Tidy data provides a standard way to organize data values within a dataset.\"**\n",
    "\n",
    "\n",
    "There are three principles of tidy data. These are as follows:-\n",
    "\n",
    "**•\tColumns represent separate variables.**\n",
    "\n",
    "**•\tRows represent individual observations.**\n",
    "\n",
    "**•\tObservational units form tables.**\n",
    "\n",
    "\n",
    "Tidy data makes it easier to fix common data problems. So, we need to transform the untidy dataset into tidy data. \n",
    "\n",
    "Before we look into the details of cleaning the dataset, we have to understand what constitutes an untidy data. We need to diagnose our data and find common signs of a messy dataset.\n"
   ]
  },
  {
   "cell_type": "markdown",
   "metadata": {},
   "source": [
    "## 3. Signs of an untidy dataset\n",
    "\n",
    "\n",
    "We have to take a closer look to find common signs of a messy dataset. These common signs are as follows:-\n",
    "\n",
    "\n",
    "•\t**Missing numerical data**\n",
    "\n",
    "Missing numerical data needs to be identified and addressed. Either they need to be deleted or replaced with a suitable test statistic.\n",
    "\n",
    "\n",
    "•\t**Untidy data**\n",
    "\n",
    "Untidy dataset can contain multiple problems. They prevent us from transforming the messy dataset into a clean dataset that is suitable for analysis.\n",
    "\n",
    "\n",
    "•\t**Unexpected data values**\n",
    "\n",
    "Mismatched data types of a column and data values can cause potential problems. They need to be investigated and solved.\n",
    "\n",
    "\n",
    "•\t**Inconsistent column names**\n",
    "\n",
    "Column names contain inconsistent capitalizations and bad characters. They need to be addressed properly.\n",
    "\n",
    "\n",
    "•\t**Outliers**\n",
    "\n",
    "Outliers need to be detected. They pose potential problems needs to be investigated and removed.\n",
    "\n",
    "\n",
    "•\t**Duplicate rows and columns**\n",
    "\n",
    "Duplicate rows and columns make data redundant. They can bias an analysis. Hence, they needs to be found and dropped.\n",
    "\n"
   ]
  },
  {
   "cell_type": "markdown",
   "metadata": {},
   "source": [
    "## 4. Python data cleaning - prerequisites\n",
    "\n",
    "\n",
    "We need three Python libraries for the data cleansing process – NumPy, Pandas and Matplotlib.\n",
    "\n",
    "\n",
    "•\t**NumPy** – NumPy is the fundamental Python library for scientific computing. It adds support for large and multi-dimensional arrays and matrices. It also supports large collection of high-level mathematical functions to operate on these arrays.\n",
    "\n",
    "\n",
    "•\t**Pandas** - Pandas is a software library for Python programming language which provide tools for data manipulation and analysis tasks. It will enable us to manipulate numerical tables and time series using data structures and operations.\n",
    "\n",
    "\n",
    "•\t**Matplotlib** - Matplotlib is the core data visualization library of Python programming language. It provides an object-oriented API for embedding plots into applications.\n"
   ]
  },
  {
   "cell_type": "markdown",
   "metadata": {},
   "source": [
    "## 5. Import the required Python libraries\n",
    "\n",
    "\n",
    "We have seen that we need three Python libraries – NumPy, Pandas and Matplotlib for the data cleaning process. We need to import these libraries before we actually start using them. We can import them with their usual shorthand notation as follows:-\n"
   ]
  },
  {
   "cell_type": "code",
   "execution_count": null,
   "metadata": {},
   "outputs": [],
   "source": [
    "# import the Python libraries\n",
    "\n",
    "import numpy as np\n",
    "import pandas as pd\n",
    "import matplotlib.pyplot as plt\n",
    "%matplotlib inline "
   ]
  },
  {
   "cell_type": "markdown",
   "metadata": {},
   "source": [
    "## 6. The source dataset\n",
    "\n",
    "\n",
    "For this project, I have created a fictitious dataset. The dataset consists of details of my facebook friends.\n",
    "\n",
    "The dataset can be imported as follows:-\n"
   ]
  },
  {
   "cell_type": "code",
   "execution_count": null,
   "metadata": {},
   "outputs": [],
   "source": [
    "data = \"friends.txt\"\n",
    "# data frame nommé df à partir du fichier data\n",
    "# csv= comma seperated value \n",
    "df = pd.read_csv(data)\n"
   ]
  },
  {
   "cell_type": "markdown",
   "metadata": {},
   "source": [
    "## 7. Exploratory data analysis\n",
    "\n",
    "\n",
    "Now, it is time to understand the data. We should diagnose the data for any discrepancies by doing exploratory data analysis.\n",
    "We should proceed as follows:-\n"
   ]
  },
  {
   "cell_type": "markdown",
   "metadata": {},
   "source": [
    "### df.shape attribute\n",
    "\n",
    "\n",
    "We can check the dimensions of the data with **df.shape** attribute.\n"
   ]
  },
  {
   "cell_type": "code",
   "execution_count": null,
   "metadata": {},
   "outputs": [],
   "source": [
    "df.shape"
   ]
  },
  {
   "cell_type": "markdown",
   "metadata": {},
   "source": [
    "\n"
   ]
  },
  {
   "cell_type": "markdown",
   "metadata": {},
   "source": [
    "**Interpretation**\n",
    "\n",
    "We can see that our data have 10 rows and 10 columns."
   ]
  },
  {
   "cell_type": "markdown",
   "metadata": {},
   "source": [
    "### df.head() and df.tail() methods\n",
    "\n",
    "\n",
    "We can view the top five and bottom five rows of the dataset with **df.head()** and **df.tail()** methods respectively.\n"
   ]
  },
  {
   "cell_type": "code",
   "execution_count": null,
   "metadata": {},
   "outputs": [],
   "source": [
    "df.head()"
   ]
  },
  {
   "cell_type": "code",
   "execution_count": null,
   "metadata": {},
   "outputs": [],
   "source": [
    "df.tail()"
   ]
  },
  {
   "cell_type": "markdown",
   "metadata": {},
   "source": [
    "**Interpretation**\n",
    "\n",
    "We can see that there are lot of discrepancies in the dataset. \n",
    "\n",
    "\n",
    "For example, the age and sex columns are combined together with an underscore. There should be two separate columns of age and sex. \n",
    "\n",
    "\n",
    "The height and weight columns contain missing values. Some values are coded as \"xx\", \"?\", \"0\" and negative values. \n",
    "They are all invalid values as height and weight must be positive real numbers.\n",
    "\n",
    "\n",
    "The three columns spend_A, spend_B and spend_C denote spending at three supermarkets A,B and C. These columns must contain positive real numbers. The missing values in these columns denote nothing spend in that market. The negative value and the \n",
    "value coded as \"xx\" should be addressed properly."
   ]
  },
  {
   "cell_type": "markdown",
   "metadata": {},
   "source": [
    "### df.info() method\n",
    "\n",
    "We can get a concise summary of the dataset with **df.info()** method. This method prints information about a DataFrame including the index dtype and column dtypes, non-null values and memory usage.\n"
   ]
  },
  {
   "cell_type": "code",
   "execution_count": null,
   "metadata": {},
   "outputs": [],
   "source": [
    "df.info()"
   ]
  },
  {
   "cell_type": "markdown",
   "metadata": {},
   "source": [
    "**Interpretation**\n",
    "\n",
    "We can see that this method prints information of all columns. Several columns contain missing values. We have seen that columns contain missing and invalid values are coded differently. So, we need to explore this issue further.\n",
    "\n"
   ]
  },
  {
   "cell_type": "markdown",
   "metadata": {},
   "source": [
    "### df.dtypes attribute\n",
    "\n",
    "We can check the data types of each column in the dataframe with **df.dtypes** attribute. The above command returns \n",
    "the data type of each column.\n"
   ]
  },
  {
   "cell_type": "code",
   "execution_count": null,
   "metadata": {},
   "outputs": [],
   "source": [
    "df.dtypes"
   ]
  },
  {
   "cell_type": "markdown",
   "metadata": {},
   "source": [
    "Also, we can see that data types of height(cm) and weight(kg) columns are object data type. Again this is not true. The columns height(cm) and weight(kg) must contain positive real numbers. So, their data type must be float64.\n",
    "\n",
    "Also, spend_A, spend_B and spend_C columns must contain numeric values. We can see that the data type of spend_A and spend_B columns are float64. But the data type of column spend_C is object. So, we need to convert its data type to float64."
   ]
  },
  {
   "cell_type": "markdown",
   "metadata": {},
   "source": [
    "### Handling invalid values\n",
    "\n",
    "There is an invalid value coded as \"xx\" in the height(cm) column. We can coerce invalid values to \"NaN\" using the errors keyword as follows:-"
   ]
  },
  {
   "cell_type": "code",
   "execution_count": null,
   "metadata": {},
   "outputs": [],
   "source": [
    "df[\"height(cm)\"] = pd.to_numeric(df[\"height(cm)\"], errors='coerce')"
   ]
  },
  {
   "cell_type": "markdown",
   "metadata": {},
   "source": [
    "Similary, there is an invalid value coded as \"xx\" in the weight(kg) column. Again, we can coerce it using the errors keyword\n",
    "as follows:-"
   ]
  },
  {
   "cell_type": "code",
   "execution_count": null,
   "metadata": {},
   "outputs": [],
   "source": [
    "df[\"weight(kg)\"] = pd.to_numeric(df[\"weight(kg)\"], errors='coerce')"
   ]
  },
  {
   "cell_type": "markdown",
   "metadata": {},
   "source": [
    "Similary, there is an invalid value coded as \"xx\" in the spend_C column. Again, we can coerce it using the errors keyword\n",
    "as follows:-"
   ]
  },
  {
   "cell_type": "code",
   "execution_count": null,
   "metadata": {},
   "outputs": [],
   "source": [
    "df[\"spend_C\"] = pd.to_numeric(df[\"spend_C\"], errors='coerce')"
   ]
  },
  {
   "cell_type": "markdown",
   "metadata": {},
   "source": [
    "### Check the data type again with df.dtypes"
   ]
  },
  {
   "cell_type": "code",
   "execution_count": null,
   "metadata": {},
   "outputs": [],
   "source": [
    "df.dtypes"
   ]
  },
  {
   "cell_type": "markdown",
   "metadata": {},
   "source": [
    "**Interpretation**\n",
    "\n",
    "Now, we can see that all the columns have appropriate data types. The columns height(cm) and weight(kg) have float64 data type.\n",
    "The columns spend_A, spend_B and spend_C have float64 data type."
   ]
  },
  {
   "cell_type": "code",
   "execution_count": null,
   "metadata": {},
   "outputs": [],
   "source": [
    "df.head()"
   ]
  },
  {
   "cell_type": "code",
   "execution_count": null,
   "metadata": {},
   "outputs": [],
   "source": [
    "df.tail()"
   ]
  },
  {
   "cell_type": "markdown",
   "metadata": {},
   "source": [
    "**Interpretation**\n",
    "\n",
    "We can see that all the invalid values(the values coded as \"xx\") and missing values are now coded as \"NaN\". The use of the \n",
    "keyword errors='coerce' enable us to convert all the invalid values into NaN."
   ]
  },
  {
   "cell_type": "markdown",
   "metadata": {},
   "source": [
    "### df.describe() method\n",
    "\n",
    "We can view the summary statistics of numerical columns with **df.describe()** method. It enable us to detect outliers in the data which require further investigation.\n"
   ]
  },
  {
   "cell_type": "code",
   "execution_count": null,
   "metadata": {},
   "outputs": [],
   "source": [
    "df.describe()"
   ]
  },
  {
   "cell_type": "markdown",
   "metadata": {},
   "source": [
    "**Interpretation**\n",
    "\n",
    "We can see that there are discrepancies in height(cm) and weight(kg) columns.\n",
    "\n",
    "The minimum value of height(cm) is 0. It is not possible because height cannot be 0.\n",
    "\n",
    "The minimum and maximum values of weight(kg) are -60 and 160. Weight cannot be negative and weight cannot be as high as 160. \n",
    "So, both are invalid values.\n",
    "\n",
    "They are **outliers** and need to be properly addressed."
   ]
  },
  {
   "cell_type": "markdown",
   "metadata": {},
   "source": [
    "### df.columns attribute\n",
    "\n",
    "We can get the column labels of the dataframe with **df.columns** attribute.\n"
   ]
  },
  {
   "cell_type": "code",
   "execution_count": null,
   "metadata": {},
   "outputs": [],
   "source": [
    "df.columns"
   ]
  },
  {
   "cell_type": "markdown",
   "metadata": {},
   "source": [
    "## Visual Exploratory Data Analysis\n",
    "\n"
   ]
  },
  {
   "cell_type": "markdown",
   "metadata": {},
   "source": [
    "Now, we should conduct data visualization to find discrepancies in the data. Data visualization is a great way to find \n",
    "errors in the data and detect outliers. They help us to detect patterns in the data.\n",
    "\n",
    "\n",
    "We can use various types of plots for data visualization purpose. These plots are listed below:-\n",
    "\n",
    "\n",
    "•\t**Bar plot**\n",
    "\n",
    "•\t**Histograms**\n",
    "\n",
    "•\t**Box plot**\n",
    "\n",
    "•\t**Scatter plot**\n",
    "\n",
    "\n"
   ]
  },
  {
   "cell_type": "markdown",
   "metadata": {},
   "source": [
    "### Bar plot\n",
    "\n",
    "A bar plot is a plot that presents data with rectangular bars with lengths proportional to the values that they represent.\n",
    "\n",
    "We can plot a bar plot of the age column as follows:-"
   ]
  },
  {
   "cell_type": "code",
   "execution_count": null,
   "metadata": {},
   "outputs": [],
   "source": [
    "df['age'].plot(kind='bar',cmap='winter')\n",
    "plt.show()"
   ]
  },
  {
   "cell_type": "markdown",
   "metadata": {},
   "source": [
    "## Formating the plot"
   ]
  },
  {
   "cell_type": "code",
   "execution_count": null,
   "metadata": {},
   "outputs": [],
   "source": [
    "fig, ax = plt.subplots()\n",
    "p = plt.get_cmap('plasma')\n",
    "c=[p(i/(df.shape[1])) for i in range((df.shape[1]))]\n",
    "for i, v in enumerate(df['age']):\n",
    "    ax.text(i-0.25 , v+0.25 , str(v), color=c[i], fontweight='bold')\n",
    "plt.bar(list(df.index),df['age'],color=c,tick_label=df.index)\n",
    "plt.title('Ages')\n",
    "plt.xlabel('df.index')\n",
    "plt.ylabel('age') \n",
    "plt.show()"
   ]
  },
  {
   "cell_type": "markdown",
   "metadata": {},
   "source": [
    "**Interpretation**\n",
    "\n",
    "The bar plot shows that there are 10 counts of the age label. So, there are no missing values in the age column."
   ]
  },
  {
   "cell_type": "markdown",
   "metadata": {},
   "source": [
    "### Histograms\n",
    "\n",
    "\n",
    "We use histograms for plotting continuous data counts. A histogram is a representation of the distribution of data.\n",
    "\n",
    "In this case, we use histograms for plotting distribution of data values of height(cm) and weight(kg) columns.\n",
    "\n",
    "We can draw a histogram as follows:-"
   ]
  },
  {
   "cell_type": "code",
   "execution_count": null,
   "metadata": {},
   "outputs": [],
   "source": [
    "df['height(cm)'].plot(kind='hist')\n",
    "\n",
    "plt.show()"
   ]
  },
  {
   "cell_type": "markdown",
   "metadata": {},
   "source": [
    "**Interpretation**\n",
    "\n",
    "The above histogram shows that there is a data value between 0 and 25. When we take a closer look , we find that there is a value of 0.0 in the height(cm) column. It is not possible as height cannot be 0. So, we need to take care of that."
   ]
  },
  {
   "cell_type": "code",
   "execution_count": null,
   "metadata": {},
   "outputs": [],
   "source": [
    "df['weight(kg)'].plot(kind='hist')\n",
    "\n",
    "plt.show()"
   ]
  },
  {
   "cell_type": "markdown",
   "metadata": {},
   "source": [
    "**Interpretation**\n",
    "\n",
    "Similar analysis of histogram of weight(kg) column shows that there is a negative value of -60 and a very high value of 160 in \n",
    "the weight(kg) column. Both are invalid values. Weight cannot be negative and also weight cannot be so high. So, we need to take\n",
    "care of these invalid values."
   ]
  },
  {
   "cell_type": "markdown",
   "metadata": {},
   "source": [
    "### Box plot\n",
    "\n",
    "\n",
    "We can visualize basic summary statistics with box plot. Box plot let us to detect outliers in the data. They help us to find minimum and maximum values. They present 25th, 50th, 75th percentiles. 50th percentile value is the median value.\n",
    "\n",
    "We can draw a boxplot as follows:-"
   ]
  },
  {
   "cell_type": "code",
   "execution_count": null,
   "metadata": {},
   "outputs": [],
   "source": [
    "df.boxplot(column='height(cm)')\n",
    "\n",
    "plt.show()"
   ]
  },
  {
   "cell_type": "markdown",
   "metadata": {},
   "source": [
    "**Interpretation**\n",
    "\n",
    "I have drawn the boxplot of the height(cm) column in the above cell. It confirms that there is a value of 0.0 in the \n",
    "height(cm) column. It is not possible as height cannot be 0. So, we need to take care of that."
   ]
  },
  {
   "cell_type": "code",
   "execution_count": null,
   "metadata": {},
   "outputs": [],
   "source": [
    "df.boxplot(column='weight(kg)')\n",
    "\n",
    "plt.show()"
   ]
  },
  {
   "cell_type": "markdown",
   "metadata": {},
   "source": [
    "**Interpretation**\n",
    "\n",
    "I have drawn the boxplot of the weight(kg) column in the above cell. The above boxplot confirms our findings that there is a negative value of -60 and a very high value of 160 in the weight(kg) column. \n",
    "\n",
    "Both are invalid values. Weight cannot be negative and also weight cannot be so high. So, we need to take care of these invalid values."
   ]
  },
  {
   "cell_type": "markdown",
   "metadata": {},
   "source": [
    "### Scatter plot\n",
    "\n",
    "\n",
    "Scatter plot help us to explore relationship between two numeric variables. It help us to identify potentially bad data.\n",
    "\n",
    "We can draw a scatter plot of height(cm) and weight(kg) column as follows:-"
   ]
  },
  {
   "cell_type": "code",
   "execution_count": null,
   "metadata": {},
   "outputs": [],
   "source": [
    "df.plot(kind='scatter',x='height(cm)', y='weight(kg)', c='DarkBlue')\n",
    "\n",
    "plt.show()"
   ]
  },
  {
   "cell_type": "markdown",
   "metadata": {},
   "source": [
    "**Interpretation**\n",
    "\n",
    "The above scatter plot does not depict anything due to lack of data values. We need more data to identify relationship or pattern between data values."
   ]
  },
  {
   "cell_type": "markdown",
   "metadata": {},
   "source": [
    "## 9. Findings of EDA and Visual EDA\n",
    "\n",
    "\n",
    "We can summarize the findings of EDA and visual EDA as follows:-\n",
    "\n",
    "\n",
    "\n",
    "1.\tThe dataset has 10 rows and 10 columns.\n",
    "\n",
    "\n",
    "\n",
    "2.\tThe age and sex columns are combined together with an underscore. There should be two separate columns of age and sex.\n",
    "\n",
    "\n",
    "\n",
    "3.\tAll the invalid values (the values coded as \"xx\") and missing values in height (cm), weight (kg), spend_A, spend_B and spend_C columns are coded as \"NaN\". The use of the keyword errors='coerce' in pd.to_numeric() method enable us to convert all the invalid values into NaN.\n",
    "\n",
    "\n",
    "\n",
    "4.\tThe data types of columns height (cm), weight(kg) and spend_C columns are converted into float64.\n",
    "\n",
    "\n",
    "\n",
    "5.\tIn the height (cm) column, there is a value of 0.0. It is not possible as height cannot be 0. So, we need to resolve it.\n",
    "\n",
    "\n",
    "\n",
    "6.\tIn the weight (kg) column, there is a negative value of -60 and a very high value of 160. Both are invalid values. Hence, we need to solve the issue.\n",
    "\n",
    "\n",
    "\n",
    "7.\tThe three columns spend_A, spend_B and spend_C denote spending at three supermarkets A,B and C. These columns must contain positive real numbers. The missing values in these columns denote nothing spend in that market. We need to handle these missing values properly.\n",
    "\n",
    "\n",
    "\n",
    "8.\tIn the spend_B column, there is a negative value -100. The amount spent cannot be negative. So, we need to take care of that.\n"
   ]
  },
  {
   "cell_type": "markdown",
   "metadata": {},
   "source": [
    "## 10. Split ‘age_sex’ column \n",
    "\n",
    "\n",
    "We should split the 'age_sex' column into two separate columns. \n",
    "\n",
    "We can do this using the **df.str.split()** function as follows:-"
   ]
  },
  {
   "cell_type": "code",
   "execution_count": null,
   "metadata": {},
   "outputs": [],
   "source": [
    "df[['age','sex']] = df.age_sex.str.split(\"_\", expand = True)"
   ]
  },
  {
   "cell_type": "code",
   "execution_count": null,
   "metadata": {},
   "outputs": [],
   "source": [
    "df.head()"
   ]
  },
  {
   "cell_type": "markdown",
   "metadata": {},
   "source": [
    "We can see that now we have two separate columns for age and sex.\n",
    "\n",
    "Now, there is no need for the age_sex column. So, we should drop that column.\n",
    "\n",
    "We can drop 'age_sex' column using the **df.drop()** method as follows:-"
   ]
  },
  {
   "cell_type": "code",
   "execution_count": null,
   "metadata": {},
   "outputs": [],
   "source": [
    "df.drop(['age_sex'], axis=1, inplace=True)"
   ]
  },
  {
   "cell_type": "code",
   "execution_count": null,
   "metadata": {},
   "outputs": [],
   "source": [
    "df"
   ]
  },
  {
   "cell_type": "markdown",
   "metadata": {},
   "source": [
    "We can see that the 'age_sex' column has been dropped from the dataframe.\n",
    "\n"
   ]
  },
  {
   "cell_type": "markdown",
   "metadata": {},
   "source": [
    "## 11. Reorder the column labels\n",
    "\n",
    "Before that, we should reorder the columns for more pleasing visual appearance.\n",
    "\n",
    "We can do it as follows:-"
   ]
  },
  {
   "cell_type": "code",
   "execution_count": null,
   "metadata": {},
   "outputs": [],
   "source": [
    "df = df[['fname','lname','age','sex','section','height(cm)','weight(kg)','spend_A','spend_B','spend_C']]"
   ]
  },
  {
   "cell_type": "code",
   "execution_count": null,
   "metadata": {},
   "outputs": [],
   "source": [
    "df"
   ]
  },
  {
   "cell_type": "markdown",
   "metadata": {},
   "source": [
    "Now, we should move further to deal with missing and negative numerical values."
   ]
  },
  {
   "cell_type": "markdown",
   "metadata": {},
   "source": [
    "## 12. Dealing with negative numerical values"
   ]
  },
  {
   "cell_type": "markdown",
   "metadata": {},
   "source": [
    "We have seen that, in the weight(kg) column, there is a negative value of -60. It is invalid value because weight cannot be negative. There is a high probability that weight is 60 kg and it is mistyped as -60. So, I will replace the negative value \n",
    "of -60 with positive value of 60.\n",
    "\n",
    "We can do it as follows:-"
   ]
  },
  {
   "cell_type": "code",
   "execution_count": null,
   "metadata": {},
   "outputs": [],
   "source": [
    "# Suppress settingwithcopywarning\n",
    "\n",
    "pd.set_option('mode.chained_assignment', None)"
   ]
  },
  {
   "cell_type": "code",
   "execution_count": null,
   "metadata": {},
   "outputs": [],
   "source": [
    "df['weight(kg)'].replace(-60, 60, inplace=True)"
   ]
  },
  {
   "cell_type": "code",
   "execution_count": null,
   "metadata": {},
   "outputs": [],
   "source": [
    "df"
   ]
  },
  {
   "cell_type": "markdown",
   "metadata": {},
   "source": [
    "We can see that the negative value of -60 is replaced with positive value of 60."
   ]
  },
  {
   "cell_type": "markdown",
   "metadata": {},
   "source": [
    "Similarly, in the spend_B column, there is a negative value -100. The amount spent cannot be negative. So, we need to replace this negative value of -100 with positive value of 100.\n",
    "\n",
    "We can do it as follows:-"
   ]
  },
  {
   "cell_type": "code",
   "execution_count": null,
   "metadata": {},
   "outputs": [],
   "source": [
    "df['spend_B'].replace(-100,100, inplace=True)"
   ]
  },
  {
   "cell_type": "code",
   "execution_count": null,
   "metadata": {},
   "outputs": [],
   "source": [
    "df"
   ]
  },
  {
   "cell_type": "markdown",
   "metadata": {},
   "source": [
    "Again, we can see that the negative value of -100.0 in spend_B column is replaced with positive value of 100.0"
   ]
  },
  {
   "cell_type": "markdown",
   "metadata": {},
   "source": [
    "## 13. Dealing with outliers\n",
    "\n"
   ]
  },
  {
   "cell_type": "markdown",
   "metadata": {},
   "source": [
    "In the height(cm) column, there is a value of 0.0. It is not possible as height cannot be 0. So, we need to resolve it.\n",
    "\n",
    "I will replace the 0.0 value with the mean of the height(cm) column. It can be done as follows:-"
   ]
  },
  {
   "cell_type": "code",
   "execution_count": null,
   "metadata": {},
   "outputs": [],
   "source": [
    "mean = df['height(cm)'].mean()"
   ]
  },
  {
   "cell_type": "code",
   "execution_count": null,
   "metadata": {},
   "outputs": [],
   "source": [
    "df['height(cm)'].replace(0.0, mean, inplace=True)"
   ]
  },
  {
   "cell_type": "code",
   "execution_count": null,
   "metadata": {},
   "outputs": [],
   "source": [
    "df"
   ]
  },
  {
   "cell_type": "markdown",
   "metadata": {},
   "source": [
    "We can see that the data value of 0.0 in height(cm) column is replaced by a proper height value."
   ]
  },
  {
   "cell_type": "markdown",
   "metadata": {},
   "source": [
    "In the weight(kg) column, there is a very high absurd value of 160. It is not possible to have so much weight. Hence, it is invalid value. There is a high chance that the weight is 60 kg and it is mistakenly typed as 160 kg. So, we will replace the 160 \n",
    "data value with 60.\n",
    "\n",
    "It can be done as follows:-"
   ]
  },
  {
   "cell_type": "code",
   "execution_count": null,
   "metadata": {},
   "outputs": [],
   "source": [
    "df['weight(kg)'].replace(160.0, 60.0, inplace=True)"
   ]
  },
  {
   "cell_type": "code",
   "execution_count": null,
   "metadata": {},
   "outputs": [],
   "source": [
    "df"
   ]
  },
  {
   "cell_type": "markdown",
   "metadata": {},
   "source": [
    "We can see that the data value of 160.0 in the weight(kg) column is replaced by 60.0 and thus I handle the outliers. "
   ]
  },
  {
   "cell_type": "markdown",
   "metadata": {},
   "source": [
    "## 14.\tDealing with missing numerical values"
   ]
  },
  {
   "cell_type": "markdown",
   "metadata": {},
   "source": [
    "The following commands help us to deal with missing numerical values.\n",
    "\n",
    "\n",
    "`df.isnull()`\n",
    "\n",
    "The above command checks whether each cell in a dataframe contains missing values or not. If the cell contains missing value, it returns True otherwise it returns False. \n",
    "\n",
    "\n",
    "`df.isnull.sum()`\n",
    "\n",
    "The above command returns the total number of missing values in each column in the dataset.\n",
    "\n",
    "\n",
    "\n",
    "**isna()** and **notna()** functions to detect ‘NA’ values\n",
    "\n",
    "\n",
    "Pandas provides isna() and notna() functions to detect ‘NA’ values. These are also methods on Series and DataFrame objects.\n",
    "\n",
    "\n",
    "Examples of isna() and notna() commands\n",
    "\n",
    "\n",
    "We can detect ‘NA’ values in the dataframe with the following command:-\n",
    "\n",
    "\n",
    "`df.isna()`\n",
    "\n",
    "\n",
    "\n",
    "We can detect ‘NA’ values in a particular column in the dataframe\n",
    "\n",
    "\n",
    "`pd.isna(df[‘col_name’])`\n",
    "\n",
    "\n",
    "`df[‘col_name’].notna()`\n",
    "\n",
    "\n",
    "So, we can check the number of missing values in each column in the dataset as follows:-\n"
   ]
  },
  {
   "cell_type": "code",
   "execution_count": null,
   "metadata": {},
   "outputs": [],
   "source": [
    "df.isnull().sum()"
   ]
  },
  {
   "cell_type": "markdown",
   "metadata": {},
   "source": [
    "We can see that there are lots of missing values in the dataset."
   ]
  },
  {
   "cell_type": "markdown",
   "metadata": {},
   "source": [
    "### Fill missing values with a test statistic\n",
    "\n",
    "\n",
    "In this method, we fill the missing values with a test statistic like mean, median or mode of the particular feature the missing value belongs to. One can also specify a forward-fill or back-fill to propagate the next values backward or previous value forward.\n",
    "\n",
    "\n",
    "\n",
    "### Filling missing values with a test statistic like mean\n",
    "\n",
    "\n",
    "`mean = df['col_name'].mean()`\n",
    "\n",
    "\n",
    "`df['col_name'].fillna(value = median, inplace = True )`\n",
    "\n",
    "\n",
    "\n",
    "###  We can also use replace() in place of fillna()\n",
    "\n",
    "\n",
    "`df[‘col_name’].replace(to_replace = NaN, value = median, inplace = True)`\n",
    "\n",
    "\n",
    "If we choose this method, then we should compute the median value on the training set and use it to fill the missing values in the training set. Then we should save the median value that we have computed.  Later, we will replace missing values in the test set with the median value to evaluate the system.\n",
    "\n"
   ]
  },
  {
   "cell_type": "markdown",
   "metadata": {},
   "source": [
    "We can calculate the missing variables and use it to fill the missing values as follows:-"
   ]
  },
  {
   "cell_type": "code",
   "execution_count": null,
   "metadata": {},
   "outputs": [],
   "source": [
    "mean_height = df['height(cm)'].mean()\n",
    "\n",
    "df['height(cm)'].fillna(mean_height, inplace=True)"
   ]
  },
  {
   "cell_type": "code",
   "execution_count": null,
   "metadata": {},
   "outputs": [],
   "source": [
    "mean_weight = df['weight(kg)'].mean()\n",
    "\n",
    "df['weight(kg)'].fillna(mean_weight, inplace=True)"
   ]
  },
  {
   "cell_type": "code",
   "execution_count": null,
   "metadata": {},
   "outputs": [],
   "source": [
    "mean_spend_A = df['spend_A'].mean()\n",
    "\n",
    "df['spend_A'].fillna(mean_spend_A, inplace=True)"
   ]
  },
  {
   "cell_type": "code",
   "execution_count": null,
   "metadata": {},
   "outputs": [],
   "source": [
    "mean_spend_B = df['spend_B'].mean()\n",
    "\n",
    "df['spend_B'].fillna(mean_spend_B, inplace=True)"
   ]
  },
  {
   "cell_type": "code",
   "execution_count": null,
   "metadata": {},
   "outputs": [],
   "source": [
    "mean_spend_C = df['spend_C'].mean()\n",
    "\n",
    "df['spend_C'].fillna(mean_spend_C, inplace=True)"
   ]
  },
  {
   "cell_type": "markdown",
   "metadata": {},
   "source": [
    "We have calculated the mean variables and use them to fill the missing values."
   ]
  },
  {
   "cell_type": "code",
   "execution_count": null,
   "metadata": {},
   "outputs": [],
   "source": [
    "# Again check for missing values\n",
    "\n",
    "df.isnull().sum()"
   ]
  },
  {
   "cell_type": "markdown",
   "metadata": {},
   "source": [
    "We can see that there are no missing values in the dataframe. \n",
    "\n",
    "We can confirm this with **ASSERT** statement as follwos:-"
   ]
  },
  {
   "cell_type": "markdown",
   "metadata": {},
   "source": [
    "## 15. Check with ASSERT statement"
   ]
  },
  {
   "cell_type": "markdown",
   "metadata": {},
   "source": [
    "Finally, we can check for missing values programmatically. If we drop or fill missing values, we expect no missing values. \n",
    "We can write an assert statement to verify this. So, we can use an assert statement to programmatically check that no \n",
    "missing or unexpected ‘0’ value is present. This gives confidence that our code is running properly.\n",
    "\n",
    "\n",
    "Assert statement will return nothing if the value being tested is true and will throw an AssertionError if the value is false.\n",
    "\n",
    "Asserts\n",
    "\n",
    "\n",
    "•\tassert 1 == 1   (return Nothing if the value is True)\n",
    "\n",
    "\n",
    "•\tassert 1 == 2   (return AssertionError if the value is False)\n",
    "\n",
    "\n",
    "We can check with assert statement as follows:-\n"
   ]
  },
  {
   "cell_type": "code",
   "execution_count": null,
   "metadata": {},
   "outputs": [],
   "source": [
    "#assert that there are no missing values in the dataframe\n",
    "\n",
    "assert pd.notnull(df).all().all()\n"
   ]
  },
  {
   "cell_type": "markdown",
   "metadata": {},
   "source": [
    "Filter the dataframe with column that include `float` or`int` type"
   ]
  },
  {
   "cell_type": "code",
   "execution_count": null,
   "metadata": {},
   "outputs": [],
   "source": [
    "result = df.select_dtypes(include=[float, int])\n",
    "result"
   ]
  },
  {
   "cell_type": "code",
   "execution_count": null,
   "metadata": {},
   "outputs": [],
   "source": [
    "#assert all values are greater than 0\n",
    "assert (result >=0).all().all()\n"
   ]
  },
  {
   "cell_type": "markdown",
   "metadata": {},
   "source": [
    "The assert statement returns nothing. So, we can conclude that there are no missing values in the dataset and all the values \n",
    "are greater than zero."
   ]
  },
  {
   "cell_type": "markdown",
   "metadata": {},
   "source": [
    "We can confirm this by looking at the dataframe."
   ]
  },
  {
   "cell_type": "code",
   "execution_count": null,
   "metadata": {},
   "outputs": [],
   "source": [
    "df"
   ]
  },
  {
   "cell_type": "markdown",
   "metadata": {},
   "source": [
    "We can see that there are no missing or negative values in the dataframe. "
   ]
  },
  {
   "cell_type": "markdown",
   "metadata": {},
   "source": [
    "## 16. Reshaping the data into tidy data format"
   ]
  },
  {
   "cell_type": "markdown",
   "metadata": {},
   "source": [
    "When we take a closer look at the dataframe, we can see that our dataframe is not in the tidy data format.\n",
    "\n",
    "The columns spend_A, spend_B and spend_C contain values of amount spent rather than variables. We should reorganize our \n",
    "dataframe into tidy data format.\n",
    "\n",
    "We can convert it into the tidy data format using the **pd.melt()** function as follows:-"
   ]
  },
  {
   "cell_type": "code",
   "execution_count": null,
   "metadata": {},
   "outputs": [],
   "source": [
    "df_melt=pd.melt(frame=df, id_vars=['fname','lname','age','sex','section','height(cm)','weight(kg)'],\n",
    "                    value_vars=['spend_A','spend_B','spend_C'], var_name='expenditure', value_name='amount')\n",
    "\n",
    "df_melt"
   ]
  },
  {
   "cell_type": "markdown",
   "metadata": {},
   "source": [
    "Now, when we look at our data, we can see that there are no missing or negative values. There are no outliers in our data. Lastly, our data is in the tidy data format."
   ]
  },
  {
   "cell_type": "markdown",
   "metadata": {},
   "source": [
    "This concludes the data cleaning process for friends dataset."
   ]
  },
  {
   "cell_type": "code",
   "execution_count": null,
   "metadata": {},
   "outputs": [],
   "source": [
    "df_melt.groupby(list(df_melt.columns[:-1])).sum()\\\n",
    "#.reset_index()"
   ]
  },
  {
   "cell_type": "code",
   "execution_count": null,
   "metadata": {},
   "outputs": [],
   "source": []
  }
 ],
 "metadata": {
  "kernelspec": {
   "display_name": "Python 3 (ipykernel)",
   "language": "python",
   "name": "python3"
  },
  "language_info": {
   "codemirror_mode": {
    "name": "ipython",
    "version": 3
   },
   "file_extension": ".py",
   "mimetype": "text/x-python",
   "name": "python",
   "nbconvert_exporter": "python",
   "pygments_lexer": "ipython3",
   "version": "3.7.12"
  }
 },
 "nbformat": 4,
 "nbformat_minor": 2
}
