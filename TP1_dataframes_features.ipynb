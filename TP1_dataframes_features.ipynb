{
  "cells": [
    {
      "cell_type": "markdown",
      "metadata": {
        "id": "view-in-github",
        "colab_type": "text"
      },
      "source": [
        "<a href=\"https://colab.research.google.com/github/nevermind78/Data_Analysis/blob/main/TP1_dataframes_features.ipynb\" target=\"_parent\"><img src=\"https://colab.research.google.com/assets/colab-badge.svg\" alt=\"Open In Colab\"/></a>"
      ]
    },
    {
      "cell_type": "markdown",
      "metadata": {
        "id": "P5KqrK2cruBS"
      },
      "source": [
        "# DataFrames feature \n"
      ]
    },
    {
      "cell_type": "code",
      "source": [
        "# import standard libs\n",
        "import os\n",
        "\n",
        "# if on collab pull required subdirectories\n",
        "if os.getenv(\"COLAB_RELEASE_TAG\"): \n",
        "    # install github clone - allows for easy cloning of subdirectories\n",
        "    !pip install github-clone\n",
        "    from pathlib import Path \n",
        "\n",
        "    # clone datasets\n",
        "    if not Path('TP1').is_dir():\n",
        "        !ghclone https://github.com/nevermind78/Data_Analysis/tree/main/TP1/\n",
        "        print('TP1 already cloned!')\n",
        "\n",
        "\n",
        "# append path for local library, data, and image import\n",
        "import sys\n",
        "sys.path.append('./TP1')\n",
        "\n"
      ],
      "metadata": {
        "colab": {
          "base_uri": "https://localhost:8080/"
        },
        "id": "f-ns-G2xrwKj",
        "outputId": "a0f6d9a2-bec6-46f9-e06e-8104d236ec81"
      },
      "execution_count": 1,
      "outputs": [
        {
          "output_type": "stream",
          "name": "stdout",
          "text": [
            "Looking in indexes: https://pypi.org/simple, https://us-python.pkg.dev/colab-wheels/public/simple/\n",
            "Collecting github-clone\n",
            "  Downloading github_clone-1.2.0-py3-none-any.whl (9.1 kB)\n",
            "Requirement already satisfied: requests>=2.20.0 in /usr/local/lib/python3.10/dist-packages (from github-clone) (2.27.1)\n",
            "Collecting docopt>=0.6.2 (from github-clone)\n",
            "  Downloading docopt-0.6.2.tar.gz (25 kB)\n",
            "  Preparing metadata (setup.py) ... \u001b[?25l\u001b[?25hdone\n",
            "Requirement already satisfied: urllib3<1.27,>=1.21.1 in /usr/local/lib/python3.10/dist-packages (from requests>=2.20.0->github-clone) (1.26.15)\n",
            "Requirement already satisfied: certifi>=2017.4.17 in /usr/local/lib/python3.10/dist-packages (from requests>=2.20.0->github-clone) (2022.12.7)\n",
            "Requirement already satisfied: charset-normalizer~=2.0.0 in /usr/local/lib/python3.10/dist-packages (from requests>=2.20.0->github-clone) (2.0.12)\n",
            "Requirement already satisfied: idna<4,>=2.5 in /usr/local/lib/python3.10/dist-packages (from requests>=2.20.0->github-clone) (3.4)\n",
            "Building wheels for collected packages: docopt\n",
            "  Building wheel for docopt (setup.py) ... \u001b[?25l\u001b[?25hdone\n",
            "  Created wheel for docopt: filename=docopt-0.6.2-py2.py3-none-any.whl size=13707 sha256=e6c7020f8705efbd70471a5ccb3e8264d5c07f4ce02ff63ca58d5b116ce28f12\n",
            "  Stored in directory: /root/.cache/pip/wheels/fc/ab/d4/5da2067ac95b36618c629a5f93f809425700506f72c9732fac\n",
            "Successfully built docopt\n",
            "Installing collected packages: docopt, github-clone\n",
            "Successfully installed docopt-0.6.2 github-clone-1.2.0\n",
            "Cloning into ''...\n",
            "done.\n",
            "TP1 already cloned!\n"
          ]
        }
      ]
    },
    {
      "cell_type": "markdown",
      "metadata": {
        "id": "MzfG3cJzruBX"
      },
      "source": [
        "## Creation d'un dataframe avec pandas"
      ]
    },
    {
      "cell_type": "markdown",
      "metadata": {
        "id": "55-16SiVruBX"
      },
      "source": [
        "Nous allons commencer par créer un dataframe `product_data` définie à partir des données \n",
        "```python3\n",
        "product_data = {\n",
        "    'product a': [13, 20, 0, 10], \n",
        "    'project b': [10, 30, 17, 20],\n",
        "    'project c': [6, 9, 10, 0]}\n",
        "```\n"
      ]
    },
    {
      "cell_type": "code",
      "execution_count": null,
      "metadata": {
        "tags": [],
        "id": "NmaXGTJUruBY"
      },
      "outputs": [],
      "source": [
        "# Importer la bibliothèque pandas avec l'alias pd\n",
        "import pandas as pd"
      ]
    },
    {
      "cell_type": "code",
      "execution_count": null,
      "metadata": {
        "tags": [],
        "id": "T0Mruz-YruBa"
      },
      "outputs": [],
      "source": [
        "# données sous la forme de dictionnaire\n",
        "\n",
        "product_data = {\n",
        "    'product a': [13, 20, 0, 10], \n",
        "    'product b': [10, 30, 17, 20],\n",
        "    'product c': [6, 9, 10, 0]\n",
        "}"
      ]
    },
    {
      "cell_type": "code",
      "execution_count": null,
      "metadata": {
        "jupyter": {
          "outputs_hidden": false
        },
        "id": "5RpUZheTruBa",
        "outputId": "eab5b842-baa7-4645-89ba-09505ffe21d5"
      },
      "outputs": [
        {
          "data": {
            "text/plain": [
              "{'product a': [13, 20, 0, 10],\n",
              " 'product b': [10, 30, 17, 20],\n",
              " 'product c': [6, 9, 10, 0]}"
            ]
          },
          "execution_count": 4,
          "metadata": {},
          "output_type": "execute_result"
        }
      ],
      "source": [
        "product_data"
      ]
    },
    {
      "cell_type": "markdown",
      "metadata": {
        "id": "DAyxE-HBruBc"
      },
      "source": [
        "### Transformation du dictionnair en data frame\n"
      ]
    },
    {
      "cell_type": "code",
      "execution_count": null,
      "metadata": {
        "jupyter": {
          "outputs_hidden": false
        },
        "id": "kV9VOKHjruBc"
      },
      "outputs": [],
      "source": [
        "purchase_data = pd.DataFrame(product_data)"
      ]
    },
    {
      "cell_type": "code",
      "execution_count": null,
      "metadata": {
        "jupyter": {
          "outputs_hidden": false
        },
        "id": "3GjSrE0GruBd",
        "outputId": "0f18a6ba-f883-49bb-c479-831d9008c1ce"
      },
      "outputs": [
        {
          "data": {
            "text/html": [
              "<div>\n",
              "<style scoped>\n",
              "    .dataframe tbody tr th:only-of-type {\n",
              "        vertical-align: middle;\n",
              "    }\n",
              "\n",
              "    .dataframe tbody tr th {\n",
              "        vertical-align: top;\n",
              "    }\n",
              "\n",
              "    .dataframe thead th {\n",
              "        text-align: right;\n",
              "    }\n",
              "</style>\n",
              "<table border=\"1\" class=\"dataframe\">\n",
              "  <thead>\n",
              "    <tr style=\"text-align: right;\">\n",
              "      <th></th>\n",
              "      <th>product a</th>\n",
              "      <th>product b</th>\n",
              "      <th>product c</th>\n",
              "    </tr>\n",
              "  </thead>\n",
              "  <tbody>\n",
              "    <tr>\n",
              "      <th>0</th>\n",
              "      <td>13</td>\n",
              "      <td>10</td>\n",
              "      <td>6</td>\n",
              "    </tr>\n",
              "    <tr>\n",
              "      <th>1</th>\n",
              "      <td>20</td>\n",
              "      <td>30</td>\n",
              "      <td>9</td>\n",
              "    </tr>\n",
              "    <tr>\n",
              "      <th>2</th>\n",
              "      <td>0</td>\n",
              "      <td>17</td>\n",
              "      <td>10</td>\n",
              "    </tr>\n",
              "    <tr>\n",
              "      <th>3</th>\n",
              "      <td>10</td>\n",
              "      <td>20</td>\n",
              "      <td>0</td>\n",
              "    </tr>\n",
              "  </tbody>\n",
              "</table>\n",
              "</div>"
            ],
            "text/plain": [
              "   product a  product b  product c\n",
              "0         13         10          6\n",
              "1         20         30          9\n",
              "2          0         17         10\n",
              "3         10         20          0"
            ]
          },
          "execution_count": 7,
          "metadata": {},
          "output_type": "execute_result"
        }
      ],
      "source": [
        "purchase_data"
      ]
    },
    {
      "cell_type": "markdown",
      "metadata": {
        "id": "3dmpiwkAruBe"
      },
      "source": [
        "### Ajouter l'index"
      ]
    },
    {
      "cell_type": "code",
      "execution_count": null,
      "metadata": {
        "tags": [],
        "id": "ayro2qcFruBe"
      },
      "outputs": [],
      "source": [
        "\n",
        "purchase_data = pd.DataFrame(product_data, \n",
        "                             index=['Ronny', 'Bobby', 'Ricky', 'Mike'])"
      ]
    },
    {
      "cell_type": "code",
      "execution_count": null,
      "metadata": {
        "jupyter": {
          "outputs_hidden": false
        },
        "id": "sf2Yi7O8ruBf",
        "outputId": "5f7a9d61-41ee-4a61-e2c0-c096f67f693f"
      },
      "outputs": [
        {
          "data": {
            "text/html": [
              "<div>\n",
              "<style scoped>\n",
              "    .dataframe tbody tr th:only-of-type {\n",
              "        vertical-align: middle;\n",
              "    }\n",
              "\n",
              "    .dataframe tbody tr th {\n",
              "        vertical-align: top;\n",
              "    }\n",
              "\n",
              "    .dataframe thead th {\n",
              "        text-align: right;\n",
              "    }\n",
              "</style>\n",
              "<table border=\"1\" class=\"dataframe\">\n",
              "  <thead>\n",
              "    <tr style=\"text-align: right;\">\n",
              "      <th></th>\n",
              "      <th>product a</th>\n",
              "      <th>product b</th>\n",
              "      <th>product c</th>\n",
              "    </tr>\n",
              "  </thead>\n",
              "  <tbody>\n",
              "    <tr>\n",
              "      <th>Ronny</th>\n",
              "      <td>13</td>\n",
              "      <td>10</td>\n",
              "      <td>6</td>\n",
              "    </tr>\n",
              "    <tr>\n",
              "      <th>Bobby</th>\n",
              "      <td>20</td>\n",
              "      <td>30</td>\n",
              "      <td>9</td>\n",
              "    </tr>\n",
              "    <tr>\n",
              "      <th>Ricky</th>\n",
              "      <td>0</td>\n",
              "      <td>17</td>\n",
              "      <td>10</td>\n",
              "    </tr>\n",
              "    <tr>\n",
              "      <th>Mike</th>\n",
              "      <td>10</td>\n",
              "      <td>20</td>\n",
              "      <td>0</td>\n",
              "    </tr>\n",
              "  </tbody>\n",
              "</table>\n",
              "</div>"
            ],
            "text/plain": [
              "       product a  product b  product c\n",
              "Ronny         13         10          6\n",
              "Bobby         20         30          9\n",
              "Ricky          0         17         10\n",
              "Mike          10         20          0"
            ]
          },
          "execution_count": 9,
          "metadata": {},
          "output_type": "execute_result"
        }
      ],
      "source": [
        "purchase_data.head()"
      ]
    },
    {
      "cell_type": "code",
      "execution_count": null,
      "metadata": {
        "id": "Mrl7Bvs4ruBf",
        "outputId": "d6bf55e1-d70b-4ed7-8b1e-ea47c4d38f88"
      },
      "outputs": [
        {
          "data": {
            "text/html": [
              "<div>\n",
              "<style scoped>\n",
              "    .dataframe tbody tr th:only-of-type {\n",
              "        vertical-align: middle;\n",
              "    }\n",
              "\n",
              "    .dataframe tbody tr th {\n",
              "        vertical-align: top;\n",
              "    }\n",
              "\n",
              "    .dataframe thead th {\n",
              "        text-align: right;\n",
              "    }\n",
              "</style>\n",
              "<table border=\"1\" class=\"dataframe\">\n",
              "  <thead>\n",
              "    <tr style=\"text-align: right;\">\n",
              "      <th></th>\n",
              "      <th>product a</th>\n",
              "      <th>product b</th>\n",
              "      <th>product c</th>\n",
              "      <th>product_d</th>\n",
              "    </tr>\n",
              "  </thead>\n",
              "  <tbody>\n",
              "    <tr>\n",
              "      <th>Ronny</th>\n",
              "      <td>13</td>\n",
              "      <td>10</td>\n",
              "      <td>6</td>\n",
              "      <td>11</td>\n",
              "    </tr>\n",
              "    <tr>\n",
              "      <th>Bobby</th>\n",
              "      <td>20</td>\n",
              "      <td>30</td>\n",
              "      <td>9</td>\n",
              "      <td>12</td>\n",
              "    </tr>\n",
              "    <tr>\n",
              "      <th>Ricky</th>\n",
              "      <td>0</td>\n",
              "      <td>17</td>\n",
              "      <td>10</td>\n",
              "      <td>13</td>\n",
              "    </tr>\n",
              "    <tr>\n",
              "      <th>Mike</th>\n",
              "      <td>10</td>\n",
              "      <td>20</td>\n",
              "      <td>0</td>\n",
              "      <td>14</td>\n",
              "    </tr>\n",
              "  </tbody>\n",
              "</table>\n",
              "</div>"
            ],
            "text/plain": [
              "       product a  product b  product c  product_d\n",
              "Ronny         13         10          6         11\n",
              "Bobby         20         30          9         12\n",
              "Ricky          0         17         10         13\n",
              "Mike          10         20          0         14"
            ]
          },
          "execution_count": 10,
          "metadata": {},
          "output_type": "execute_result"
        }
      ],
      "source": [
        "purchase_data[\"product_d\"]=[11,12,13,14]\n",
        "purchase_data"
      ]
    },
    {
      "cell_type": "markdown",
      "metadata": {
        "id": "dHanWfUpruBg"
      },
      "source": [
        "### Opérations sur les dataframes\n",
        "\n",
        "* Filtrage"
      ]
    },
    {
      "cell_type": "code",
      "execution_count": null,
      "metadata": {
        "jupyter": {
          "outputs_hidden": false
        },
        "id": "c5rwRJiSruBg",
        "outputId": "548f7565-1fc7-4908-b81c-f142e4520486"
      },
      "outputs": [
        {
          "data": {
            "text/plain": [
              "product a     0\n",
              "product b    17\n",
              "product c    10\n",
              "product_d    13\n",
              "Name: Ricky, dtype: int64"
            ]
          },
          "execution_count": 13,
          "metadata": {},
          "output_type": "execute_result"
        }
      ],
      "source": [
        "#purchase_data.iloc[2]\n",
        "purchase_data.iloc[2]\n",
        "#.loc(\" nom de la ligne\")"
      ]
    },
    {
      "cell_type": "code",
      "execution_count": null,
      "metadata": {
        "id": "OJH2_W_qruBh",
        "outputId": "b6e72b60-9503-45f0-b343-4924239bccd9"
      },
      "outputs": [
        {
          "data": {
            "text/plain": [
              "product a    False\n",
              "product b     True\n",
              "product c     True\n",
              "product_d     True\n",
              "Name: Ricky, dtype: bool"
            ]
          },
          "execution_count": 14,
          "metadata": {},
          "output_type": "execute_result"
        }
      ],
      "source": [
        "# d'une manière équivalente \n",
        "purchase_data.iloc[2] >0\n",
        "#.iloc() l'index de la ligne"
      ]
    },
    {
      "cell_type": "code",
      "execution_count": null,
      "metadata": {
        "id": "5olGbvPDruBh"
      },
      "outputs": [],
      "source": []
    },
    {
      "cell_type": "code",
      "execution_count": null,
      "metadata": {
        "jupyter": {
          "outputs_hidden": false
        },
        "id": "3Q9xIjegruBh",
        "outputId": "719a9902-b2e0-4517-fcfc-510635b5e974"
      },
      "outputs": [
        {
          "data": {
            "text/plain": [
              "product a     True\n",
              "product b    False\n",
              "product c    False\n",
              "product_d     True\n",
              "Name: Ronny, dtype: bool"
            ]
          },
          "execution_count": 15,
          "metadata": {},
          "output_type": "execute_result"
        }
      ],
      "source": [
        "purchase_data.iloc[0] >10"
      ]
    },
    {
      "cell_type": "code",
      "execution_count": null,
      "metadata": {
        "jupyter": {
          "outputs_hidden": false
        },
        "id": "yckgSknvruBi",
        "outputId": "43cc5bdb-3445-4f5b-9fa7-5a5032b27d91"
      },
      "outputs": [
        {
          "data": {
            "text/plain": [
              "Ronny    13\n",
              "Bobby    20\n",
              "Ricky     0\n",
              "Mike     10\n",
              "Name: product a, dtype: int64"
            ]
          },
          "execution_count": 18,
          "metadata": {},
          "output_type": "execute_result"
        }
      ],
      "source": [
        "purchase_data.iloc[:,0]# extarcation de la première colonne"
      ]
    },
    {
      "cell_type": "code",
      "execution_count": null,
      "metadata": {
        "jupyter": {
          "outputs_hidden": false
        },
        "id": "g7tnab-iruBi"
      },
      "outputs": [],
      "source": [
        "purchase_data.iloc[0]"
      ]
    },
    {
      "cell_type": "code",
      "execution_count": null,
      "metadata": {
        "id": "ye5xdWAnruBj",
        "outputId": "3a9814dc-d615-4727-a82a-8898b7d7171f"
      },
      "outputs": [
        {
          "data": {
            "text/plain": [
              "product a    13\n",
              "product b    10\n",
              "product c     6\n",
              "product_d    11\n",
              "Name: Ronny, dtype: int64"
            ]
          },
          "execution_count": 21,
          "metadata": {},
          "output_type": "execute_result"
        }
      ],
      "source": [
        "purchase_data[purchase_data['product a']>=11].iloc[0]\n",
        "# [\"nom dela colonne\"] séléctionner la colonne "
      ]
    },
    {
      "cell_type": "markdown",
      "metadata": {
        "id": "ViBlekgwruBj"
      },
      "source": [
        "### Dataframe à partir d'un fichier csv"
      ]
    },
    {
      "cell_type": "code",
      "execution_count": null,
      "metadata": {
        "jupyter": {
          "outputs_hidden": false
        },
        "id": "A2UMzSAwruBj",
        "outputId": "949a6a2a-d8e7-4c71-e5e0-2b7aa9084bad"
      },
      "outputs": [
        {
          "data": {
            "text/html": [
              "<div>\n",
              "<style scoped>\n",
              "    .dataframe tbody tr th:only-of-type {\n",
              "        vertical-align: middle;\n",
              "    }\n",
              "\n",
              "    .dataframe tbody tr th {\n",
              "        vertical-align: top;\n",
              "    }\n",
              "\n",
              "    .dataframe thead th {\n",
              "        text-align: right;\n",
              "    }\n",
              "</style>\n",
              "<table border=\"1\" class=\"dataframe\">\n",
              "  <thead>\n",
              "    <tr style=\"text-align: right;\">\n",
              "      <th></th>\n",
              "      <th>apples</th>\n",
              "      <th>oranges</th>\n",
              "      <th>bananas</th>\n",
              "    </tr>\n",
              "    <tr>\n",
              "      <th></th>\n",
              "      <th></th>\n",
              "      <th></th>\n",
              "      <th></th>\n",
              "    </tr>\n",
              "  </thead>\n",
              "  <tbody>\n",
              "    <tr>\n",
              "      <th>June</th>\n",
              "      <td>3</td>\n",
              "      <td>0</td>\n",
              "      <td>2.0</td>\n",
              "    </tr>\n",
              "    <tr>\n",
              "      <th>Robert</th>\n",
              "      <td>2</td>\n",
              "      <td>3</td>\n",
              "      <td>4.5</td>\n",
              "    </tr>\n",
              "    <tr>\n",
              "      <th>Lily</th>\n",
              "      <td>0</td>\n",
              "      <td>7</td>\n",
              "      <td>1.0</td>\n",
              "    </tr>\n",
              "    <tr>\n",
              "      <th>David</th>\n",
              "      <td>1</td>\n",
              "      <td>2</td>\n",
              "      <td>3.0</td>\n",
              "    </tr>\n",
              "  </tbody>\n",
              "</table>\n",
              "</div>"
            ],
            "text/plain": [
              "        apples  oranges  bananas\n",
              "                                \n",
              " June        3        0      2.0\n",
              "Robert       2        3      4.5\n",
              "Lily         0        7      1.0\n",
              "David        1        2      3.0"
            ]
          },
          "execution_count": 5,
          "metadata": {},
          "output_type": "execute_result"
        }
      ],
      "source": [
        "df = pd.read_csv('../data/sources/purshases.csv', index_col=0)\n",
        "\n",
        "df\n"
      ]
    },
    {
      "cell_type": "code",
      "execution_count": null,
      "metadata": {
        "id": "PbTIoGd8ruBk",
        "outputId": "e5a50e48-728a-4632-9438-e8207de2ab4b"
      },
      "outputs": [
        {
          "data": {
            "text/plain": [
              "apples       int64\n",
              "oranges      int64\n",
              "bananas    float64\n",
              "dtype: object"
            ]
          },
          "execution_count": 27,
          "metadata": {},
          "output_type": "execute_result"
        }
      ],
      "source": [
        "df.dtypes"
      ]
    },
    {
      "cell_type": "markdown",
      "metadata": {
        "id": "8oRgc0ttruBk"
      },
      "source": [
        "Excuter la cellule précédente en enlevant ```index_col=0```"
      ]
    },
    {
      "cell_type": "code",
      "execution_count": null,
      "metadata": {
        "id": "P8ui-SiNruBk",
        "outputId": "f5c79f11-7900-42c4-c3b8-95cc119bfd53"
      },
      "outputs": [
        {
          "data": {
            "text/html": [
              "<div>\n",
              "<style scoped>\n",
              "    .dataframe tbody tr th:only-of-type {\n",
              "        vertical-align: middle;\n",
              "    }\n",
              "\n",
              "    .dataframe tbody tr th {\n",
              "        vertical-align: top;\n",
              "    }\n",
              "\n",
              "    .dataframe thead th {\n",
              "        text-align: right;\n",
              "    }\n",
              "</style>\n",
              "<table border=\"1\" class=\"dataframe\">\n",
              "  <thead>\n",
              "    <tr style=\"text-align: right;\">\n",
              "      <th></th>\n",
              "      <th></th>\n",
              "      <th>apples</th>\n",
              "      <th>oranges</th>\n",
              "      <th>bananas</th>\n",
              "    </tr>\n",
              "  </thead>\n",
              "  <tbody>\n",
              "    <tr>\n",
              "      <th>0</th>\n",
              "      <td>June</td>\n",
              "      <td>3</td>\n",
              "      <td>0</td>\n",
              "      <td>2.0</td>\n",
              "    </tr>\n",
              "    <tr>\n",
              "      <th>1</th>\n",
              "      <td>Robert</td>\n",
              "      <td>2</td>\n",
              "      <td>3</td>\n",
              "      <td>4.5</td>\n",
              "    </tr>\n",
              "    <tr>\n",
              "      <th>2</th>\n",
              "      <td>Lily</td>\n",
              "      <td>0</td>\n",
              "      <td>7</td>\n",
              "      <td>1.0</td>\n",
              "    </tr>\n",
              "    <tr>\n",
              "      <th>3</th>\n",
              "      <td>David</td>\n",
              "      <td>1</td>\n",
              "      <td>2</td>\n",
              "      <td>3.0</td>\n",
              "    </tr>\n",
              "  </tbody>\n",
              "</table>\n",
              "</div>"
            ],
            "text/plain": [
              "           apples  oranges  bananas\n",
              "0    June       3        0      2.0\n",
              "1  Robert       2        3      4.5\n",
              "2    Lily       0        7      1.0\n",
              "3   David       1        2      3.0"
            ]
          },
          "execution_count": 28,
          "metadata": {},
          "output_type": "execute_result"
        }
      ],
      "source": [
        "df = pd.read_csv('../data/sources/purshases.csv')\n",
        "\n",
        "df"
      ]
    },
    {
      "cell_type": "markdown",
      "metadata": {
        "id": "Q0xSFvN0ruBl"
      },
      "source": [
        "### DataFrame à partir d'un fichier json"
      ]
    },
    {
      "cell_type": "code",
      "execution_count": null,
      "metadata": {
        "jupyter": {
          "outputs_hidden": false
        },
        "id": "wdgF5rWYruBl",
        "outputId": "951ab0fb-a026-4601-cbc4-a916f775044b"
      },
      "outputs": [
        {
          "data": {
            "text/html": [
              "<div>\n",
              "<style scoped>\n",
              "    .dataframe tbody tr th:only-of-type {\n",
              "        vertical-align: middle;\n",
              "    }\n",
              "\n",
              "    .dataframe tbody tr th {\n",
              "        vertical-align: top;\n",
              "    }\n",
              "\n",
              "    .dataframe thead th {\n",
              "        text-align: right;\n",
              "    }\n",
              "</style>\n",
              "<table border=\"1\" class=\"dataframe\">\n",
              "  <thead>\n",
              "    <tr style=\"text-align: right;\">\n",
              "      <th></th>\n",
              "      <th>David</th>\n",
              "      <th>June</th>\n",
              "      <th>Lilly</th>\n",
              "      <th>Robert</th>\n",
              "    </tr>\n",
              "  </thead>\n",
              "  <tbody>\n",
              "    <tr>\n",
              "      <th>apples</th>\n",
              "      <td>1</td>\n",
              "      <td>3</td>\n",
              "      <td>0</td>\n",
              "      <td>2</td>\n",
              "    </tr>\n",
              "    <tr>\n",
              "      <th>oranges</th>\n",
              "      <td>2</td>\n",
              "      <td>0</td>\n",
              "      <td>7</td>\n",
              "      <td>3</td>\n",
              "    </tr>\n",
              "  </tbody>\n",
              "</table>\n",
              "</div>"
            ],
            "text/plain": [
              "         David  June  Lilly  Robert\n",
              "apples       1     3      0       2\n",
              "oranges      2     0      7       3"
            ]
          },
          "execution_count": 6,
          "metadata": {},
          "output_type": "execute_result"
        }
      ],
      "source": [
        "df = pd.read_json('../data/sources/purshases.json')\n",
        "\n",
        "df"
      ]
    },
    {
      "cell_type": "code",
      "execution_count": null,
      "metadata": {
        "id": "cMOY9N2vruBl",
        "outputId": "71f45f13-a25e-4dc2-dd66-3c17d529e349"
      },
      "outputs": [
        {
          "data": {
            "text/html": [
              "<div>\n",
              "<style scoped>\n",
              "    .dataframe tbody tr th:only-of-type {\n",
              "        vertical-align: middle;\n",
              "    }\n",
              "\n",
              "    .dataframe tbody tr th {\n",
              "        vertical-align: top;\n",
              "    }\n",
              "\n",
              "    .dataframe thead th {\n",
              "        text-align: right;\n",
              "    }\n",
              "</style>\n",
              "<table border=\"1\" class=\"dataframe\">\n",
              "  <thead>\n",
              "    <tr style=\"text-align: right;\">\n",
              "      <th></th>\n",
              "      <th>apples</th>\n",
              "      <th>oranges</th>\n",
              "    </tr>\n",
              "  </thead>\n",
              "  <tbody>\n",
              "    <tr>\n",
              "      <th>David</th>\n",
              "      <td>1</td>\n",
              "      <td>2</td>\n",
              "    </tr>\n",
              "    <tr>\n",
              "      <th>June</th>\n",
              "      <td>3</td>\n",
              "      <td>0</td>\n",
              "    </tr>\n",
              "    <tr>\n",
              "      <th>Lilly</th>\n",
              "      <td>0</td>\n",
              "      <td>7</td>\n",
              "    </tr>\n",
              "    <tr>\n",
              "      <th>Robert</th>\n",
              "      <td>2</td>\n",
              "      <td>3</td>\n",
              "    </tr>\n",
              "  </tbody>\n",
              "</table>\n",
              "</div>"
            ],
            "text/plain": [
              "        apples  oranges\n",
              "David        1        2\n",
              "June         3        0\n",
              "Lilly        0        7\n",
              "Robert       2        3"
            ]
          },
          "execution_count": 7,
          "metadata": {},
          "output_type": "execute_result"
        }
      ],
      "source": [
        "DF=df.transpose()\n",
        "DF"
      ]
    },
    {
      "cell_type": "code",
      "execution_count": null,
      "metadata": {
        "id": "3I20aWzNruBm"
      },
      "outputs": [],
      "source": []
    },
    {
      "cell_type": "code",
      "execution_count": null,
      "metadata": {
        "id": "zuQAwjmDruBm"
      },
      "outputs": [],
      "source": [
        "df.transpose().to_json('../data/sources/purshases_t.json')"
      ]
    },
    {
      "cell_type": "code",
      "execution_count": null,
      "metadata": {
        "id": "nzQCwvpcruBm"
      },
      "outputs": [],
      "source": []
    },
    {
      "cell_type": "markdown",
      "metadata": {
        "id": "WsxcWuX9ruBm"
      },
      "source": [
        "### Base de donné à partir d'un dataframe\n",
        "\n",
        "> Nous allons créer un fichier de base de donnée à partir du data frame **DF**\n",
        "\n",
        "'<table border=\"1\" class=\"dataframe\">  <thead>    <tr style=\"text-align: right;\">      <th></th>      <th>apples</th>      <th>oranges</th>    </tr>  </thead>  <tbody>    <tr>      <th>David</th>      <td>1</td>      <td>2</td>    </tr>    <tr>      <th>June</th>      <td>3</td>      <td>0</td>    </tr>    <tr>      <th>Lilly</th>      <td>0</td>      <td>7</td>    </tr>    <tr>      <th>Robert</th>      <td>2</td>      <td>3</td>    </tr>  </tbody></table>'\n"
      ]
    },
    {
      "cell_type": "markdown",
      "metadata": {
        "id": "VbqYiGLjruBn"
      },
      "source": [
        "#### Création du contexte"
      ]
    },
    {
      "cell_type": "code",
      "execution_count": null,
      "metadata": {
        "id": "XJ5inU8OruBn"
      },
      "outputs": [],
      "source": [
        "import sqlite3\n",
        "connection = sqlite3.connect('db.sqlite')\n",
        "cursor = connection.cursor()\n",
        "cursor.execute('Create Table if not exists purshases (id Text, apples Integer, oranges Integer)')\n",
        "connection.commit()\n"
      ]
    },
    {
      "cell_type": "markdown",
      "metadata": {
        "id": "q29Ql1sGruBo"
      },
      "source": [
        "#### Ingestion du dataframe Df dans la base de donnée"
      ]
    },
    {
      "cell_type": "code",
      "execution_count": null,
      "metadata": {
        "id": "hw6bipkpruBo"
      },
      "outputs": [],
      "source": [
        "DF.to_sql('purshases', connection, if_exists='replace', index = True)\n",
        "connection.close()"
      ]
    },
    {
      "cell_type": "code",
      "execution_count": null,
      "metadata": {
        "id": "4nc3xePzruBp"
      },
      "outputs": [],
      "source": [
        "con2=sqlite3.connect('db.sqlite')"
      ]
    },
    {
      "cell_type": "code",
      "execution_count": null,
      "metadata": {
        "id": "U_33WBbfruBq",
        "outputId": "b2b98947-7f06-4bec-e665-a8a29cb08f78"
      },
      "outputs": [
        {
          "data": {
            "text/html": [
              "<div>\n",
              "<style scoped>\n",
              "    .dataframe tbody tr th:only-of-type {\n",
              "        vertical-align: middle;\n",
              "    }\n",
              "\n",
              "    .dataframe tbody tr th {\n",
              "        vertical-align: top;\n",
              "    }\n",
              "\n",
              "    .dataframe thead th {\n",
              "        text-align: right;\n",
              "    }\n",
              "</style>\n",
              "<table border=\"1\" class=\"dataframe\">\n",
              "  <thead>\n",
              "    <tr style=\"text-align: right;\">\n",
              "      <th></th>\n",
              "      <th>index</th>\n",
              "      <th>apples</th>\n",
              "      <th>oranges</th>\n",
              "    </tr>\n",
              "  </thead>\n",
              "  <tbody>\n",
              "    <tr>\n",
              "      <th>0</th>\n",
              "      <td>David</td>\n",
              "      <td>1</td>\n",
              "      <td>2</td>\n",
              "    </tr>\n",
              "    <tr>\n",
              "      <th>1</th>\n",
              "      <td>June</td>\n",
              "      <td>3</td>\n",
              "      <td>0</td>\n",
              "    </tr>\n",
              "    <tr>\n",
              "      <th>2</th>\n",
              "      <td>Lilly</td>\n",
              "      <td>0</td>\n",
              "      <td>7</td>\n",
              "    </tr>\n",
              "    <tr>\n",
              "      <th>3</th>\n",
              "      <td>Robert</td>\n",
              "      <td>2</td>\n",
              "      <td>3</td>\n",
              "    </tr>\n",
              "  </tbody>\n",
              "</table>\n",
              "</div>"
            ],
            "text/plain": [
              "    index  apples  oranges\n",
              "0   David       1        2\n",
              "1    June       3        0\n",
              "2   Lilly       0        7\n",
              "3  Robert       2        3"
            ]
          },
          "execution_count": 10,
          "metadata": {},
          "output_type": "execute_result"
        }
      ],
      "source": [
        "df2 = pd.read_sql_query(\"SELECT * FROM purshases\", con2)\n",
        "\n",
        "df2"
      ]
    },
    {
      "cell_type": "markdown",
      "metadata": {
        "jupyter": {
          "outputs_hidden": false
        },
        "id": "N5DlpQAMruB1"
      },
      "source": [
        "##### Remarques \n",
        "\n",
        "* Pour l'installation des bibliothèques utilisé dans ce notebook :\n",
        "    * ``` !pip install pysqlite3 ```\n",
        "    * ``` !pip install <nom du package> ```"
      ]
    },
    {
      "cell_type": "markdown",
      "metadata": {
        "id": "EczjIqWCruB1"
      },
      "source": [
        "### Importer une database en dataframe"
      ]
    },
    {
      "cell_type": "code",
      "execution_count": null,
      "metadata": {
        "tags": [],
        "id": "JF1QRLu2ruB1"
      },
      "outputs": [],
      "source": [
        "con = sqlite3.connect(\"../data/sources/customer_sales.db\")"
      ]
    },
    {
      "cell_type": "markdown",
      "metadata": {
        "id": "IK0Qgd0aruB1"
      },
      "source": [
        "* Explorer les tablesde la base de donnée "
      ]
    },
    {
      "cell_type": "code",
      "execution_count": null,
      "metadata": {
        "id": "J8ROwJvjruB2"
      },
      "outputs": [],
      "source": [
        "cursor = con.cursor()\n",
        "cursor.execute(\"SELECT name FROM sqlite_master WHERE type='table';\")\n",
        "print(cursor.fetchall())"
      ]
    },
    {
      "cell_type": "code",
      "execution_count": null,
      "metadata": {
        "jupyter": {
          "outputs_hidden": false
        },
        "id": "F_8euZN7ruB2"
      },
      "outputs": [],
      "source": [
        "df = pd.read_sql_query(\"SELECT * FROM tbl_products\", con)\n",
        "\n",
        "df"
      ]
    },
    {
      "cell_type": "code",
      "execution_count": null,
      "metadata": {
        "jupyter": {
          "outputs_hidden": false
        },
        "id": "2ufnfBvBruB2"
      },
      "outputs": [],
      "source": [
        "df = df.set_index('Product_ID')\n",
        "\n",
        "df"
      ]
    },
    {
      "cell_type": "markdown",
      "metadata": {
        "id": "HKrEHw2DruB3"
      },
      "source": [
        "* Pour enrejistrer un dataframe en format ```csv```"
      ]
    },
    {
      "cell_type": "code",
      "execution_count": null,
      "metadata": {
        "jupyter": {
          "outputs_hidden": false
        },
        "id": "-SgK-oYTruB3"
      },
      "outputs": [],
      "source": [
        "df.to_csv('new_purchases.csv')"
      ]
    },
    {
      "cell_type": "markdown",
      "metadata": {
        "id": "eYP8f_HsruB3"
      },
      "source": [
        "## From CSV to DataFrame\n",
        "\n",
        "- Dans cette partie nous allons:\n",
        "    * Explorer le fichier CSV **`IMDB-Movie-Data.csv`**\n",
        "    * Voir l'utilité des méthodes `.head()` , `tail()`,`.info()`, `.shape`, `.append()`, ...\n",
        "    * Appliquer quelques transformations au dataframe\n",
        "    * Calculer quelques informations statistiques\n",
        " \n",
        " \n",
        " Essayer de décrire l'utilité de chaque opération et transformation :\n",
        "\n"
      ]
    },
    {
      "cell_type": "code",
      "execution_count": null,
      "metadata": {
        "jupyter": {
          "outputs_hidden": false
        },
        "id": "0zgAUaTZruB3"
      },
      "outputs": [],
      "source": [
        "movies_df = pd.read_csv(\"../data/sources/IMDB-Movie-Data.txt\", index_col=\"Title\")"
      ]
    },
    {
      "cell_type": "code",
      "execution_count": null,
      "metadata": {
        "jupyter": {
          "outputs_hidden": false
        },
        "id": "vlHdyderruB4"
      },
      "outputs": [],
      "source": [
        "movies_df.head(3)\n",
        "# .head affiche les 5 premier lignes d'un data frame"
      ]
    },
    {
      "cell_type": "code",
      "execution_count": null,
      "metadata": {
        "jupyter": {
          "outputs_hidden": false
        },
        "id": "TrhT4cAGruB4"
      },
      "outputs": [],
      "source": [
        "movies_df.tail(2)"
      ]
    },
    {
      "cell_type": "code",
      "execution_count": null,
      "metadata": {
        "jupyter": {
          "outputs_hidden": false
        },
        "id": "siVxZYNLruB4"
      },
      "outputs": [],
      "source": [
        "movies_df.info()"
      ]
    },
    {
      "cell_type": "code",
      "execution_count": null,
      "metadata": {
        "id": "V4KoKvV_ruB4"
      },
      "outputs": [],
      "source": [
        "x= int(input(' donner une valeur '))"
      ]
    },
    {
      "cell_type": "code",
      "execution_count": null,
      "metadata": {
        "id": "w25E2WQDruB5"
      },
      "outputs": [],
      "source": [
        "type(x)"
      ]
    },
    {
      "cell_type": "code",
      "execution_count": null,
      "metadata": {
        "jupyter": {
          "outputs_hidden": false
        },
        "id": "IwubQoytruB5"
      },
      "outputs": [],
      "source": [
        "movies_df.shape"
      ]
    },
    {
      "cell_type": "code",
      "execution_count": null,
      "metadata": {
        "jupyter": {
          "outputs_hidden": false
        },
        "id": "A5WNcx0JruB5"
      },
      "outputs": [],
      "source": [
        "temp_df = movies_df.append(movies_df)\n",
        "\n",
        "temp_df.shape"
      ]
    },
    {
      "cell_type": "code",
      "execution_count": null,
      "metadata": {
        "jupyter": {
          "outputs_hidden": false
        },
        "id": "VkKwQPQUruB5"
      },
      "outputs": [],
      "source": [
        "temp_df = temp_df.drop_duplicates()\n",
        "\n",
        "temp_df.shape"
      ]
    },
    {
      "cell_type": "code",
      "execution_count": null,
      "metadata": {
        "id": "W-Z6PfKQruB6"
      },
      "outputs": [],
      "source": [
        "temp_df.drop_duplicates(inplace=True)"
      ]
    },
    {
      "cell_type": "code",
      "execution_count": null,
      "metadata": {
        "jupyter": {
          "outputs_hidden": false
        },
        "id": "UIFYCiTdruB6"
      },
      "outputs": [],
      "source": [
        "temp_df = movies_df.append(movies_df)  # make a new copy\n",
        "\n",
        "temp_df.drop_duplicates(inplace=True)\n",
        "\n",
        "temp_df.shape"
      ]
    },
    {
      "cell_type": "code",
      "execution_count": null,
      "metadata": {
        "jupyter": {
          "outputs_hidden": false
        },
        "id": "Vm7DS8ndruB6"
      },
      "outputs": [],
      "source": [
        "movies_df.columns"
      ]
    },
    {
      "cell_type": "code",
      "execution_count": null,
      "metadata": {
        "jupyter": {
          "outputs_hidden": false
        },
        "id": "M_Rfn8BUruB6"
      },
      "outputs": [],
      "source": [
        "movies_df.rename(columns={\n",
        "        'Runtime (Minutes)': 'Runtime', \n",
        "        'Revenue (Millions)': 'Revenue_millions'\n",
        "    }, inplace=True)\n",
        "\n",
        "\n",
        "movies_df.columns"
      ]
    },
    {
      "cell_type": "code",
      "execution_count": null,
      "metadata": {
        "jupyter": {
          "outputs_hidden": false
        },
        "id": "HMZ-R66zruB7"
      },
      "outputs": [],
      "source": [
        "movies_df.columns = ['Rank', 'genre', 'description', 'director', 'actors', 'year', 'runtime', \n",
        "                     'rating', 'votes', 'revenue_millions', 'metascore']\n",
        "\n",
        "\n",
        "movies_df.columns"
      ]
    },
    {
      "cell_type": "code",
      "execution_count": null,
      "metadata": {
        "jupyter": {
          "outputs_hidden": false
        },
        "id": "rLAUG2YhruB7"
      },
      "outputs": [],
      "source": [
        "movies_df.columns = [col.lower() for col in movies_df]\n",
        "\n",
        "movies_df.columns"
      ]
    },
    {
      "cell_type": "code",
      "execution_count": null,
      "metadata": {
        "jupyter": {
          "outputs_hidden": false
        },
        "id": "S488oEQgruB7"
      },
      "outputs": [],
      "source": [
        "movies_df.isnull().sum()"
      ]
    },
    {
      "cell_type": "code",
      "execution_count": null,
      "metadata": {
        "jupyter": {
          "outputs_hidden": false
        },
        "id": "uC5mgjKQruB7"
      },
      "outputs": [],
      "source": [
        "movies_df.isnull().sum()"
      ]
    },
    {
      "cell_type": "code",
      "execution_count": null,
      "metadata": {
        "jupyter": {
          "outputs_hidden": false
        },
        "id": "bdeH800gruB8"
      },
      "outputs": [],
      "source": [
        "movies_df.dropna().info()\n"
      ]
    },
    {
      "cell_type": "code",
      "execution_count": null,
      "metadata": {
        "jupyter": {
          "outputs_hidden": false
        },
        "id": "_xXeNR-KruB8"
      },
      "outputs": [],
      "source": [
        "movies_df.dropna(axis=0).info()"
      ]
    },
    {
      "cell_type": "code",
      "execution_count": null,
      "metadata": {
        "id": "c7aGWDonruB8"
      },
      "outputs": [],
      "source": [
        "revenue = movies_df['revenue_millions']"
      ]
    },
    {
      "cell_type": "code",
      "execution_count": null,
      "metadata": {
        "jupyter": {
          "outputs_hidden": false
        },
        "id": "FFUt9dY1ruB8"
      },
      "outputs": [],
      "source": [
        "revenue.head()"
      ]
    },
    {
      "cell_type": "code",
      "execution_count": null,
      "metadata": {
        "jupyter": {
          "outputs_hidden": false
        },
        "id": "PhbkENJaruB9"
      },
      "outputs": [],
      "source": [
        "revenue_mean = revenue.mean()\n",
        "\n",
        "revenue_mean"
      ]
    },
    {
      "cell_type": "code",
      "execution_count": null,
      "metadata": {
        "id": "ALdiLRCBruB9"
      },
      "outputs": [],
      "source": [
        "revenue_std = revenue.std()\n",
        "\n",
        "revenue_std"
      ]
    },
    {
      "cell_type": "code",
      "execution_count": null,
      "metadata": {
        "id": "Ceitgv1SruB9"
      },
      "outputs": [],
      "source": [
        "revenue.fillna(revenue_mean, inplace=True)"
      ]
    },
    {
      "cell_type": "code",
      "execution_count": null,
      "metadata": {
        "jupyter": {
          "outputs_hidden": false
        },
        "id": "RxKel0t3ruB9"
      },
      "outputs": [],
      "source": [
        "movies_df.isnull().sum()"
      ]
    },
    {
      "cell_type": "code",
      "execution_count": null,
      "metadata": {
        "jupyter": {
          "outputs_hidden": false
        },
        "id": "AvHKffPNruB9"
      },
      "outputs": [],
      "source": [
        "movies_df.describe()"
      ]
    },
    {
      "cell_type": "code",
      "execution_count": null,
      "metadata": {
        "jupyter": {
          "outputs_hidden": false
        },
        "id": "ZUhUu0jhruB-"
      },
      "outputs": [],
      "source": [
        "movies_df.sort_values(by='rank')"
      ]
    },
    {
      "cell_type": "code",
      "execution_count": null,
      "metadata": {
        "jupyter": {
          "outputs_hidden": false
        },
        "id": "xjGM9iTIruB-"
      },
      "outputs": [],
      "source": [
        "movies_df.sort_index(1)"
      ]
    },
    {
      "cell_type": "code",
      "execution_count": null,
      "metadata": {
        "id": "mN0nqcDRruB-"
      },
      "outputs": [],
      "source": [
        "#https://www.learndatasci.com/tutorials/python-pandas-tutorial-complete-introduction-for-beginners/"
      ]
    },
    {
      "cell_type": "code",
      "execution_count": null,
      "metadata": {
        "id": "9gpNAQgsruB-"
      },
      "outputs": [],
      "source": [
        "movies_df.boxplot('revenue_millions')"
      ]
    },
    {
      "cell_type": "code",
      "execution_count": null,
      "metadata": {
        "id": "qNq_n_4gruB_"
      },
      "outputs": [],
      "source": []
    },
    {
      "cell_type": "markdown",
      "metadata": {
        "id": "4KXqrZCIruB_"
      },
      "source": [
        "\n",
        "* Affichage\n",
        "\n",
        "|Méthode/Attribut|descrption|\n",
        "|----------------|----------|\n",
        "|**df.head(n)**| Affiche les n premières lignes|\n",
        "|**df.head()**| Affiche les 5 premières lignes|\n",
        "|**df.tail(n)**| Affiche les n dérnières lignes|\n",
        "|**df.tail()**| Affiche les 5 dérnières lignes|\n",
        "|**df.shape**| Affiche la dimension du DataFrame|\n",
        "\n",
        "* statistiques\n",
        "  \n",
        "    * df.describe : les valeurs statistiques du DataFrame\n",
        "    * df.box_plot(\" le nom de la colonne') : Affiche le box plot\n",
        "\n",
        "\n",
        "\n",
        "$$\\sum_{k=1}^{\\infty}\\frac{1}{n^2}=\\frac{\\pi^2}{6}$$\n"
      ]
    },
    {
      "cell_type": "markdown",
      "metadata": {
        "id": "sRrHrRVKruB_"
      },
      "source": []
    }
  ],
  "metadata": {
    "kernelspec": {
      "display_name": "Python 3.9.13 ('base')",
      "language": "python",
      "name": "python3"
    },
    "language_info": {
      "codemirror_mode": {
        "name": "ipython",
        "version": 3
      },
      "file_extension": ".py",
      "mimetype": "text/x-python",
      "name": "python",
      "nbconvert_exporter": "python",
      "pygments_lexer": "ipython3",
      "version": "3.9.13"
    },
    "vscode": {
      "interpreter": {
        "hash": "dd2f083c7091592f6e910b42e81e3d9326587f6134c1427a9ed8e8691fd16a23"
      }
    },
    "colab": {
      "provenance": [],
      "include_colab_link": true
    }
  },
  "nbformat": 4,
  "nbformat_minor": 0
}